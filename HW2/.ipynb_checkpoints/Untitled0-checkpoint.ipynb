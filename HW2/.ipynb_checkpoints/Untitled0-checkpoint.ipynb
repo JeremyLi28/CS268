{
 "metadata": {
  "name": "",
  "signature": "sha256:daa96e440840d804632d58ad9fb764e3f898e859e616896abe5a73c1a7891ff9"
 },
 "nbformat": 3,
 "nbformat_minor": 0,
 "worksheets": [
  {
   "cells": [
    {
     "cell_type": "code",
     "collapsed": false,
     "input": [
      "# -*- coding: utf-8 -*-\n",
      "import numpy as np\n",
      "import pandas as pd\n",
      "from pandas import Series, DataFrame\n",
      "import matplotlib.pyplot as plt\n",
      "import time\n",
      "from math import e\n",
      "import math\n"
     ],
     "language": "python",
     "metadata": {},
     "outputs": [],
     "prompt_number": 1
    },
    {
     "cell_type": "code",
     "collapsed": false,
     "input": [
      "from sympy import *"
     ],
     "language": "python",
     "metadata": {},
     "outputs": [],
     "prompt_number": 2
    },
    {
     "cell_type": "code",
     "collapsed": false,
     "input": [
      "x1 = Symbol('x1')"
     ],
     "language": "python",
     "metadata": {},
     "outputs": [],
     "prompt_number": 67
    },
    {
     "cell_type": "code",
     "collapsed": false,
     "input": [
      "y1 = x1**2 + 1"
     ],
     "language": "python",
     "metadata": {},
     "outputs": [],
     "prompt_number": 68
    },
    {
     "cell_type": "code",
     "collapsed": false,
     "input": [
      " yprime = y1.diff(x1)"
     ],
     "language": "python",
     "metadata": {},
     "outputs": [],
     "prompt_number": 69
    },
    {
     "cell_type": "code",
     "collapsed": false,
     "input": [
      "yprime"
     ],
     "language": "python",
     "metadata": {},
     "outputs": [
      {
       "metadata": {},
       "output_type": "pyout",
       "prompt_number": 70,
       "text": [
        "2*x1"
       ]
      }
     ],
     "prompt_number": 70
    },
    {
     "cell_type": "code",
     "collapsed": false,
     "input": [
      "f = lambdify(x, yprime, 'numpy')"
     ],
     "language": "python",
     "metadata": {},
     "outputs": [],
     "prompt_number": 7
    },
    {
     "cell_type": "code",
     "collapsed": false,
     "input": [
      "f(np.ones(5))"
     ],
     "language": "python",
     "metadata": {},
     "outputs": [
      {
       "metadata": {},
       "output_type": "pyout",
       "prompt_number": 8,
       "text": [
        "array([ 2.,  2.,  2.,  2.,  2.])"
       ]
      }
     ],
     "prompt_number": 8
    },
    {
     "cell_type": "code",
     "collapsed": false,
     "input": [
      "x = Symbol('x')\n",
      "y = Symbol('y')\n",
      "f_rb = (1-x)**2 + 100*(y-x**2)**2"
     ],
     "language": "python",
     "metadata": {},
     "outputs": [],
     "prompt_number": 13
    },
    {
     "cell_type": "code",
     "collapsed": false,
     "input": [
      "f_rb_prime = f_rb.diff(x,y)"
     ],
     "language": "python",
     "metadata": {},
     "outputs": [],
     "prompt_number": 22
    },
    {
     "cell_type": "code",
     "collapsed": false,
     "input": [
      "f_rb_prime"
     ],
     "language": "python",
     "metadata": {},
     "outputs": [
      {
       "metadata": {},
       "output_type": "pyout",
       "prompt_number": 23,
       "text": [
        "-400*x"
       ]
      }
     ],
     "prompt_number": 23
    },
    {
     "cell_type": "code",
     "collapsed": false,
     "input": [
      "f = lambdify((x,y),f_rb_prime,'numpy')"
     ],
     "language": "python",
     "metadata": {},
     "outputs": [],
     "prompt_number": 26
    },
    {
     "cell_type": "code",
     "collapsed": false,
     "input": [
      "f(1,1)"
     ],
     "language": "python",
     "metadata": {},
     "outputs": [
      {
       "metadata": {},
       "output_type": "pyout",
       "prompt_number": 27,
       "text": [
        "-400"
       ]
      }
     ],
     "prompt_number": 27
    },
    {
     "cell_type": "code",
     "collapsed": false,
     "input": [
      "ff = x+2*y"
     ],
     "language": "python",
     "metadata": {},
     "outputs": [],
     "prompt_number": 41
    },
    {
     "cell_type": "code",
     "collapsed": false,
     "input": [
      "ff_prime = ff.diff(x,y)"
     ],
     "language": "python",
     "metadata": {},
     "outputs": [],
     "prompt_number": 35
    },
    {
     "cell_type": "code",
     "collapsed": false,
     "input": [
      "ff_prime"
     ],
     "language": "python",
     "metadata": {},
     "outputs": [
      {
       "metadata": {},
       "output_type": "pyout",
       "prompt_number": 36,
       "text": [
        "0"
       ]
      }
     ],
     "prompt_number": 36
    },
    {
     "cell_type": "code",
     "collapsed": false,
     "input": [
      "x"
     ],
     "language": "python",
     "metadata": {},
     "outputs": [
      {
       "metadata": {},
       "output_type": "pyout",
       "prompt_number": 37,
       "text": [
        "x"
       ]
      }
     ],
     "prompt_number": 37
    },
    {
     "cell_type": "code",
     "collapsed": false,
     "input": [
      "y"
     ],
     "language": "python",
     "metadata": {},
     "outputs": [
      {
       "metadata": {},
       "output_type": "pyout",
       "prompt_number": 38,
       "text": [
        "y"
       ]
      }
     ],
     "prompt_number": 38
    },
    {
     "cell_type": "code",
     "collapsed": false,
     "input": [
      "[ff.diff(x),ff.diff(y)]"
     ],
     "language": "python",
     "metadata": {},
     "outputs": [
      {
       "metadata": {},
       "output_type": "pyout",
       "prompt_number": 44,
       "text": [
        "[1, 2]"
       ]
      }
     ],
     "prompt_number": 44
    },
    {
     "cell_type": "code",
     "collapsed": false,
     "input": [
      "m=Matrix(symbols('a b c d'))\n"
     ],
     "language": "python",
     "metadata": {},
     "outputs": [],
     "prompt_number": 47
    },
    {
     "cell_type": "code",
     "collapsed": false,
     "input": [
      "m"
     ],
     "language": "python",
     "metadata": {},
     "outputs": [
      {
       "metadata": {},
       "output_type": "pyout",
       "prompt_number": 48,
       "text": [
        "Matrix([\n",
        "[a],\n",
        "[b],\n",
        "[c],\n",
        "[d]])"
       ]
      }
     ],
     "prompt_number": 48
    },
    {
     "cell_type": "code",
     "collapsed": false,
     "input": [
      "[diff(sum(m*m.T), i) for i in m]\n"
     ],
     "language": "python",
     "metadata": {},
     "outputs": [
      {
       "metadata": {},
       "output_type": "pyout",
       "prompt_number": 49,
       "text": [
        "[2*a + 2*b + 2*c + 2*d,\n",
        " 2*a + 2*b + 2*c + 2*d,\n",
        " 2*a + 2*b + 2*c + 2*d,\n",
        " 2*a + 2*b + 2*c + 2*d]"
       ]
      }
     ],
     "prompt_number": 49
    },
    {
     "cell_type": "code",
     "collapsed": false,
     "input": [
      "np.random.randn(2)"
     ],
     "language": "python",
     "metadata": {},
     "outputs": [
      {
       "metadata": {},
       "output_type": "pyout",
       "prompt_number": 72,
       "text": [
        "array([-0.30652067,  1.31576516])"
       ]
      }
     ],
     "prompt_number": 72
    },
    {
     "cell_type": "code",
     "collapsed": false,
     "input": [
      "dim = 2\n",
      "x = [Symbol('x'+str(i)) for i in range(dim)]\n",
      "f_rb = (1-x[0])**2 + 100*(x[1]-x[0]**2)**2"
     ],
     "language": "python",
     "metadata": {},
     "outputs": [],
     "prompt_number": 77
    },
    {
     "cell_type": "code",
     "collapsed": false,
     "input": [
      "x0 = np.random.randn(dim)\n",
      "fprime = [f_rb.diff(x[i]) for i in range(dim)]"
     ],
     "language": "python",
     "metadata": {},
     "outputs": [],
     "prompt_number": 78
    },
    {
     "cell_type": "code",
     "collapsed": false,
     "input": [
      "fprime"
     ],
     "language": "python",
     "metadata": {},
     "outputs": [
      {
       "metadata": {},
       "output_type": "pyout",
       "prompt_number": 79,
       "text": [
        "[-400*x0*(-x0**2 + x1) + 2*x0 - 2, -200*x0**2 + 200*x1]"
       ]
      }
     ],
     "prompt_number": 79
    },
    {
     "cell_type": "code",
     "collapsed": false,
     "input": [
      "f=lambdify(x[:dim],fprime,'numpy')"
     ],
     "language": "python",
     "metadata": {},
     "outputs": [],
     "prompt_number": 85
    },
    {
     "cell_type": "code",
     "collapsed": false,
     "input": [
      "f(*t)"
     ],
     "language": "python",
     "metadata": {},
     "outputs": [
      {
       "ename": "AttributeError",
       "evalue": "'list' object has no attribute 'abs'",
       "output_type": "pyerr",
       "traceback": [
        "\u001b[0;31m---------------------------------------------------------------------------\u001b[0m\n\u001b[0;31mAttributeError\u001b[0m                            Traceback (most recent call last)",
        "\u001b[0;32m<ipython-input-94-23ab2a37b688>\u001b[0m in \u001b[0;36m<module>\u001b[0;34m()\u001b[0m\n\u001b[0;32m----> 1\u001b[0;31m \u001b[0mf\u001b[0m\u001b[0;34m(\u001b[0m\u001b[0;34m*\u001b[0m\u001b[0mt\u001b[0m\u001b[0;34m)\u001b[0m\u001b[0;34m.\u001b[0m\u001b[0mabs\u001b[0m\u001b[0;34m(\u001b[0m\u001b[0;34m)\u001b[0m\u001b[0;34m\u001b[0m\u001b[0m\n\u001b[0m",
        "\u001b[0;31mAttributeError\u001b[0m: 'list' object has no attribute 'abs'"
       ]
      }
     ],
     "prompt_number": 94
    },
    {
     "cell_type": "code",
     "collapsed": false,
     "input": [
      "t=np.array([1,1,1])"
     ],
     "language": "python",
     "metadata": {},
     "outputs": [],
     "prompt_number": 101
    },
    {
     "cell_type": "code",
     "collapsed": false,
     "input": [
      "abs(t)"
     ],
     "language": "python",
     "metadata": {},
     "outputs": [
      {
       "metadata": {},
       "output_type": "pyout",
       "prompt_number": 102,
       "text": [
        "array([1, 1, 1])"
       ]
      }
     ],
     "prompt_number": 102
    },
    {
     "cell_type": "code",
     "collapsed": false,
     "input": [
      "np.linalg.norm([1,1])"
     ],
     "language": "python",
     "metadata": {},
     "outputs": [
      {
       "metadata": {},
       "output_type": "pyout",
       "prompt_number": 104,
       "text": [
        "1.4142135623730951"
       ]
      }
     ],
     "prompt_number": 104
    },
    {
     "cell_type": "code",
     "collapsed": false,
     "input": [
      "y = x[0]+2*x[1]"
     ],
     "language": "python",
     "metadata": {},
     "outputs": [],
     "prompt_number": 107
    },
    {
     "cell_type": "code",
     "collapsed": false,
     "input": [
      "y"
     ],
     "language": "python",
     "metadata": {},
     "outputs": [
      {
       "metadata": {},
       "output_type": "pyout",
       "prompt_number": 108,
       "text": [
        "x0 + 2*x1"
       ]
      }
     ],
     "prompt_number": 108
    },
    {
     "cell_type": "code",
     "collapsed": false,
     "input": [
      "f = lambdify(x,y,'numpy')"
     ],
     "language": "python",
     "metadata": {},
     "outputs": [],
     "prompt_number": 110
    },
    {
     "cell_type": "code",
     "collapsed": false,
     "input": [
      "f(1,1)"
     ],
     "language": "python",
     "metadata": {},
     "outputs": [
      {
       "metadata": {},
       "output_type": "pyout",
       "prompt_number": 113,
       "text": [
        "3"
       ]
      }
     ],
     "prompt_number": 113
    },
    {
     "cell_type": "code",
     "collapsed": false,
     "input": [
      "y"
     ],
     "language": "python",
     "metadata": {},
     "outputs": [
      {
       "metadata": {},
       "output_type": "pyout",
       "prompt_number": 114,
       "text": [
        "x0 + 2*x1"
       ]
      }
     ],
     "prompt_number": 114
    },
    {
     "cell_type": "code",
     "collapsed": false,
     "input": [
      "x0 = Symbol('x0')"
     ],
     "language": "python",
     "metadata": {},
     "outputs": [],
     "prompt_number": 120
    },
    {
     "cell_type": "code",
     "collapsed": false,
     "input": [
      "x1 = Symbol('x1')"
     ],
     "language": "python",
     "metadata": {},
     "outputs": [],
     "prompt_number": 121
    },
    {
     "cell_type": "code",
     "collapsed": false,
     "input": [
      "y= x0+2*x1"
     ],
     "language": "python",
     "metadata": {},
     "outputs": [],
     "prompt_number": 122
    },
    {
     "cell_type": "code",
     "collapsed": false,
     "input": [
      "y"
     ],
     "language": "python",
     "metadata": {},
     "outputs": [
      {
       "metadata": {},
       "output_type": "pyout",
       "prompt_number": 123,
       "text": [
        "x0 + 2*x1"
       ]
      }
     ],
     "prompt_number": 123
    },
    {
     "cell_type": "code",
     "collapsed": false,
     "input": [
      "f=lambdify((x0,x1),y,'numpy')"
     ],
     "language": "python",
     "metadata": {},
     "outputs": [],
     "prompt_number": 124
    },
    {
     "cell_type": "code",
     "collapsed": false,
     "input": [],
     "language": "python",
     "metadata": {},
     "outputs": [
      {
       "metadata": {},
       "output_type": "pyout",
       "prompt_number": 128,
       "text": [
        "2*x0"
       ]
      }
     ],
     "prompt_number": 128
    },
    {
     "cell_type": "code",
     "collapsed": false,
     "input": [
      "ff = lambdify((x0_p,x1),y,'numpy')"
     ],
     "language": "python",
     "metadata": {},
     "outputs": [
      {
       "ename": "SyntaxError",
       "evalue": "invalid syntax (<string>, line 1)",
       "output_type": "pyerr",
       "traceback": [
        "\u001b[0;36m  File \u001b[0;32m\"<string>\"\u001b[0;36m, line \u001b[0;32m1\u001b[0m\n\u001b[0;31m    lambda 2*x0,x1: (x0 + 2*x1)\u001b[0m\n\u001b[0m           ^\u001b[0m\n\u001b[0;31mSyntaxError\u001b[0m\u001b[0;31m:\u001b[0m invalid syntax\n"
       ]
      }
     ],
     "prompt_number": 129
    },
    {
     "cell_type": "code",
     "collapsed": false,
     "input": [
      "f(1,1)"
     ],
     "language": "python",
     "metadata": {},
     "outputs": [
      {
       "metadata": {},
       "output_type": "pyout",
       "prompt_number": 132,
       "text": [
        "3"
       ]
      }
     ],
     "prompt_number": 132
    },
    {
     "cell_type": "code",
     "collapsed": false,
     "input": [
      "f(1,2)"
     ],
     "language": "python",
     "metadata": {},
     "outputs": [
      {
       "metadata": {},
       "output_type": "pyout",
       "prompt_number": 161,
       "text": [
        "5"
       ]
      }
     ],
     "prompt_number": 161
    },
    {
     "cell_type": "code",
     "collapsed": false,
     "input": [
      "reload(hw2)\n",
      "from hw2 import *"
     ],
     "language": "python",
     "metadata": {},
     "outputs": [],
     "prompt_number": 10
    },
    {
     "cell_type": "code",
     "collapsed": false,
     "input": [
      "x = [Symbol('x'+str(i)) for i in range(2)]\n",
      "y = x[0]**2 + x[1]**2\n",
      "f = lambdify(x,y,'numpy')"
     ],
     "language": "python",
     "metadata": {},
     "outputs": [],
     "prompt_number": 4
    },
    {
     "cell_type": "code",
     "collapsed": false,
     "input": [
      "SteepestDescent(f,x,y,2)"
     ],
     "language": "python",
     "metadata": {},
     "outputs": [
      {
       "output_type": "stream",
       "stream": "stdout",
       "text": [
        "[ 2.07709958  0.91909287] 5.1590743658 0\n",
        "[ 0.00133041  0.00058869] 2.11654013307e-06 1\n",
        "[ 0.00185846  0.00082235] 4.13012062974e-06 2\n",
        "[ 0.0014768   0.00065347] 2.607942669e-06 3\n",
        "[-0.00163114 -0.00072176] 3.18156033605e-06 4\n",
        "[-0.00060517 -0.00026778] 4.37943964421e-07 5\n",
        "[ 0.00101903  0.00045091] 1.24174869701e-06 6\n",
        "[-0.00339515 -0.00150231] 1.37839664433e-05 7\n",
        "[ 0.00031984  0.00014152] 1.22324678696e-07 8\n",
        "[  3.85218269e-05   1.70454689e-05] 1.77447915314e-09 9\n"
       ]
      },
      {
       "metadata": {},
       "output_type": "pyout",
       "prompt_number": 200,
       "text": [
        "(array([  3.85218269e-05,   1.70454689e-05]), 1.7744791531408978e-09)"
       ]
      }
     ],
     "prompt_number": 200
    },
    {
     "cell_type": "code",
     "collapsed": false,
     "input": [
      "g_k = [-0.12429122664786318, -1.4743758949802712]"
     ],
     "language": "python",
     "metadata": {},
     "outputs": [],
     "prompt_number": 176
    },
    {
     "cell_type": "code",
     "collapsed": false,
     "input": [
      "d_k = -g_k/np.linalg.norm(g_k)"
     ],
     "language": "python",
     "metadata": {},
     "outputs": [
      {
       "ename": "TypeError",
       "evalue": "bad operand type for unary -: 'list'",
       "output_type": "pyerr",
       "traceback": [
        "\u001b[0;31m---------------------------------------------------------------------------\u001b[0m\n\u001b[0;31mTypeError\u001b[0m                                 Traceback (most recent call last)",
        "\u001b[0;32m<ipython-input-177-8b815e0a92cc>\u001b[0m in \u001b[0;36m<module>\u001b[0;34m()\u001b[0m\n\u001b[0;32m----> 1\u001b[0;31m \u001b[0md_k\u001b[0m \u001b[0;34m=\u001b[0m \u001b[0;34m-\u001b[0m\u001b[0mg_k\u001b[0m\u001b[0;34m/\u001b[0m\u001b[0mnp\u001b[0m\u001b[0;34m.\u001b[0m\u001b[0mlinalg\u001b[0m\u001b[0;34m.\u001b[0m\u001b[0mnorm\u001b[0m\u001b[0;34m(\u001b[0m\u001b[0mg_k\u001b[0m\u001b[0;34m)\u001b[0m\u001b[0;34m\u001b[0m\u001b[0m\n\u001b[0m",
        "\u001b[0;31mTypeError\u001b[0m: bad operand type for unary -: 'list'"
       ]
      }
     ],
     "prompt_number": 177
    },
    {
     "cell_type": "code",
     "collapsed": false,
     "input": [
      "np.array(g_k)/2"
     ],
     "language": "python",
     "metadata": {},
     "outputs": [
      {
       "metadata": {},
       "output_type": "pyout",
       "prompt_number": 178,
       "text": [
        "array([-0.06214561, -0.73718795])"
       ]
      }
     ],
     "prompt_number": 178
    },
    {
     "cell_type": "code",
     "collapsed": false,
     "input": [
      "x_rb = [Symbol('x'+str(i)) for i in range(2)]\n",
      "y_rb = (1-x_rb[0])**2 + 100*(x_rb[1]-x_rb[0]**2)**2\n",
      "RosenBrock = lambdify(x_rb,y_rb,'numpy')"
     ],
     "language": "python",
     "metadata": {},
     "outputs": [],
     "prompt_number": 5
    },
    {
     "cell_type": "code",
     "collapsed": false,
     "input": [
      "np.dot?"
     ],
     "language": "python",
     "metadata": {},
     "outputs": [],
     "prompt_number": 193
    },
    {
     "cell_type": "code",
     "collapsed": false,
     "input": [
      "\n",
      "ConjugateGradient(RosenBrock,x_rb,y_rb,1,1e-6)"
     ],
     "language": "python",
     "metadata": {},
     "outputs": [
      {
       "output_type": "stream",
       "stream": "stdout",
       "text": [
        "====outer===\n",
        "[-0.65505324, -0.89369433] 177.716295512 0\n",
        "====inner===\n",
        "[ 0.38789339 -0.10514739] 6.90825394883\n",
        "====outer===\n",
        "[ 0.38789339 -0.10514739] 6.90825394883 1\n",
        "====inner===\n",
        "[-1.58117473  2.51385233] 6.68133846424\n",
        "====outer===\n",
        "[-1.58117473  2.51385233] 6.68133846424 2\n",
        "====inner===\n",
        "[-1.58292738  2.51248691] 6.67617576052\n",
        "====outer===\n",
        "[-1.58292738  2.51248691] 6.67617576052 3\n",
        "====inner===\n",
        "[-0.02876783 -0.00604278] 1.06308344879\n",
        "====outer===\n",
        "[-0.02876783 -0.00604278] 1.06308344879 4\n",
        "====inner===\n",
        "[ 0.66861916  0.4424565 ] 0.111924733343\n",
        "====outer===\n",
        "[ 0.66861916  0.4424565 ] 0.111924733343 5\n",
        "====inner===\n",
        "[-2.28652619  5.23920116] 10.8133525186\n",
        "Bad\n",
        "10.8133525186 0.111924733343\n",
        "10.8133525186\n",
        "====outer===\n",
        "[-2.28652619  5.23920116] 10.8133525186 6\n",
        "====inner===\n",
        "[ 2.91880154  8.52316895] 3.68321801934\n",
        "====outer===\n",
        "[ 2.91880154  8.52316895] 3.68321801934 7\n",
        "====inner===\n",
        "[ -4.26370269  18.1866916 ] 27.7122375682\n",
        "Bad\n",
        "27.7122375682 3.68321801934\n",
        "3.68321258893\n",
        "====outer===\n",
        "[ 2.91895547  8.52316895] 3.68321258893 8\n",
        "====inner===\n",
        "[ 2.91870749  8.5228783 ] 3.68305840513\n",
        "====outer===\n",
        "[ 2.91870749  8.5228783 ] 3.68305840513 9\n",
        "====inner===\n",
        "[ 2.91886608  8.52273013] 3.68291783766\n",
        "====outer===\n",
        "[ 2.91886608  8.52273013] 3.68291783766 10\n",
        "====inner===\n",
        "[-1.41413602  2.00528198] 5.83107914677\n",
        "Bad\n",
        "5.83107914677 3.68291783766\n",
        "3.68321079615\n",
        "====outer===\n",
        "[ 2.91850972  8.52273013] 3.68321079615 11\n",
        "====inner===\n",
        "[ 2.9188197   8.52257696] 3.68281062283\n",
        "====outer===\n",
        "[ 2.9188197   8.52257696] 3.68281062283 12\n",
        "====inner===\n",
        "[ 2.91807678  8.52078941] 3.68217394905\n",
        "====outer===\n",
        "[ 2.91807678  8.52078941] 3.68217394905 13\n",
        "====inner===\n",
        "[ 2.91845105  8.52063485] 3.68152917049\n",
        "====outer===\n",
        "[ 2.91845105  8.52063485] 3.68152917049 14\n",
        "====inner===\n",
        "[ 2.91838863  8.51648466]"
       ]
      },
      {
       "output_type": "stream",
       "stream": "stdout",
       "text": [
        " 3.680240715\n",
        "====outer===\n",
        "[ 2.91838863  8.51648466] 3.680240715 15\n",
        "====inner===\n",
        "[ 2.91779707  8.51649821] 3.67882085708\n",
        "====outer===\n",
        "[ 2.91779707  8.51649821] 3.67882085708 16\n",
        "====inner===\n",
        "[-1.3710967   1.88544388] 5.62516619201\n",
        "Bad\n",
        "5.62516619201 3.67882085708\n",
        "5.62516619201\n",
        "====outer===\n",
        "[-1.3710967   1.88544388] 5.62516619201 17\n",
        "====inner===\n",
        "[-1.36832293  1.88364218] 5.62180067719\n",
        "====outer===\n",
        "[-1.36832293  1.88364218] 5.62180067719 18\n",
        "====inner===\n",
        "[ 2.91517997  8.50244082] 3.66965034258\n",
        "====outer===\n",
        "[ 2.91517997  8.50244082] 3.66965034258 19\n",
        "====inner===\n",
        "[ 2.91536937  8.50228731] 3.66948590575\n",
        "====outer===\n",
        "[ 2.91536937  8.50228731] 3.66948590575 20\n",
        "====inner===\n",
        "[ 2.91505869  8.50187533] 3.66930580798\n",
        "====outer===\n",
        "[ 2.91505869  8.50187533] 3.66930580798 21\n",
        "====inner===\n",
        "[ -3.63664695  13.23263315] 21.504018568\n",
        "Bad\n",
        "21.504018568 3.66930580798\n",
        "3.66921208333\n",
        "====outer===\n",
        "[ 2.91529107  8.50187533] 3.66921208333 22\n",
        "====inner===\n",
        "[ 2.91502946  8.50147573] 3.66900163845\n",
        "====outer===\n",
        "[ 2.91502946  8.50147573] 3.66900163845 23\n",
        "====inner===\n",
        "[ 2.91523286  8.50129655] 3.66885344856\n",
        "====outer===\n",
        "[ 2.91523286  8.50129655] 3.66885344856 24\n",
        "====inner===\n",
        "[ 2.91504849  8.50114624] 3.66873461967\n",
        "====outer===\n",
        "[ 2.91504849  8.50114624] 3.66873461967 25\n",
        "====inner===\n",
        "[ 2.91516368  8.50094305] 3.66861575942\n",
        "====outer===\n",
        "[ 2.91516368  8.50094305] 3.66861575942 26\n",
        "====inner===\n",
        "[ 2.91492352  8.50072456] 3.66848873055\n",
        "====outer===\n",
        "[ 2.91492352  8.50072456] 3.66848873055 27\n",
        "====inner===\n",
        "[ 2.91509463  8.50054931] 3.66835617246\n",
        "====outer===\n",
        "[ 2.91509463  8.50054931] 3.66835617246 28\n",
        "====inner===\n",
        "[ 2.91481657  8.50029112] 3.66823271726\n",
        "====outer===\n",
        "[ 2.91481657  8.50029112] 3.66823271726 29\n",
        "====inner===\n",
        "[ -3.74814946  14.05553443] 22.549698179\n",
        "Bad\n",
        "22.549698179 3.66823271726\n",
        "3.66816151678\n",
        "====outer===\n",
        "[ 2.91498118  8.50029112] 3.66816151678 30\n",
        "====inner===\n",
        "[ 2.07042412  4.27420302]"
       ]
      },
      {
       "output_type": "stream",
       "stream": "stdout",
       "text": [
        " 1.1613155005\n",
        "====outer===\n",
        "[ 2.07042412  4.27420302] 1.1613155005 31\n",
        "====inner===\n",
        "[-2.26581375  5.1413778 ] 10.6711133438\n",
        "Bad\n",
        "10.6711133438 1.1613155005\n",
        "1.13875595817\n",
        "====outer===\n",
        "[ 2.06695846  4.27420302] 1.13875595817 32\n",
        "====inner===\n",
        "[ 2.06660822  4.27397322] 1.13861638016\n",
        "====outer===\n",
        "[ 2.06660822  4.27397322] 1.13861638016 33\n",
        "====inner===\n",
        "[ 2.06681198  4.27368072] 1.13847548183\n",
        "====outer===\n",
        "[ 2.06681198  4.27368072] 1.13847548183 34\n",
        "====inner===\n",
        "[ 2.06640975  4.27336759] 1.13833088675\n",
        "====outer===\n",
        "[ 2.06640975  4.27336759] 1.13833088675 35\n",
        "====inner===\n",
        "[ 2.06667922  4.27307441] 1.13816990648\n",
        "====outer===\n",
        "[ 2.06667922  4.27307441] 1.13816990648 36\n",
        "====inner===\n",
        "[ 2.0663708  4.2728613] 1.13803056347\n",
        "====outer===\n",
        "[ 2.0663708  4.2728613] 1.13803056347 37\n",
        "====inner===\n",
        "[ 2.06655666  4.27252084] 1.13789070978\n",
        "====outer===\n",
        "[ 2.06655666  4.27252084] 1.13789070978 38\n",
        "====inner===\n",
        "[-1.43513888  2.06669733] 5.93490513089\n",
        "Bad\n",
        "5.93490513089 1.13789070978\n",
        "1.13785436762\n",
        "====outer===\n",
        "[ 2.06628998  4.27252084] 1.13785436762 39\n",
        "====inner===\n",
        "[ 2.0664738   4.27217929]"
       ]
      },
      {
       "output_type": "stream",
       "stream": "stdout",
       "text": [
        " 1.13771431297\n",
        "====outer===\n",
        "[ 2.0664738   4.27217929] 1.13771431297 40\n",
        "====inner===\n",
        "[-1.43383456  2.06303939] 5.92867413778\n",
        "Bad\n",
        "5.92867413778 1.13771431297\n",
        "1.13773521962\n",
        "====outer===\n",
        "[ 2.06609547  4.27217929] 1.13773521962 41\n",
        "====inner===\n",
        "[ 2.06634111  4.27193916] 1.1375558081\n",
        "====outer===\n",
        "[ 2.06634111  4.27193916] 1.1375558081 42\n",
        "====inner===\n",
        "[-0.77172773  0.60180976] 3.14292050219\n",
        "Bad\n",
        "3.14292050219 1.1375558081\n",
        "1.13790869572\n",
        "====outer===\n",
        "[ 2.06577764  4.27193916] 1.13790869572 43\n",
        "====inner===\n",
        "[ 2.06624351  4.27167508] 1.13741014619\n",
        "====outer===\n",
        "[ 2.06624351  4.27167508] 1.13741014619 44\n",
        "====inner===\n",
        "[ 0.02861784  0.0057208 ] 0.945986079455\n",
        "====outer===\n",
        "[ 0.02861784  0.0057208 ] 0.945986079455 45\n",
        "====inner===\n",
        "[ 0.06339149 -0.0113342 ] 0.900805986241\n",
        "====outer===\n",
        "[ 0.06339149 -0.0113342 ] 0.900805986241 46\n",
        "====inner===\n",
        "[ 1.99508969  3.98573328] 0.993066177553\n",
        "Bad\n",
        "0.993066177553 0.900805986241\n",
        "0.886023330489\n",
        "====outer===\n",
        "[ 0.07378681 -0.0113342 ] 0.886023330489 47\n",
        "====inner===\n",
        "[ 0.08269554  0.01069291] 0.842933081093\n",
        "====outer===\n",
        "[ 0.08269554  0.01069291] 0.842933081093 48\n",
        "====inner===\n",
        "[ 0.11335758 -0.0013536 ] 0.80630883803\n",
        "====outer===\n",
        "[ 0.11335758 -0.0013536 ] 0.80630883803 49\n",
        "====inner===\n",
        "[ 2.39317851  5.73367892] 1.94501112751\n",
        "Bad\n",
        "1.94501112751 0.80630883803\n",
        "0.797974297496\n",
        "====outer===\n",
        "[ 0.12125417 -0.0013536 ] 0.797974297496 50\n",
        "====inner===\n",
        "[ 3.15216776  9.94303364] 4.63654856119\n",
        "Bad\n",
        "4.63654856119 0.797974297496\n",
        "0.792307685668\n",
        "====outer===\n",
        "[ 0.1274519 -0.0013536] 0.792307685668 51\n",
        "====inner===\n",
        "[ 0.13251822  0.01967457]"
       ]
      },
      {
       "output_type": "stream",
       "stream": "stdout",
       "text": [
        " 0.752971319271\n",
        "====outer===\n",
        "[ 0.13251822  0.01967457] 0.752971319271 52\n",
        "====inner===\n",
        "[ 0.16503608  0.01223261] 0.719677644297\n",
        "====outer===\n",
        "[ 0.16503608  0.01223261] 0.719677644297 53\n",
        "====inner===\n",
        "[ 0.16915973  0.03044571] 0.69063070548\n",
        "====outer===\n",
        "[ 0.16915973  0.03044571] 0.69063070548 54\n",
        "====inner===\n",
        "[ 0.1961034   0.02492073] 0.664571573287\n",
        "====outer===\n",
        "[ 0.1961034   0.02492073] 0.664571573287 55\n",
        "====inner===\n",
        "[ 0.1994791   0.04165728] 0.641181664523\n",
        "====outer===\n",
        "[ 0.1994791   0.04165728] 0.641181664523 56\n",
        "====inner===\n",
        "[ 0.22149438  0.03696364] 0.620702606864\n",
        "====outer===\n",
        "[ 0.22149438  0.03696364] 0.620702606864 57\n",
        "====inner===\n",
        "[ 0.22454977  0.05219406] 0.601636873053\n",
        "====outer===\n",
        "[ 0.22454977  0.05219406] 0.601636873053 58\n",
        "====inner===\n",
        "[ 0.24333774  0.04830143] 0.584444561232\n",
        "====outer===\n",
        "[ 0.24333774  0.04830143] 0.584444561232 59\n",
        "====inner===\n",
        "[ 0.24627919  0.06252797] 0.568446446296\n",
        "====outer===\n",
        "[ 0.24627919  0.06252797] 0.568446446296 60\n",
        "====inner===\n",
        "[ 0.26284208  0.05885826] 0.553862377048\n",
        "====outer===\n",
        "[ 0.26284208  0.05885826] 0.553862377048 61\n",
        "====inner===\n",
        "[  4.85966059  23.62474453] 14.9041091109\n",
        "Bad\n",
        "14.9041091109 0.553862377048\n",
        "0.553047598624\n",
        "====outer===\n",
        "[ 0.26538607  0.05885826] 0.553047598624 62\n",
        "====inner===\n",
        "[ 0.26675349  0.07199706] 0.537720940537\n",
        "====outer===\n",
        "[ 0.26675349  0.07199706] 0.537720940537 63\n",
        "====inner===\n",
        "[ 0.2841974   0.07011458] 0.523723242175\n",
        "====outer===\n",
        "[ 0.2841974   0.07011458] 0.523723242175 64\n",
        "====inner===\n",
        "[ 0.28547216  0.08243174] 0.510637907546\n",
        "====outer===\n",
        "[ 0.28547216  0.08243174] 0.510637907546 65\n",
        "====inner===\n",
        "[-0.37545492  0.1630967 ] 1.9408512651\n",
        "Bad\n",
        "1.9408512651 0.510637907546\n",
        "0.495569968858\n",
        "====outer===\n",
        "[ 0.30032954  0.08243174] 0.495569968858 66\n",
        "====inner===\n",
        "[ 0.30417872  0.09525077] 0.484910400926\n",
        "====outer===\n",
        "[ 0.30417872  0.09525077] 0.484910400926 67\n",
        "====inner===\n",
        "[-0.60398466  0.38256928] 2.6043505182\n",
        "Bad\n",
        "2.6043505182 0.484910400926\n",
        "0.470748100108\n",
        "====outer===\n",
        "[ 0.31506503  0.09525077] 0.470748100108 68\n",
        "====inner===\n",
        "[ 0.63464939  0.39233887] 0.144382464516\n",
        "====outer===\n",
        "[ 0.63464939  0.39233887] 0.144382464516 69\n",
        "====inner===\n",
        "[ 0.63086339  0.39645687] 0.136496462884\n",
        "====outer===\n",
        "[ 0.63086339  0.39645687] 0.136496462884 70\n",
        "====inner===\n",
        "[ 0.64744765  0.41090081] 0.131161662439\n",
        "====outer===\n",
        "[ 0.64744765  0.41090081] 0.131161662439 71\n",
        "====inner===\n",
        "[ 0.64468239  0.41408109] 0.126486008572\n",
        "====outer===\n",
        "[ 0.64468239  0.41408109] 0.126486008572 72\n",
        "====inner===\n",
        "[ 0.66697132  0.43579507] 0.119108620493\n",
        "====outer===\n",
        "[ 0.66697132  0.43579507] 0.119108620493 73\n",
        "====inner===\n",
        "[ 0.6638728   0.43900203] 0.113279078684\n",
        "====outer==="
       ]
      },
      {
       "output_type": "stream",
       "stream": "stdout",
       "text": [
        "\n",
        "[ 0.6638728   0.43900203] 0.113279078684 74\n",
        "====inner===\n",
        "[ 0.94756809  0.89603231] 0.00309245594826\n",
        "====outer===\n",
        "[ 0.94756809  0.89603231] 0.00309245594826 75\n",
        "====inner===\n",
        "[-1.56303156  2.45330728] 6.57961575907\n",
        "Bad\n",
        "6.57961575907 0.00309245594826\n",
        "6.57961575907\n",
        "====outer===\n",
        "[-1.56303156  2.45330728] 6.57961575907 76\n",
        "====inner===\n",
        "[  3.16933159  10.04930986] 4.70815913893\n",
        "====outer===\n",
        "[  3.16933159  10.04930986] 4.70815913893 77\n",
        "====inner===\n",
        "[  3.16954265  10.04918352] 4.70792840369\n",
        "====outer===\n",
        "[  3.16954265  10.04918352] 4.70792840369 78\n",
        "====inner===\n",
        "[  3.16902087  10.04808989] 4.70756388714\n",
        "====outer===\n",
        "[  3.16902087  10.04808989] 4.70756388714 79\n",
        "====inner===\n",
        "[ -3.60004033  12.96725687] 21.1652242368\n",
        "Bad\n",
        "21.1652242368 4.70756388714\n",
        "4.70717501797\n",
        "====outer===\n",
        "[  3.16931713  10.04808989] 4.70717501797 80\n",
        "====inner===\n",
        "[  3.16945939  10.04727109] 4.70687741079\n",
        "====outer===\n",
        "[  3.16945939  10.04727109] 4.70687741079 81\n",
        "====inner===\n",
        "[  3.16918971  10.04722398] 4.70658154818\n",
        "====outer===\n",
        "[  3.16918971  10.04722398] 4.70658154818 82\n",
        "====inner===\n",
        "[  3.16930954  10.04551496] 4.70600229298\n",
        "====outer===\n",
        "[  3.16930954  10.04551496] 4.70600229298 83\n",
        "====inner===\n",
        "[  3.16890746  10.04548906] 4.70539479343\n",
        "====outer===\n",
        "[  3.16890746  10.04548906] 4.70539479343 84\n",
        "====inner===\n",
        "[  3.1690637   10.04455131] 4.70508906462\n",
        "====outer===\n",
        "[  3.1690637   10.04455131] 4.70508906462 85\n",
        "====inner===\n",
        "[  3.16877193  10.04451153] 4.70472495435\n",
        "====outer===\n",
        "[  3.16877193  10.04451153] 4.70472495435 86\n",
        "====inner===\n",
        "[  3.1684107   10.03709649] 4.70230419096\n",
        "====outer===\n",
        "[  3.1684107   10.03709649] 4.70230419096 87\n",
        "====inner===\n",
        "[ -3.22015481  10.37561659] 17.8135749502\n",
        "Bad\n",
        "17.8135749502 4.70230419096\n",
        "17.8135749502\n",
        "====outer===\n",
        "[ -3.22015481  10.37561659] 17.8135749502 88\n",
        "====inner===\n",
        "[ 0.32376341  0.10305714] 0.457607667774\n",
        "====outer===\n",
        "[ 0.32376341  0.10305714] 0.457607667774 89\n",
        "====inner===\n",
        "[ 0.36079262  0.1146923 ] 0.432546062009\n",
        "====outer===\n",
        "[ 0.36079262  0.1146923 ] 0.432546062009 90\n",
        "====inner===\n",
        "[ 0.35729348  0.1260298 ] 0.413336985425\n",
        "====outer===\n",
        "[ 0.35729348  0.1260298 ] 0.413336985425 91\n",
        "====inner===\n",
        "[ 0.38459316  0.13447849] 0.396771231928\n",
        "====outer===\n",
        "[ 0.38459316  0.13447849] 0.396771231928 92\n",
        "====inner===\n",
        "[ -3.59306591  12.92151083] 21.1092235563\n",
        "Bad\n",
        "21.1092235563 0.396771231928\n",
        "21.1092235563\n",
        "====outer===\n",
        "[ -3.59306591  12.92151083]"
       ]
      },
      {
       "output_type": "stream",
       "stream": "stdout",
       "text": [
        " 21.1092235563 93\n",
        "====inner===\n",
        "[  3.91114356  15.30157087] 8.47680613749\n",
        "====outer===\n",
        "[  3.91114356  15.30157087] 8.47680613749 94\n",
        "====inner===\n",
        "[ -4.6294961   21.43888094] 31.6956443407\n",
        "Bad\n",
        "31.6956443407 8.47680613749\n",
        "8.47674203678\n",
        "====outer===\n",
        "[  3.91125762  15.30157087] 8.47674203678 95\n",
        "====inner===\n",
        "[  3.90804341  15.28438728] 8.47013533896\n",
        "====outer===\n",
        "[  3.90804341  15.28438728] 8.47013533896 96\n",
        "====inner===\n",
        "[  3.90901636  15.2842039 ] 8.46381638598\n",
        "====outer===\n",
        "[  3.90901636  15.2842039 ] 8.46381638598 97\n",
        "====inner===\n",
        "[  3.90912335  15.28350271] 8.46350822325\n",
        "====outer===\n",
        "[  3.90912335  15.28350271] 8.46350822325 98\n",
        "====inner===\n",
        "[ -3.7113483   13.78016483] 22.2004735002\n",
        "Bad\n",
        "22.2004735002 8.46350822325\n",
        "8.46329978993\n",
        "====outer===\n",
        "[  3.90890544  15.28350271] 8.46329978993 99\n",
        "====inner===\n",
        "[  3.90903813  15.2832227 ] 8.46320171134\n",
        "====outer===\n",
        "[  3.90903813  15.2832227 ] 8.46320171134 100\n",
        "====inner===\n",
        "[ -3.59472361  12.92808781] 21.1151452767\n",
        "Bad\n",
        "21.1151452767 8.46320171134\n",
        "8.46308633833\n",
        "====outer===\n",
        "[  3.90888972  15.2832227 ] 8.46308633833 101\n",
        "====inner===\n",
        "[  3.9090074   15.28253289] 8.46280542917\n",
        "====outer===\n",
        "[  3.9090074   15.28253289] 8.46280542917 102\n",
        "====inner===\n",
        "[  3.90876775  15.28248884] 8.46254869388\n",
        "====outer===\n",
        "[  3.90876775  15.28248884] 8.46254869388 103\n",
        "====inner===\n",
        "[  3.90888171  15.28229507] 8.46245649073\n",
        "====outer===\n",
        "[  3.90888171  15.28229507] 8.46245649073 104\n",
        "====inner===\n",
        "[ -3.42777665  11.75560027] 19.6087433466\n",
        "Bad\n",
        "19.6087433466 8.46245649073\n",
        "19.6087433466\n",
        "====outer===\n",
        "[ -3.42777665  11.75560027] 19.6087433466 105\n",
        "====inner===\n",
        "[ 1.73137424  2.99906346] 0.535106159964\n",
        "====outer===\n",
        "[ 1.73137424  2.99906346] 0.535106159964 106\n",
        "====inner===\n",
        "[-1.15332679  1.33784743] 4.64272179566\n",
        "Bad\n",
        "4.64272179566 0.535106159964\n",
        "4.64272179566\n",
        "====outer===\n",
        "[-1.15332679  1.33784743] 4.64272179566 107\n",
        "====inner===\n",
        "[-0.75744601  0.53877138]"
       ]
      },
      {
       "output_type": "stream",
       "stream": "stdout",
       "text": [
        " 3.21078824119\n",
        "====outer===\n",
        "[-0.75744601  0.53877138] 3.21078824119 108\n",
        "====inner===\n",
        "[ 1.2346773   1.52609838] 0.0553524413813\n",
        "====outer===\n",
        "[ 1.2346773   1.52609838] 0.0553524413813 109\n",
        "====inner===\n",
        "[ 1.23497667  1.52581712] 0.0552562525868\n",
        "====outer===\n",
        "[ 1.23497667  1.52581712] 0.0552562525868 110\n",
        "====inner===\n",
        "[ 1.23437384  1.52529132] 0.0551911235176\n",
        "====outer===\n",
        "[ 1.23437384  1.52529132] 0.0551911235176 111\n",
        "====inner===\n",
        "[ 1.23460279  1.52506582] 0.0551059994457\n",
        "====outer===\n",
        "[ 1.23460279  1.52506582] 0.0551059994457 112\n",
        "====inner===\n",
        "[ 1.18353107  1.3926407 ] 0.0402528932902\n",
        "====outer===\n",
        "[ 1.18353107  1.3926407 ] 0.0402528932902 113\n",
        "====inner===\n",
        "[ 1.1803503   1.39386714] 0.0325672302816\n",
        "====outer===\n",
        "[ 1.1803503   1.39386714] 0.0325672302816 114\n",
        "====inner===\n",
        "[ 1.00766305  1.01505928] 6.93197458291e-05\n",
        "====outer===\n",
        "[ 1.00766305  1.01505928] 6.93197458291e-05 115\n",
        "====inner===\n",
        "[ 1.00764687  1.01506647] 6.66389565273e-05\n",
        "====outer===\n",
        "[ 1.00764687  1.01506647] 6.66389565273e-05 116\n",
        "====inner===\n",
        "[ 1.00753112  1.01511717] 5.67181620495e-05\n",
        "====outer===\n",
        "[ 1.00753112  1.01511717] 5.67181620495e-05 117\n",
        "====inner===\n",
        "[ 1.00764519  1.01511457] 6.39361780563e-05\n",
        "Bad\n",
        "6.39361780563e-05 5.67181620495e-05\n",
        "6.39361780563e-05\n",
        "====outer===\n",
        "[ 1.00764519  1.01511457] 6.39361780563e-05 118\n",
        "====inner===\n",
        "[ 1.00764579  1.01511432] 6.40141809061e-05\n",
        "Bad\n",
        "6.40141809061e-05 6.39361780563e-05\n",
        "6.40141809061e-05\n",
        "====outer===\n",
        "[ 1.00764579  1.01511432] 6.40141809061e-05 119\n",
        "====inner===\n",
        "[ 1.00747095  1.01518905] 5.94757907345e-05\n",
        "====outer===\n",
        "[ 1.00747095  1.01518905] 5.94757907345e-05 120\n",
        "====inner===\n",
        "[ 1.00758959  1.01511601] 5.90607383248e-05\n",
        "====outer===\n",
        "[ 1.00758959  1.01511601] 5.90607383248e-05 121\n",
        "====inner===\n",
        "[ 1.00761622  1.01510594] 6.14106633729e-05\n",
        "Bad\n",
        "6.14106633729e-05 5.90607383248e-05\n",
        "6.14106633729e-05\n",
        "====outer===\n",
        "[ 1.00761622  1.01510594] 6.14106633729e-05 122\n",
        "====inner===\n",
        "[ 1.00757043  1.0151248 ] 5.78496535324e-05\n",
        "====outer===\n",
        "[ 1.00757043  1.0151248 ] 5.78496535324e-05 123\n",
        "====inner===\n",
        "[-1.33143806  1.7827711 ] 5.44569120467\n",
        "Bad\n",
        "5.44569120467 5.78496535324e-05\n",
        "6.03211069414e-05\n",
        "====outer===\n",
        "[ 1.00761084  1.0151248 ] 6.03211069414e-05 124\n",
        "====inner===\n",
        "[ 1.00759631  1.01513059] 5.91374318218e-05\n",
        "====outer===\n",
        "[ 1.00759631  1.01513059] 5.91374318218e-05 125\n",
        "====inner===\n",
        "[ 1.00748531  1.01517249]"
       ]
      },
      {
       "output_type": "stream",
       "stream": "stdout",
       "text": [
        " 5.8156634e-05\n",
        "====outer===\n",
        "[ 1.00748531  1.01517249] 5.8156634e-05 126\n",
        "====inner===\n",
        "[ 1.00749051  1.01516903] 5.78475896416e-05\n",
        "e_f 5.78475896416e-05 5.8156634e-05\n",
        "===Result===\n",
        "[-0.65505324, -0.89369433]\n"
       ]
      },
      {
       "metadata": {},
       "output_type": "pyout",
       "prompt_number": 6,
       "text": [
        "(array([ 1.00749051,  1.01516903]), 5.7847589641631335e-05, 127)"
       ]
      }
     ],
     "prompt_number": 6
    },
    {
     "cell_type": "code",
     "collapsed": false,
     "input": [
      "reload(hw2)\n",
      "from hw2 import *"
     ],
     "language": "python",
     "metadata": {},
     "outputs": [],
     "prompt_number": 330
    },
    {
     "cell_type": "code",
     "collapsed": false,
     "input": [
      "x10 = [Symbol('x'+str(i)) for i in range(10)]\n",
      "y10 = x10[0]**2+x10[1]**2+x10[2]**2+x10[3]**2+x10[4]**2+x10[5]**2+x10[6]**2+x10[7]**2+x10[8]**2+x10[9]**2\n",
      "f10 = lambdify(x10,y10,'numpy')"
     ],
     "language": "python",
     "metadata": {},
     "outputs": [],
     "prompt_number": 232
    },
    {
     "cell_type": "code",
     "collapsed": false,
     "input": [
      "ConjugateGradient(f10,x10,y10,10)"
     ],
     "language": "python",
     "metadata": {},
     "outputs": [
      {
       "ename": "TypeError",
       "evalue": "ConjugateGradient() takes exactly 5 arguments (4 given)",
       "output_type": "pyerr",
       "traceback": [
        "\u001b[0;31m---------------------------------------------------------------------------\u001b[0m\n\u001b[0;31mTypeError\u001b[0m                                 Traceback (most recent call last)",
        "\u001b[0;32m<ipython-input-258-cf4d49ff6d4e>\u001b[0m in \u001b[0;36m<module>\u001b[0;34m()\u001b[0m\n\u001b[0;32m----> 1\u001b[0;31m \u001b[0mConjugateGradient\u001b[0m\u001b[0;34m(\u001b[0m\u001b[0mf10\u001b[0m\u001b[0;34m,\u001b[0m\u001b[0mx10\u001b[0m\u001b[0;34m,\u001b[0m\u001b[0my10\u001b[0m\u001b[0;34m,\u001b[0m\u001b[0;36m10\u001b[0m\u001b[0;34m)\u001b[0m\u001b[0;34m\u001b[0m\u001b[0m\n\u001b[0m",
        "\u001b[0;31mTypeError\u001b[0m: ConjugateGradient() takes exactly 5 arguments (4 given)"
       ]
      }
     ],
     "prompt_number": 258
    },
    {
     "cell_type": "code",
     "collapsed": false,
     "input": [
      "range(0)"
     ],
     "language": "python",
     "metadata": {},
     "outputs": [
      {
       "metadata": {},
       "output_type": "pyout",
       "prompt_number": 234,
       "text": [
        "[]"
       ]
      }
     ],
     "prompt_number": 234
    },
    {
     "cell_type": "code",
     "collapsed": false,
     "input": [
      "run hw2.py"
     ],
     "language": "python",
     "metadata": {},
     "outputs": [
      {
       "output_type": "stream",
       "stream": "stdout",
       "text": [
        "0 [ 0.01020493 -0.48485548] 24.4982781232 0\n",
        "1 [ 0.01581386 -0.3110242 ] 10.657789962 0\n",
        "2"
       ]
      },
      {
       "output_type": "stream",
       "stream": "stdout",
       "text": [
        " [-1.44920192  2.10861834] 6.00570013528 0\n",
        "3"
       ]
      },
      {
       "output_type": "stream",
       "stream": "stdout",
       "text": [
        " [ 0.66161605  0.43519169] 0.115150948208 0\n",
        "4 [ 0.00914043 -0.54194909] 30.3617404447 0\n",
        "5"
       ]
      },
      {
       "output_type": "stream",
       "stream": "stdout",
       "text": [
        " [ 1.03133575  1.06380346] 0.000984180101018 0\n"
       ]
      },
      {
       "ename": "KeyboardInterrupt",
       "evalue": "",
       "output_type": "pyerr",
       "traceback": [
        "\u001b[0;31m---------------------------------------------------------------------------\u001b[0m\n\u001b[0;31mKeyboardInterrupt\u001b[0m                         Traceback (most recent call last)",
        "\u001b[0;32m/Users/Pro/Dropbox/CS268/HW2/hw2.py\u001b[0m in \u001b[0;36m<module>\u001b[0;34m()\u001b[0m\n\u001b[1;32m    233\u001b[0m \u001b[0;34m\u001b[0m\u001b[0m\n\u001b[1;32m    234\u001b[0m         \u001b[0;31m# Test(RosenBrock,x_rb,y_rb,range(len(x_rb)),drange(1e-5,1e-3,1e-5),np.array([1,1]),0)\u001b[0m\u001b[0;34m\u001b[0m\u001b[0;34m\u001b[0m\u001b[0m\n\u001b[0;32m--> 235\u001b[0;31m         \u001b[0mTest\u001b[0m\u001b[0;34m(\u001b[0m\u001b[0mRosenBrock\u001b[0m\u001b[0;34m,\u001b[0m\u001b[0mx_rb\u001b[0m\u001b[0;34m,\u001b[0m\u001b[0my_rb\u001b[0m\u001b[0;34m,\u001b[0m\u001b[0mrange\u001b[0m\u001b[0;34m(\u001b[0m\u001b[0mlen\u001b[0m\u001b[0;34m(\u001b[0m\u001b[0mx_rb\u001b[0m\u001b[0;34m)\u001b[0m\u001b[0;34m)\u001b[0m\u001b[0;34m,\u001b[0m\u001b[0mdrange\u001b[0m\u001b[0;34m(\u001b[0m\u001b[0;36m1e-7\u001b[0m\u001b[0;34m,\u001b[0m\u001b[0;36m1e-5\u001b[0m\u001b[0;34m,\u001b[0m\u001b[0;36m1e-7\u001b[0m\u001b[0;34m)\u001b[0m\u001b[0;34m,\u001b[0m\u001b[0mnp\u001b[0m\u001b[0;34m.\u001b[0m\u001b[0marray\u001b[0m\u001b[0;34m(\u001b[0m\u001b[0;34m[\u001b[0m\u001b[0;36m1\u001b[0m\u001b[0;34m,\u001b[0m\u001b[0;36m1\u001b[0m\u001b[0;34m]\u001b[0m\u001b[0;34m)\u001b[0m\u001b[0;34m,\u001b[0m\u001b[0;36m0\u001b[0m\u001b[0;34m,\u001b[0m\u001b[0;34m\"RosenBrock\"\u001b[0m\u001b[0;34m)\u001b[0m\u001b[0;34m\u001b[0m\u001b[0m\n\u001b[0m\u001b[1;32m    236\u001b[0m \u001b[0;34m\u001b[0m\u001b[0m\n\u001b[1;32m    237\u001b[0m \u001b[0;34m\u001b[0m\u001b[0m\n",
        "\u001b[0;32m/Users/Pro/Dropbox/CS268/HW2/hw2.py\u001b[0m in \u001b[0;36mTest\u001b[0;34m(f, x, y, CG_iter_range, e_f_range, x_optimum, y_optimum, function)\u001b[0m\n\u001b[1;32m    206\u001b[0m                         \u001b[0mcg_iters\u001b[0m \u001b[0;34m=\u001b[0m \u001b[0;34m[\u001b[0m\u001b[0;34m]\u001b[0m\u001b[0;34m\u001b[0m\u001b[0m\n\u001b[1;32m    207\u001b[0m                         \u001b[0;32mfor\u001b[0m \u001b[0mi\u001b[0m \u001b[0;32min\u001b[0m \u001b[0mrange\u001b[0m\u001b[0;34m(\u001b[0m\u001b[0mtestNum\u001b[0m\u001b[0;34m)\u001b[0m\u001b[0;34m:\u001b[0m\u001b[0;34m\u001b[0m\u001b[0m\n\u001b[0;32m--> 208\u001b[0;31m                                 \u001b[0mxx\u001b[0m\u001b[0;34m,\u001b[0m \u001b[0myy\u001b[0m\u001b[0;34m,\u001b[0m \u001b[0mcg_iter\u001b[0m \u001b[0;34m=\u001b[0m \u001b[0mConjugateGradient\u001b[0m\u001b[0;34m(\u001b[0m\u001b[0mf\u001b[0m\u001b[0;34m,\u001b[0m\u001b[0mx\u001b[0m\u001b[0;34m,\u001b[0m\u001b[0my\u001b[0m\u001b[0;34m,\u001b[0m\u001b[0mcg\u001b[0m\u001b[0;34m,\u001b[0m\u001b[0mef\u001b[0m\u001b[0;34m)\u001b[0m\u001b[0;34m\u001b[0m\u001b[0m\n\u001b[0m\u001b[1;32m    209\u001b[0m                                 \u001b[0mx_errs\u001b[0m\u001b[0;34m.\u001b[0m\u001b[0mappend\u001b[0m\u001b[0;34m(\u001b[0m\u001b[0mnp\u001b[0m\u001b[0;34m.\u001b[0m\u001b[0mlinalg\u001b[0m\u001b[0;34m.\u001b[0m\u001b[0mnorm\u001b[0m\u001b[0;34m(\u001b[0m\u001b[0mxx\u001b[0m\u001b[0;34m-\u001b[0m\u001b[0mx_optimum\u001b[0m\u001b[0;34m)\u001b[0m\u001b[0;34m)\u001b[0m\u001b[0;34m\u001b[0m\u001b[0m\n\u001b[1;32m    210\u001b[0m                                 \u001b[0my_errs\u001b[0m\u001b[0;34m.\u001b[0m\u001b[0mappend\u001b[0m\u001b[0;34m(\u001b[0m\u001b[0mabs\u001b[0m\u001b[0;34m(\u001b[0m\u001b[0myy\u001b[0m\u001b[0;34m-\u001b[0m\u001b[0my_optimum\u001b[0m\u001b[0;34m)\u001b[0m\u001b[0;34m)\u001b[0m\u001b[0;34m\u001b[0m\u001b[0m\n",
        "\u001b[0;32m/Users/Pro/Dropbox/CS268/HW2/hw2.py\u001b[0m in \u001b[0;36mConjugateGradient\u001b[0;34m(f, x, y, CG_iter, e_f)\u001b[0m\n\u001b[1;32m    175\u001b[0m                         \u001b[0;32mdef\u001b[0m \u001b[0mf_Alpha\u001b[0m\u001b[0;34m(\u001b[0m\u001b[0malpha\u001b[0m\u001b[0;34m)\u001b[0m\u001b[0;34m:\u001b[0m\u001b[0;34m\u001b[0m\u001b[0m\n\u001b[1;32m    176\u001b[0m                                 \u001b[0;32mreturn\u001b[0m \u001b[0mf\u001b[0m\u001b[0;34m(\u001b[0m\u001b[0;34m*\u001b[0m\u001b[0mx_out\u001b[0m\u001b[0;34m+\u001b[0m\u001b[0malpha\u001b[0m\u001b[0;34m*\u001b[0m\u001b[0md_out\u001b[0m\u001b[0;34m)\u001b[0m\u001b[0;34m\u001b[0m\u001b[0m\n\u001b[0;32m--> 177\u001b[0;31m                         \u001b[0malpha_out\u001b[0m \u001b[0;34m=\u001b[0m \u001b[0mGoldenSection\u001b[0m\u001b[0;34m(\u001b[0m\u001b[0mf_Alpha\u001b[0m\u001b[0;34m)\u001b[0m\u001b[0;34m\u001b[0m\u001b[0m\n\u001b[0m\u001b[1;32m    178\u001b[0m                         \u001b[0mx_out\u001b[0m \u001b[0;34m=\u001b[0m \u001b[0mx_out\u001b[0m \u001b[0;34m+\u001b[0m \u001b[0malpha_out\u001b[0m\u001b[0;34m*\u001b[0m\u001b[0md_out\u001b[0m\u001b[0;34m\u001b[0m\u001b[0m\n\u001b[1;32m    179\u001b[0m                         \u001b[0mf_new\u001b[0m \u001b[0;34m=\u001b[0m \u001b[0mf\u001b[0m\u001b[0;34m(\u001b[0m\u001b[0;34m*\u001b[0m\u001b[0mx_out\u001b[0m\u001b[0;34m)\u001b[0m\u001b[0;34m\u001b[0m\u001b[0m\n",
        "\u001b[0;32m/Users/Pro/Dropbox/CS268/HW2/hw2.py\u001b[0m in \u001b[0;36mGoldenSection\u001b[0;34m(f)\u001b[0m\n\u001b[1;32m     58\u001b[0m         \u001b[0;32mwhile\u001b[0m\u001b[0;34m(\u001b[0m\u001b[0mTrue\u001b[0m\u001b[0;34m)\u001b[0m\u001b[0;34m:\u001b[0m\u001b[0;34m\u001b[0m\u001b[0m\n\u001b[1;32m     59\u001b[0m                 \u001b[0mx3\u001b[0m \u001b[0;34m=\u001b[0m \u001b[0mt\u001b[0m\u001b[0;34m*\u001b[0m\u001b[0mx4\u001b[0m\u001b[0;34m+\u001b[0m\u001b[0;34m(\u001b[0m\u001b[0;36m1\u001b[0m\u001b[0;34m-\u001b[0m\u001b[0mt\u001b[0m\u001b[0;34m)\u001b[0m\u001b[0;34m*\u001b[0m\u001b[0mx1\u001b[0m\u001b[0;34m\u001b[0m\u001b[0m\n\u001b[0;32m---> 60\u001b[0;31m                 \u001b[0mf3\u001b[0m \u001b[0;34m=\u001b[0m \u001b[0mf\u001b[0m\u001b[0;34m(\u001b[0m\u001b[0mx3\u001b[0m\u001b[0;34m)\u001b[0m\u001b[0;34m\u001b[0m\u001b[0m\n\u001b[0m\u001b[1;32m     61\u001b[0m                 \u001b[0;32mif\u001b[0m \u001b[0mf2\u001b[0m\u001b[0;34m<\u001b[0m\u001b[0mf3\u001b[0m\u001b[0;34m:\u001b[0m\u001b[0;34m\u001b[0m\u001b[0m\n\u001b[1;32m     62\u001b[0m                         \u001b[0mx4\u001b[0m\u001b[0;34m,\u001b[0m\u001b[0mx1\u001b[0m \u001b[0;34m=\u001b[0m \u001b[0mx1\u001b[0m\u001b[0;34m,\u001b[0m\u001b[0mx3\u001b[0m\u001b[0;34m\u001b[0m\u001b[0m\n",
        "\u001b[0;32m/Users/Pro/Dropbox/CS268/HW2/hw2.py\u001b[0m in \u001b[0;36mf_Alpha\u001b[0;34m(alpha)\u001b[0m\n\u001b[1;32m    174\u001b[0m                         \u001b[0md_out\u001b[0m \u001b[0;34m=\u001b[0m \u001b[0;34m-\u001b[0m\u001b[0mg_out\u001b[0m\u001b[0;34m/\u001b[0m\u001b[0mnp\u001b[0m\u001b[0;34m.\u001b[0m\u001b[0mlinalg\u001b[0m\u001b[0;34m.\u001b[0m\u001b[0mnorm\u001b[0m\u001b[0;34m(\u001b[0m\u001b[0mg_out\u001b[0m\u001b[0;34m)\u001b[0m\u001b[0;34m\u001b[0m\u001b[0m\n\u001b[1;32m    175\u001b[0m                         \u001b[0;32mdef\u001b[0m \u001b[0mf_Alpha\u001b[0m\u001b[0;34m(\u001b[0m\u001b[0malpha\u001b[0m\u001b[0;34m)\u001b[0m\u001b[0;34m:\u001b[0m\u001b[0;34m\u001b[0m\u001b[0m\n\u001b[0;32m--> 176\u001b[0;31m                                 \u001b[0;32mreturn\u001b[0m \u001b[0mf\u001b[0m\u001b[0;34m(\u001b[0m\u001b[0;34m*\u001b[0m\u001b[0mx_out\u001b[0m\u001b[0;34m+\u001b[0m\u001b[0malpha\u001b[0m\u001b[0;34m*\u001b[0m\u001b[0md_out\u001b[0m\u001b[0;34m)\u001b[0m\u001b[0;34m\u001b[0m\u001b[0m\n\u001b[0m\u001b[1;32m    177\u001b[0m                         \u001b[0malpha_out\u001b[0m \u001b[0;34m=\u001b[0m \u001b[0mGoldenSection\u001b[0m\u001b[0;34m(\u001b[0m\u001b[0mf_Alpha\u001b[0m\u001b[0;34m)\u001b[0m\u001b[0;34m\u001b[0m\u001b[0m\n\u001b[1;32m    178\u001b[0m                         \u001b[0mx_out\u001b[0m \u001b[0;34m=\u001b[0m \u001b[0mx_out\u001b[0m \u001b[0;34m+\u001b[0m \u001b[0malpha_out\u001b[0m\u001b[0;34m*\u001b[0m\u001b[0md_out\u001b[0m\u001b[0;34m\u001b[0m\u001b[0m\n",
        "\u001b[0;31mKeyboardInterrupt\u001b[0m: "
       ]
      }
     ],
     "prompt_number": 285
    },
    {
     "cell_type": "code",
     "collapsed": false,
     "input": [
      "run hw2.py"
     ],
     "language": "python",
     "metadata": {},
     "outputs": [
      {
       "output_type": "stream",
       "stream": "stdout",
       "text": [
        "0\n",
        "Stop"
       ]
      },
      {
       "output_type": "stream",
       "stream": "stdout",
       "text": [
        "\n",
        "Stop"
       ]
      },
      {
       "output_type": "stream",
       "stream": "stdout",
       "text": [
        "\n",
        "Stop"
       ]
      },
      {
       "output_type": "stream",
       "stream": "stdout",
       "text": [
        "\n",
        "Stop"
       ]
      },
      {
       "output_type": "stream",
       "stream": "stdout",
       "text": [
        "\n",
        "1\n",
        "Stop"
       ]
      },
      {
       "output_type": "stream",
       "stream": "stdout",
       "text": [
        "\n",
        "Stop"
       ]
      },
      {
       "output_type": "stream",
       "stream": "stdout",
       "text": [
        "\n",
        "Stop"
       ]
      },
      {
       "output_type": "stream",
       "stream": "stdout",
       "text": [
        "\n",
        "2\n",
        "Stop"
       ]
      },
      {
       "output_type": "stream",
       "stream": "stdout",
       "text": [
        "\n",
        "Stop"
       ]
      },
      {
       "output_type": "stream",
       "stream": "stdout",
       "text": [
        "\n",
        "Stop"
       ]
      },
      {
       "output_type": "stream",
       "stream": "stdout",
       "text": [
        "\n",
        "3\n",
        "Stop"
       ]
      },
      {
       "output_type": "stream",
       "stream": "stdout",
       "text": [
        "\n",
        "Stop"
       ]
      },
      {
       "output_type": "stream",
       "stream": "stdout",
       "text": [
        "\n",
        "Stop"
       ]
      },
      {
       "output_type": "stream",
       "stream": "stdout",
       "text": [
        "\n",
        "4\n",
        "5"
       ]
      },
      {
       "output_type": "stream",
       "stream": "stdout",
       "text": [
        "\n",
        "6"
       ]
      },
      {
       "output_type": "stream",
       "stream": "stdout",
       "text": [
        "\n",
        "7"
       ]
      },
      {
       "output_type": "stream",
       "stream": "stdout",
       "text": [
        "\n",
        "8"
       ]
      },
      {
       "output_type": "stream",
       "stream": "stdout",
       "text": [
        "\n",
        "9"
       ]
      },
      {
       "output_type": "stream",
       "stream": "stdout",
       "text": [
        "\n",
        "RosenBrock"
       ]
      },
      {
       "output_type": "stream",
       "stream": "stdout",
       "text": [
        " 2 1e-06 1.21769214417e+49 1.21769150665e+49 2.19861505968e+201 inf 1080.9 246.209371155\n",
        "0\n",
        "1"
       ]
      },
      {
       "output_type": "stream",
       "stream": "stdout",
       "text": [
        "\n",
        "2"
       ]
      },
      {
       "output_type": "stream",
       "stream": "stdout",
       "text": [
        "\n",
        "3"
       ]
      },
      {
       "output_type": "stream",
       "stream": "stdout",
       "text": [
        "\n",
        "Stop"
       ]
      },
      {
       "output_type": "stream",
       "stream": "stdout",
       "text": [
        "\n",
        "Stop"
       ]
      },
      {
       "output_type": "stream",
       "stream": "stdout",
       "text": [
        "\n",
        "4\n",
        "5"
       ]
      },
      {
       "output_type": "stream",
       "stream": "stdout",
       "text": [
        "\n",
        "Stop"
       ]
      },
      {
       "output_type": "stream",
       "stream": "stdout",
       "text": [
        "\n",
        "Stop"
       ]
      },
      {
       "output_type": "stream",
       "stream": "stdout",
       "text": [
        "\n",
        "Stop"
       ]
      },
      {
       "output_type": "stream",
       "stream": "stdout",
       "text": [
        "\n",
        "6\n",
        "7"
       ]
      },
      {
       "output_type": "stream",
       "stream": "stdout",
       "text": [
        "\n",
        "8"
       ]
      },
      {
       "output_type": "stream",
       "stream": "stdout",
       "text": [
        "\n",
        "9\n",
        "RosenBrock"
       ]
      },
      {
       "output_type": "stream",
       "stream": "stdout",
       "text": [
        " 2 1e-05 2.58246709993e+39 2.57653418188e+39 4.41103274518e+162 inf 261.7 72.599364858\n",
        "0\n",
        "1"
       ]
      },
      {
       "output_type": "stream",
       "stream": "stdout",
       "text": [
        "\n",
        "Stop"
       ]
      },
      {
       "output_type": "stream",
       "stream": "stdout",
       "text": [
        "\n",
        "Stop"
       ]
      },
      {
       "output_type": "stream",
       "stream": "stdout",
       "text": [
        "\n"
       ]
      },
      {
       "ename": "KeyboardInterrupt",
       "evalue": "",
       "output_type": "pyerr",
       "traceback": [
        "\u001b[0;31m---------------------------------------------------------------------------\u001b[0m\n\u001b[0;31mKeyboardInterrupt\u001b[0m                         Traceback (most recent call last)",
        "\u001b[0;32m/Users/Pro/Dropbox/CS268/HW2/hw2.py\u001b[0m in \u001b[0;36m<module>\u001b[0;34m()\u001b[0m\n\u001b[1;32m    245\u001b[0m \u001b[0;34m\u001b[0m\u001b[0m\n\u001b[1;32m    246\u001b[0m         \u001b[0;31m# Test(RosenBrock,x_rb,y_rb,range(len(x_rb)),drange(1e-5,1e-3,1e-5),np.array([1,1]),0)\u001b[0m\u001b[0;34m\u001b[0m\u001b[0;34m\u001b[0m\u001b[0m\n\u001b[0;32m--> 247\u001b[0;31m         \u001b[0mTest\u001b[0m\u001b[0;34m(\u001b[0m\u001b[0mRosenBrock\u001b[0m\u001b[0;34m,\u001b[0m\u001b[0mx_rb\u001b[0m\u001b[0;34m,\u001b[0m\u001b[0my_rb\u001b[0m\u001b[0;34m,\u001b[0m\u001b[0mrange\u001b[0m\u001b[0;34m(\u001b[0m\u001b[0mlen\u001b[0m\u001b[0;34m(\u001b[0m\u001b[0mx_rb\u001b[0m\u001b[0;34m)\u001b[0m\u001b[0;34m,\u001b[0m\u001b[0mlen\u001b[0m\u001b[0;34m(\u001b[0m\u001b[0mx_rb\u001b[0m\u001b[0;34m)\u001b[0m\u001b[0;34m+\u001b[0m\u001b[0;36m2\u001b[0m\u001b[0;34m)\u001b[0m\u001b[0;34m,\u001b[0m\u001b[0;34m[\u001b[0m\u001b[0;36m1e-6\u001b[0m\u001b[0;34m,\u001b[0m\u001b[0;36m1e-5\u001b[0m\u001b[0;34m]\u001b[0m\u001b[0;34m,\u001b[0m\u001b[0mnp\u001b[0m\u001b[0;34m.\u001b[0m\u001b[0marray\u001b[0m\u001b[0;34m(\u001b[0m\u001b[0;34m[\u001b[0m\u001b[0;36m1\u001b[0m\u001b[0;34m,\u001b[0m\u001b[0;36m1\u001b[0m\u001b[0;34m]\u001b[0m\u001b[0;34m)\u001b[0m\u001b[0;34m,\u001b[0m\u001b[0;36m0\u001b[0m\u001b[0;34m,\u001b[0m\u001b[0;34m\"RosenBrock\"\u001b[0m\u001b[0;34m)\u001b[0m\u001b[0;34m\u001b[0m\u001b[0m\n\u001b[0m\u001b[1;32m    248\u001b[0m         \u001b[0;31m# Test(f10,x10,y10,range(len(x10),len(x10)+5),drange(1e-7,1e-6,1e-7),np.array([1,1]),0,\"X10\")\u001b[0m\u001b[0;34m\u001b[0m\u001b[0;34m\u001b[0m\u001b[0m\n\u001b[1;32m    249\u001b[0m \u001b[0;34m\u001b[0m\u001b[0m\n",
        "\u001b[0;32m/Users/Pro/Dropbox/CS268/HW2/hw2.py\u001b[0m in \u001b[0;36mTest\u001b[0;34m(f, x, y, CG_iter_range, e_f_range, x_optimum, y_optimum, function)\u001b[0m\n\u001b[1;32m    220\u001b[0m                         \u001b[0;32mfor\u001b[0m \u001b[0mi\u001b[0m \u001b[0;32min\u001b[0m \u001b[0mrange\u001b[0m\u001b[0;34m(\u001b[0m\u001b[0mtestNum\u001b[0m\u001b[0;34m)\u001b[0m\u001b[0;34m:\u001b[0m\u001b[0;34m\u001b[0m\u001b[0m\n\u001b[1;32m    221\u001b[0m                                 \u001b[0;32mprint\u001b[0m \u001b[0mi\u001b[0m\u001b[0;34m\u001b[0m\u001b[0m\n\u001b[0;32m--> 222\u001b[0;31m                                 \u001b[0mxx\u001b[0m\u001b[0;34m,\u001b[0m \u001b[0myy\u001b[0m\u001b[0;34m,\u001b[0m \u001b[0mcg_iter\u001b[0m \u001b[0;34m=\u001b[0m \u001b[0mConjugateGradient\u001b[0m\u001b[0;34m(\u001b[0m\u001b[0mf\u001b[0m\u001b[0;34m,\u001b[0m\u001b[0mx\u001b[0m\u001b[0;34m,\u001b[0m\u001b[0my\u001b[0m\u001b[0;34m,\u001b[0m\u001b[0mcg\u001b[0m\u001b[0;34m,\u001b[0m\u001b[0mef\u001b[0m\u001b[0;34m)\u001b[0m\u001b[0;34m\u001b[0m\u001b[0m\n\u001b[0m\u001b[1;32m    223\u001b[0m                                 \u001b[0mx_errs\u001b[0m\u001b[0;34m.\u001b[0m\u001b[0mappend\u001b[0m\u001b[0;34m(\u001b[0m\u001b[0mnp\u001b[0m\u001b[0;34m.\u001b[0m\u001b[0mlinalg\u001b[0m\u001b[0;34m.\u001b[0m\u001b[0mnorm\u001b[0m\u001b[0;34m(\u001b[0m\u001b[0mxx\u001b[0m\u001b[0;34m-\u001b[0m\u001b[0mx_optimum\u001b[0m\u001b[0;34m)\u001b[0m\u001b[0;34m)\u001b[0m\u001b[0;34m\u001b[0m\u001b[0m\n\u001b[1;32m    224\u001b[0m                                 \u001b[0my_errs\u001b[0m\u001b[0;34m.\u001b[0m\u001b[0mappend\u001b[0m\u001b[0;34m(\u001b[0m\u001b[0mabs\u001b[0m\u001b[0;34m(\u001b[0m\u001b[0myy\u001b[0m\u001b[0;34m-\u001b[0m\u001b[0my_optimum\u001b[0m\u001b[0;34m)\u001b[0m\u001b[0;34m)\u001b[0m\u001b[0;34m\u001b[0m\u001b[0m\n",
        "\u001b[0;32m/Users/Pro/Dropbox/CS268/HW2/hw2.py\u001b[0m in \u001b[0;36mConjugateGradient\u001b[0;34m(f, x, y, CG_iter, e_f)\u001b[0m\n\u001b[1;32m    159\u001b[0m                         \u001b[0;32mdef\u001b[0m \u001b[0mf_Alpha\u001b[0m\u001b[0;34m(\u001b[0m\u001b[0malpha\u001b[0m\u001b[0;34m)\u001b[0m\u001b[0;34m:\u001b[0m\u001b[0;34m\u001b[0m\u001b[0m\n\u001b[1;32m    160\u001b[0m                                 \u001b[0;32mreturn\u001b[0m \u001b[0mf\u001b[0m\u001b[0;34m(\u001b[0m\u001b[0;34m*\u001b[0m\u001b[0mx_k\u001b[0m\u001b[0;34m+\u001b[0m\u001b[0malpha\u001b[0m\u001b[0;34m*\u001b[0m\u001b[0md_k\u001b[0m\u001b[0;34m)\u001b[0m\u001b[0;34m\u001b[0m\u001b[0m\n\u001b[0;32m--> 161\u001b[0;31m                         \u001b[0malpha_k\u001b[0m\u001b[0;34m,\u001b[0m\u001b[0mstop\u001b[0m \u001b[0;34m=\u001b[0m \u001b[0mGoldenSection\u001b[0m\u001b[0;34m(\u001b[0m\u001b[0mf_Alpha\u001b[0m\u001b[0;34m)\u001b[0m\u001b[0;34m\u001b[0m\u001b[0m\n\u001b[0m\u001b[1;32m    162\u001b[0m                         \u001b[0;32mif\u001b[0m \u001b[0mstop\u001b[0m\u001b[0;34m:\u001b[0m\u001b[0;34m\u001b[0m\u001b[0m\n\u001b[1;32m    163\u001b[0m                                 \u001b[0;32mprint\u001b[0m \u001b[0;34m\"Stop\"\u001b[0m\u001b[0;34m\u001b[0m\u001b[0m\n",
        "\u001b[0;32m/Users/Pro/Dropbox/CS268/HW2/hw2.py\u001b[0m in \u001b[0;36mGoldenSection\u001b[0;34m(f)\u001b[0m\n\u001b[1;32m     50\u001b[0m                 \u001b[0ms\u001b[0m \u001b[0;34m=\u001b[0m \u001b[0ms\u001b[0m\u001b[0;34m/\u001b[0m\u001b[0mt\u001b[0m\u001b[0;34m\u001b[0m\u001b[0m\n\u001b[1;32m     51\u001b[0m                 \u001b[0mx4\u001b[0m \u001b[0;34m=\u001b[0m \u001b[0mx2\u001b[0m\u001b[0;34m+\u001b[0m\u001b[0ms\u001b[0m\u001b[0;34m\u001b[0m\u001b[0m\n\u001b[0;32m---> 52\u001b[0;31m                 \u001b[0mf4\u001b[0m \u001b[0;34m=\u001b[0m \u001b[0mf\u001b[0m\u001b[0;34m(\u001b[0m\u001b[0mx4\u001b[0m\u001b[0;34m)\u001b[0m\u001b[0;34m\u001b[0m\u001b[0m\n\u001b[0m\u001b[1;32m     53\u001b[0m                 \u001b[0;32mif\u001b[0m \u001b[0mf4\u001b[0m\u001b[0;34m>\u001b[0m\u001b[0mf2\u001b[0m\u001b[0;34m:\u001b[0m\u001b[0;34m\u001b[0m\u001b[0m\n\u001b[1;32m     54\u001b[0m                         \u001b[0;32mbreak\u001b[0m\u001b[0;34m\u001b[0m\u001b[0m\n",
        "\u001b[0;32m/Users/Pro/Dropbox/CS268/HW2/hw2.py\u001b[0m in \u001b[0;36mf_Alpha\u001b[0;34m(alpha)\u001b[0m\n\u001b[1;32m    158\u001b[0m                         \u001b[0;31m# alpha_k = -np.dot(d_k.T,g_k)/np.dot(np.dot(d_k.T,A),d_k)\u001b[0m\u001b[0;34m\u001b[0m\u001b[0;34m\u001b[0m\u001b[0m\n\u001b[1;32m    159\u001b[0m                         \u001b[0;32mdef\u001b[0m \u001b[0mf_Alpha\u001b[0m\u001b[0;34m(\u001b[0m\u001b[0malpha\u001b[0m\u001b[0;34m)\u001b[0m\u001b[0;34m:\u001b[0m\u001b[0;34m\u001b[0m\u001b[0m\n\u001b[0;32m--> 160\u001b[0;31m                                 \u001b[0;32mreturn\u001b[0m \u001b[0mf\u001b[0m\u001b[0;34m(\u001b[0m\u001b[0;34m*\u001b[0m\u001b[0mx_k\u001b[0m\u001b[0;34m+\u001b[0m\u001b[0malpha\u001b[0m\u001b[0;34m*\u001b[0m\u001b[0md_k\u001b[0m\u001b[0;34m)\u001b[0m\u001b[0;34m\u001b[0m\u001b[0m\n\u001b[0m\u001b[1;32m    161\u001b[0m                         \u001b[0malpha_k\u001b[0m\u001b[0;34m,\u001b[0m\u001b[0mstop\u001b[0m \u001b[0;34m=\u001b[0m \u001b[0mGoldenSection\u001b[0m\u001b[0;34m(\u001b[0m\u001b[0mf_Alpha\u001b[0m\u001b[0;34m)\u001b[0m\u001b[0;34m\u001b[0m\u001b[0m\n\u001b[1;32m    162\u001b[0m                         \u001b[0;32mif\u001b[0m \u001b[0mstop\u001b[0m\u001b[0;34m:\u001b[0m\u001b[0;34m\u001b[0m\u001b[0m\n",
        "\u001b[0;31mKeyboardInterrupt\u001b[0m: "
       ]
      }
     ],
     "prompt_number": 7
    },
    {
     "cell_type": "code",
     "collapsed": false,
     "input": [
      "x_rb = [Symbol('x'+str(i)) for i in range(2)]\n",
      "y_rb = (1-x_rb[0])**2 + 100*(x_rb[1]-x_rb[0]**2)**2\n",
      "RosenBrock = lambdify(x_rb,y_rb,'numpy')"
     ],
     "language": "python",
     "metadata": {},
     "outputs": [],
     "prompt_number": 8
    },
    {
     "cell_type": "code",
     "collapsed": false,
     "input": [
      "def ConjugateGradient(f,x,y,CG_iter,e_f):\n",
      "\tdim = len(x)\n",
      "\tglobal e_abs\n",
      "\t# global e_f\n",
      "\tglobal e_r\n",
      "\te_G = np.linalg.norm([e_abs for i in range(dim)]) # undecided\n",
      "\tk = 0\n",
      "\tx_0 = np.random.randn(dim)\n",
      "\t# x_0 = [-0.65505324,-0.89369433]\n",
      "\tfprime = [y.diff(x[i]) for i in range(dim)]\n",
      "\tgradient = lambdify(x[:dim],fprime,'numpy')\n",
      "\tx_out = x_0\n",
      "\tf_old = f(*x_0)\n",
      "\tcounter = 0\n",
      "\titer_counter = 0\n",
      "\twhile True:\n",
      "\t\tprint \"====outer===\"\n",
      "\t\tx_k = x_out\n",
      "\t\tg_k = np.array(gradient(*x_k))\n",
      "\t\tif(np.linalg.norm(g_k) < e_G):\n",
      "\t\t\t# print \"e_G\"\n",
      "\t\t\tbreak\n",
      "\t\td_k = -g_k\n",
      "\t\tprint x_k,f_old,k\n",
      "\t\tfor i in range(CG_iter):\n",
      "\t\t\tprint \"====inner===\"\n",
      "\t\t\t# alpha_k = -np.dot(d_k.T,g_k)/np.dot(np.dot(d_k.T,A),d_k)\n",
      "\t\t\tdef f_Alpha(alpha):\n",
      "\t\t\t\treturn f(*x_k+alpha*d_k)\n",
      "\t\t\talpha_k,stop = GoldenSection(f_Alpha)\n",
      "\t\t\t# if stop:\n",
      "\t\t\t# \tprint \"Stop\"\n",
      "\t\t\t# \tbreak\n",
      "\t\t\tx_k_plus_1 = x_k + alpha_k*d_k\n",
      "\t\t\tg_k_plus_1 = np.array(gradient(*x_k_plus_1))\n",
      "\t\t\tbeta_k = np.dot(g_k_plus_1.T,g_k_plus_1)/np.dot(g_k.T,g_k)\n",
      "\t\t\td_k_plus_1 = -g_k_plus_1+beta_k*d_k\n",
      "\n",
      "\t\t\td_k = d_k_plus_1\n",
      "\t\t\tx_k = x_k_plus_1\n",
      "\t\t\tg_k = g_k_plus_1\n",
      "\t\t\titer_counter = iter_counter + 1\n",
      "\t\t\tprint x_k,f(*x_k)\n",
      "\n",
      "\n",
      "\t\tf_new = f(*x_k)\n",
      "\t\tif f_new >= f_old:\n",
      "\t\t\t# print \"Bad\"\n",
      "\t\t\t# print f_new,f_old\n",
      "\t\t\tg_out =  np.array(gradient(*x_out))\n",
      "\t\t\td_out = -g_out/np.linalg.norm(g_out)\n",
      "\t\t\tdef f_Alpha(alpha):\n",
      "\t\t\t\treturn f(*x_out+alpha*d_out)\n",
      "\t\t\talpha_out = GoldenSection(f_Alpha)\n",
      "\t\t\tif(f(*x_out + alpha_out*d_out)<f_new):\n",
      "\t\t\t\tx_out = x_out + alpha_out*d_out\n",
      "\t\t\t\tf_new = f(*x_out)\n",
      "\t\t\telse:\n",
      "\t\t\t\tx_out = x_k\n",
      "\t\t\t# print f_new\n",
      "\t\telse:\n",
      "\t\t\tx_out = x_k\n",
      "# \t\tx_out = x_k\n",
      "\t\tif abs(f_new-f_old) <= e_f + e_r*abs(f_old):\n",
      "\t\t\tcounter = counter + 1\n",
      "\t\t\tif counter == 2:\n",
      "\t\t\t\t# print \"e_f\",f_new,f_old\n",
      "\t\t\t\tbreak\n",
      "\t\telse:\n",
      "\t\t\tcounter = 0\n",
      "\n",
      "\t\tk = k+1\n",
      "\t\tf_old = f_new\n",
      "\t# print \"===Result===\"\n",
      "\t# print x_0\n",
      "\treturn x_out, f_new, iter_counter\n"
     ],
     "language": "python",
     "metadata": {},
     "outputs": [],
     "prompt_number": 13
    },
    {
     "cell_type": "code",
     "collapsed": false,
     "input": [
      "ConjugateGradient(RosenBrock,x_rb,y_rb,2,1e-6)"
     ],
     "language": "python",
     "metadata": {},
     "outputs": [
      {
       "output_type": "stream",
       "stream": "stdout",
       "text": [
        "====outer===\n",
        "[ 0.31130147  0.7873244 ] 48.141702472 0\n",
        "====inner===\n",
        "[-2.16646626  4.70426026] 10.0379237988\n",
        "====inner===\n",
        "[ 2.93258197  8.60381022] 3.73629678371\n",
        "====outer===\n",
        "[ 2.93258197  8.60381022] 3.73629678371 1\n",
        "====inner===\n",
        "[ -4.27736076  18.30324009] 27.8560496896\n",
        "====inner===\n",
        "[ 0.9264255   0.85800834] 0.00541975402423\n",
        "====outer===\n",
        "[ 0.9264255   0.85800834] 0.00541975402423 2\n",
        "====inner===\n",
        "[ 0.92691989  0.85849177] 0.0053881346724\n",
        "====inner===\n",
        "[ 0.93260457  0.87126703] 0.00477189223886\n",
        "====outer===\n",
        "[ 0.93260457  0.87126703] 0.00477189223886 3\n",
        "====inner===\n",
        "[ 0.93326951  0.87097916] 0.00445297502326\n",
        "====inner===\n",
        "[ 0.93354536  0.8709679 ] 0.00444527528392\n",
        "====outer===\n",
        "[ 0.93354536  0.8709679 ] 0.00444527528392 4\n",
        "====inner===\n",
        "[ 0.93334168  0.87128903] 0.00444596617585\n",
        "====inner===\n",
        "[ 0.93334662  0.87132373] 0.00444620152699\n",
        "====outer===\n",
        "[ 0.93342362  0.8709679 ] 0.0044421332712 5\n",
        "====inner===\n",
        "[ 0.93381208  0.87241319] 0.00439750284745\n",
        "====inner===\n",
        "[ 0.99983655  0.99990993] 5.63412126055e-06\n",
        "====outer===\n",
        "[ 0.99983655  0.99990993] 5.63412126055e-06 6\n",
        "====inner===\n",
        "[ 0.99996696  0.99984495] 7.92711085994e-07\n",
        "====inner===\n",
        "[ 0.99981449  0.99992156] 8.59255487382e-06\n",
        "====outer===\n",
        "[ 0.99983657  0.99990993] 5.63262929596e-06 7\n",
        "====inner===\n",
        "[ 0.99995194  0.99985244] 2.66887677579e-07\n",
        "====inner===\n",
        "[ 1.00003587  0.99981018] 6.84243424845e-06\n",
        "====outer===\n",
        "[ 1.00002016  0.99990993] 1.70057122142e-06 8\n",
        "====inner===\n",
        "[ 1.00002055  0.99990974] 1.72609594891e-06\n",
        "====inner===\n",
        "[ 0.99999063  0.99992469] 3.20124644063e-07\n",
        "====outer===\n",
        "[ 0.99999063  0.99992469] 3.20124644063e-07 9\n",
        "====inner===\n",
        "[ 0.99992705  0.9999565 ] 1.05382574759e-06\n",
        "====inner===\n",
        "[ 1.00004824  0.99989554] 4.04059083813e-06\n",
        "====outer===\n",
        "[ 1.00004824  0.99989554] 4.04059083813e-06 10\n",
        "====inner===\n",
        "[ 1.00005426  0.99989253] 4.66821996524e-06\n",
        "====inner===\n",
        "[ 0.99992754  0.99995581] 1.01964449386e-06\n",
        "====outer===\n",
        "[ 0.99992754  0.99995581] 1.01964449386e-06 11\n"
       ]
      },
      {
       "output_type": "stream",
       "stream": "stdout",
       "text": [
        "====inner===\n",
        "[ 0.99988648  0.99997627] 4.14551090967e-06\n",
        "====inner===\n",
        "[-1.49435207  2.24306296] 6.23174201469\n",
        "====outer===\n",
        "[ 0.99994485  0.99995581] 4.40180971848e-07 12\n",
        "====inner===\n",
        "[ 0.99993563  0.9999604 ] 7.98445384514e-07\n",
        "====inner===\n",
        "[ 0.99987647  0.99998986] 5.62752231357e-06\n",
        "====outer===\n",
        "[ 0.99987643  0.99995581] 4.13327134071e-06 13\n",
        "====inner===\n",
        "[ 0.99985226  0.99996786] 6.95506623958e-06\n",
        "====inner===\n",
        "[-1.49457035  2.24368884] 6.23277811403\n",
        "====outer===\n",
        "[-1.49457035  2.24368884] 6.23277811403 14\n",
        "====inner===\n",
        "[  3.5718471  12.7634091] 6.61722498439\n",
        "====inner===\n",
        "[  3.57210105  12.76244496] 6.61634848509\n",
        "====outer===\n",
        "[-1.49550197  2.24368884] 6.23266050407 15\n",
        "====inner===\n",
        "[-0.51013487  0.24508847] 2.30345690692\n",
        "====inner===\n",
        "[-0.42505302  0.14161601] 2.18329810371\n",
        "====outer===\n",
        "[-0.42505302  0.14161601] 2.18329810371 16\n",
        "====inner===\n",
        "[ 1.22340084  1.49836993] 0.0501835971108\n",
        "====inner===\n",
        "[-2.0595298   4.25082805] 9.36912240832\n",
        "====outer===\n",
        "[-2.0595298   4.25082805] 9.36912240832 17\n",
        "====inner===\n",
        "[-2.06020703  4.24996069]"
       ]
      },
      {
       "output_type": "stream",
       "stream": "stdout",
       "text": [
        " 9.3679005274\n",
        "====inner===\n",
        "[-1.71491456  2.88812939] 7.64957188616\n",
        "====outer===\n",
        "[-1.71491456  2.88812939] 7.64957188616 18\n",
        "====inner===\n",
        "[-1.69782417  2.89246266] 7.28796882933\n",
        "====inner===\n",
        "[-1.69873073  2.89096264] 7.28593175005\n",
        "====outer===\n",
        "[-1.69873073  2.89096264] 7.28593175005 19\n",
        "====inner===\n",
        "[ 1.11809795  1.25053488] 0.0139624811369\n",
        "====inner===\n",
        "[ 1.11662967  1.24845075] 0.0138549481765\n",
        "====outer===\n",
        "[ 1.11662967  1.24845075] 0.0138549481765 20\n",
        "====inner===\n",
        "[ 1.11700182  1.24820253] 0.0137153809909\n",
        "====inner===\n",
        "[ 1.11703084  1.24783158] 0.0136967613477\n",
        "====outer===\n",
        "[ 1.11703084  1.24783158] 0.0136967613477 21\n",
        "====inner===\n",
        "[ 1.11680031  1.24781469] 0.0136750032535\n",
        "====inner===\n",
        "[ 1.10927819  1.22796731] 0.012582212709\n",
        "====outer===\n",
        "[ 1.10927819  1.22796731] 0.012582212709 22\n",
        "====inner===\n",
        "[ 1.10819637  1.22837549] 0.0117140882092\n",
        "====inner===\n",
        "[ 1.10799018  1.22826935] 0.0117012055004\n",
        "====outer===\n",
        "[ 1.10799018  1.22826935] 0.0117012055004 23\n",
        "====inner===\n",
        "[ 1.10812482  1.22799677] 0.0116912919785\n",
        "====inner===\n",
        "[ 1.10715257  1.22479946] 0.0115791580202\n",
        "====outer===\n",
        "[ 1.10715257  1.22479946] 0.0115791580202 24\n",
        "====inner===\n",
        "[ 1.10656021  1.22497899] 0.0113804283738\n",
        "====inner===\n",
        "[ 1.1065352   1.22446089] 0.0113499144344\n",
        "====outer===\n",
        "[ 1.1065352   1.22446089] 0.0113499144344 25\n",
        "====inner===\n",
        "[-1.06029147  1.1339271 ] 4.25422760786\n",
        "====inner===\n",
        "[-1.0603222   1.13392273] 4.25421968036\n",
        "====outer===\n",
        "[-1.0603222   1.13392273] 4.25421968036 26\n",
        "====inner===\n",
        "[-1.06014693  1.12343674] 4.24422790379\n",
        "====inner===\n",
        "[-0.86000991  0.69516405]"
       ]
      },
      {
       "output_type": "stream",
       "stream": "stdout",
       "text": [
        " 3.6572436596\n",
        "====outer===\n",
        "[-0.86000991  0.69516405] 3.6572436596 27\n",
        "====inner===\n",
        "[ 1.30658117  1.70832759] 0.0941296624315\n",
        "====inner===\n",
        "[ 1.30659175  1.70729235] 0.093999719686\n",
        "====outer===\n",
        "[ 1.30659175  1.70729235] 0.093999719686 28\n",
        "====inner===\n",
        "[-1.26352444  1.60519103] 5.13110669789\n",
        "====inner===\n",
        "[-1.26372713  1.60511672] 5.13103847537\n",
        "====outer===\n",
        "[-1.26372713  1.60511672] 5.13103847537 29\n",
        "====inner===\n",
        "[-1.24427592  1.53134508] 5.06525942133\n",
        "====inner===\n",
        "[-1.04946858  1.0478608 ] 4.48679804015\n",
        "====outer===\n",
        "[-1.04946858  1.0478608 ] 4.48679804015 30\n",
        "====inner===\n",
        "[ 1.4305075   2.04710689] 0.185393738406\n",
        "====inner===\n",
        "[ 1.43005543  2.04694806] 0.185304703824\n",
        "====outer===\n",
        "[ 1.43005543  2.04694806] 0.185304703824 31\n",
        "====inner===\n",
        "[ 1.43028214  2.04655993] 0.185215469827\n",
        "====inner===\n",
        "[ 1.28451691  1.63799682] 0.0953183572138\n",
        "====outer===\n",
        "[ 1.28451691  1.63799682] 0.0953183572138 32\n",
        "====inner===\n",
        "[-1.63364325  2.67782344] 6.94423658298\n",
        "====inner===\n",
        "[-1.63442677  2.67667938] 6.94304370833\n",
        "====outer===\n",
        "[-1.63442677  2.67667938] 6.94304370833 33\n",
        "====inner===\n",
        "[-1.6326337   2.67560899] 6.94099393905\n",
        "====inner===\n",
        "[-1.34725629  1.76743263] 5.73682533572\n",
        "====outer===\n",
        "[-1.34725629  1.76743263] 5.73682533572 34\n",
        "====inner===\n",
        "[-1.32856134  1.77329873]"
       ]
      },
      {
       "output_type": "stream",
       "stream": "stdout",
       "text": [
        " 5.42896051129\n",
        "====inner===\n",
        "[-1.3159406   1.71816324] 5.38190435398\n",
        "====outer===\n",
        "[-1.3159406   1.71816324] 5.38190435398 35\n",
        "====inner===\n",
        "[ 1.54068289  2.37595061] 0.292842819483\n",
        "====inner===\n",
        "[ 1.54088946  2.37567023] 0.292738272569\n",
        "====outer===\n",
        "[ 1.54088946  2.37567023] 0.292738272569 36\n",
        "====inner===\n",
        "[ 1.54035836  2.37513123] 0.292576363412\n",
        "====inner===\n",
        "[ 1.51840223  2.29624707] 0.277386651088\n",
        "====outer===\n",
        "[ 1.51840223  2.29624707] 0.277386651088 37\n",
        "====inner===\n",
        "[ 1.51506129  2.29717658] 0.265599961046\n",
        "====inner===\n",
        "[ 1.51513915  2.29597118] 0.265378873695\n",
        "====outer===\n",
        "[ 1.51513915  2.29597118] 0.265378873695 38\n",
        "====inner===\n",
        "[-1.43464339  2.06628328] 5.93401969476\n",
        "====inner===\n",
        "[ 2.0683359   4.28140318] 1.14249065761\n",
        "====outer===\n",
        "[ 2.0683359   4.28140318] 1.14249065761 39\n",
        "====inner===\n",
        "[ 2.06858192  4.28115341] 1.14231771763\n",
        "====inner===\n",
        "[ 2.03956703  4.14384518] 1.10626279238\n",
        "====outer===\n",
        "[ 2.03956703  4.14384518] 1.10626279238 40\n",
        "====inner===\n",
        "[-2.24570139  5.04994971] 10.539167552\n",
        "====inner===\n",
        "[-2.0984742   4.34896822] 9.89893976371\n",
        "====outer===\n",
        "[ 2.0352795   4.14384518] 1.07202343554 41\n",
        "====inner===\n",
        "[-1.69040984  2.86468048] 7.24348198497\n",
        "====inner===\n",
        "[ 2.8829113   8.31517562] 3.54695340922\n",
        "====outer===\n",
        "[ 2.8829113   8.31517562] 3.54695340922 42\n",
        "====inner===\n",
        "[ 2.88311358  8.31498411] 3.54681381991\n",
        "====inner===\n",
        "[ 2.87327671  8.27072772] 3.53169165952\n",
        "====outer===\n",
        "[ 2.87327671  8.27072772] 3.53169165952 43\n",
        "====inner===\n",
        "[ 2.87524042  8.27029119] 3.51760491369\n",
        "====inner===\n",
        "[ 2.87536416  8.26884028] 3.51711644731\n",
        "====outer===\n",
        "[ 2.87536416  8.26884028] 3.51711644731 44\n",
        "====inner===\n",
        "[ 2.87495996  8.26880345]"
       ]
      },
      {
       "output_type": "stream",
       "stream": "stdout",
       "text": [
        " 3.51663675966\n",
        "====inner===\n",
        "[ 2.87472461  8.26310578] 3.51467993521\n",
        "====outer===\n",
        "[ 2.87472461  8.26310578] 3.51467993521 45\n",
        "====inner===\n",
        "[-2.91221766  8.48755497] 15.3097284616\n",
        "====inner===\n",
        "[-2.91249417  8.48532593] 15.3083415945\n",
        "====outer===\n",
        "[ 2.87405318  8.26310578] 3.51293035837 46\n",
        "====inner===\n",
        "[ 2.87365404  8.26250181] 3.51270860911\n",
        "====inner===\n",
        "[ 2.85927547  8.19448483] 3.49311413569\n",
        "====outer===\n",
        "[ 2.85927547  8.19448483] 3.49311413569 47\n",
        "====inner===\n",
        "[-3.07226793  9.44548073] 16.587789002\n",
        "====inner===\n",
        "[-3.07161492  9.43204452] 16.5788174027\n",
        "====outer===\n",
        "[-3.07161492  9.43204452] 16.5788174027 48\n",
        "====inner===\n",
        "[-3.07006117  9.43211914] 16.570081342\n",
        "====inner===\n",
        "[-3.07031022  9.42859237] 16.5677448293\n",
        "====outer===\n",
        "[-3.07031022  9.42859237] 16.5677448293 49\n",
        "====inner===\n",
        "[-3.06955822  9.42854715] 16.5653484052\n",
        "====inner===\n",
        "[-3.06869084  9.42674409] 16.5640078323\n",
        "====outer===\n",
        "[-3.06869084  9.42674409] 16.5640078323 50\n",
        "====inner===\n",
        "[  3.56472076  12.71135621] 6.5794917604\n",
        "====inner===\n",
        "[  3.56484745  12.71111545] 6.57932935252\n",
        "====outer===\n",
        "[  3.56484745  12.71111545] 6.57932935252 51\n",
        "====inner===\n",
        "[  3.56474506  12.71104639] 6.57924148667\n",
        "====inner===\n",
        "[-0.73068077  0.53777022] 2.99675812409\n",
        "====outer===\n",
        "[-0.73068077  0.53777022] 2.99675812409 52\n",
        "====inner===\n",
        "[-0.72006098  0.53423494] 2.98340698187\n",
        "====inner===\n",
        "[-0.49286234  0.2093508 ] 2.34128207932\n",
        "====outer===\n",
        "[-0.49286234  0.2093508 ] 2.34128207932 53\n",
        "====inner===\n",
        "[-0.46728957  0.22722729] 2.16080237074\n",
        "====inner===\n",
        "[-0.27630279  0.04468233] 1.72919011984\n",
        "====outer===\n",
        "[-0.27630279  0.04468233] 1.72919011984 54\n",
        "====inner===\n",
        "[-0.25099601  0.07116156] 1.57165376566\n",
        "====inner===\n",
        "[-0.08614686 -0.02068264] 1.25869803995\n",
        "====outer===\n",
        "[-0.08614686 -0.02068264] 1.25869803995 55\n",
        "====inner===\n",
        "[-0.06892837  0.0101324 ] 1.14550369\n",
        "====inner===\n",
        "[ 0.09641026 -0.0164777 ]"
       ]
      },
      {
       "output_type": "stream",
       "stream": "stdout",
       "text": [
        " 0.882897318509\n",
        "====outer===\n",
        "[ 0.09641026 -0.0164777 ] 0.882897318509 56\n",
        "====inner===\n",
        "[ 0.10085939  0.01172069] 0.808693481825\n",
        "====inner===\n",
        "[ 0.25086378  0.03947366] 0.616237457553\n",
        "====outer===\n",
        "[ 0.25086378  0.03947366] 0.616237457553 57\n",
        "====inner===\n",
        "[ 0.24717116  0.05971953] 0.566940059893\n",
        "====inner===\n",
        "[ 0.40209632  0.14067811] 0.401602849762\n",
        "====outer===\n",
        "[ 0.40209632  0.14067811] 0.401602849762 58\n",
        "====inner===\n",
        "[-2.31467363  5.37004344] 11.0022627631\n",
        "====inner===\n",
        "[ 1.92706115  3.71546641] 0.859804036483\n",
        "====outer===\n",
        "[ 1.92706115  3.71546641] 0.859804036483 59\n",
        "====inner===\n",
        "[ 1.92654241  3.7149582 ] 0.859631770952\n",
        "====inner===\n",
        "[ 1.38623641  1.91462842] 0.154110780831\n",
        "====outer===\n",
        "[ 1.38623641  1.91462842] 0.154110780831 60\n",
        "====inner===\n",
        "[-1.68201643  2.83812385] 7.20121267996\n",
        "====inner===\n",
        "[-1.68266398  2.83737794] 7.20030991158\n",
        "====outer===\n",
        "[-1.68266398  2.83737794] 7.20030991158 61\n",
        "====inner===\n",
        "[ 0.7688156   0.59039381] 0.0534929596383\n",
        "====inner===\n",
        "[ 0.7699174  0.5908001] 0.0533271589\n",
        "====outer===\n",
        "[ 0.7699174  0.5908001] 0.0533271589 62\n",
        "====inner===\n",
        "[ -3.44435825  11.87396757] 19.7630611224\n",
        "====inner===\n",
        "[ 1.26802357  1.60715197]"
       ]
      },
      {
       "output_type": "stream",
       "stream": "stdout",
       "text": [
        " 0.0718901924108\n",
        "====outer===\n",
        "[ 0.76956194  0.5908001 ] 0.0533048994784 63\n",
        "====inner===\n",
        "[ 0.76969615  0.59253305] 0.0530408828226\n",
        "====inner===\n",
        "[ 0.83629455  0.69105904] 0.0337375853702\n",
        "====outer===\n",
        "[ 0.83629455  0.69105904] 0.0337375853702 64\n",
        "====inner===\n",
        "[ 0.83292611  0.6933411 ] 0.0279317303674\n",
        "====inner===\n",
        "[ 0.83384189  0.69381525] 0.0278266830746\n",
        "====outer===\n",
        "[ 0.83384189  0.69381525] 0.0278266830746 65\n",
        "====inner===\n",
        "[ 0.83360141  0.69425832] 0.0277285576279\n",
        "====inner===\n",
        "[ 0.83598857  0.70060497] 0.0271983739422\n",
        "====outer===\n",
        "[ 0.83598857  0.70060497] 0.0271983739422 66\n",
        "====inner===\n",
        "[ 0.83729792  0.70010542] 0.0265645852803\n",
        "====inner===\n",
        "[ 0.83786266  0.70270926] 0.026336877574\n",
        "====outer===\n",
        "[ 0.83786266  0.70270926] 0.026336877574 67\n",
        "====inner===\n",
        "[-1.08199003  1.18180632] 4.34701213274\n",
        "====inner===\n",
        "[-1.08094688  1.18124976] 4.34673315429\n",
        "====outer===\n",
        "[ 0.83865856  0.70270926] 0.0260718828869 68\n",
        "====inner===\n",
        "[ 0.84328458  0.70816504] 0.0254381599913\n",
        "====inner===\n",
        "[ 0.92984421  0.85902735] 0.00803871796692\n",
        "====outer===\n",
        "[ 0.92984421  0.85902735] 0.00803871796692 69\n",
        "====inner===\n",
        "[-1.50000166  2.26030103] 6.26060916448\n",
        "====inner===\n",
        "[ 1.74116561  3.03373203] 0.549756754579\n",
        "====outer===\n",
        "[ 0.92758728  0.85902735] 0.0054370395872 70\n",
        "====inner===\n",
        "[ 0.92710465  0.85938901] 0.00531552878635\n",
        "====inner===\n",
        "[ 0.92740136  0.85953814] 0.00529919995563\n",
        "====outer===\n",
        "[ 0.92740136  0.85953814] 0.00529919995563 71\n",
        "====inner===\n",
        "[ 0.9273618   0.85961756] 0.00529092720236\n",
        "====inner===\n",
        "[ 0.92736508  0.85959611] 0.00529263170889\n",
        "====outer===\n",
        "[ 0.92736508  0.85959611] 0.00529263170889 72\n",
        "====inner===\n",
        "[ 0.92734359  0.85985617] 0.00528016304397\n",
        "====inner===\n",
        "[ 0.94685952  0.89344174] 0.00378566692556\n",
        "====outer===\n",
        "[ 0.94685952  0.89344174] 0.00378566692556 73\n",
        "====inner===\n",
        "[-1.5219931   2.32684972] 6.37123761263\n",
        "====inner===\n",
        "[ 1.4620695   2.13943537] 0.213827968152\n",
        "====outer===\n",
        "[ 1.4620695   2.13943537] 0.213827968152 74\n",
        "====inner===\n",
        "[ 1.46223307  2.13895435] 0.213728103609\n",
        "====inner===\n",
        "[ 1.30861891  1.69966394]"
       ]
      },
      {
       "output_type": "stream",
       "stream": "stdout",
       "text": [
        " 0.111679627619\n",
        "====outer===\n",
        "[ 1.30861891  1.69966394] 0.111679627619 75\n",
        "====inner===\n",
        "[ 1.30381486  1.70134486] 0.0925027505418\n",
        "====inner===\n",
        "[ 1.30401291  1.70087344] 0.092441806421\n",
        "====outer===\n",
        "[ 1.30401291  1.70087344] 0.092441806421 76\n",
        "====inner===\n",
        "[ 1.30366392  1.700797  ] 0.092369878969\n",
        "====inner===\n",
        "[ 1.16313397  1.34510392] 0.0326604257031\n",
        "====outer===\n",
        "[ 1.16313397  1.34510392] 0.0326604257031 77\n",
        "====inner===\n",
        "[-1.55117044  2.41539625] 6.51705745062\n",
        "====inner===\n",
        "[-1.55187336  2.41468056] 6.5161148626\n",
        "====outer===\n",
        "[-1.55187336  2.41468056] 6.5161148626 78\n",
        "====inner===\n",
        "[-1.5485143   2.41095886] 6.51198756655\n",
        "====inner===\n",
        "[-1.24076607  1.49440483] 5.22439390621\n",
        "====outer===\n",
        "[-1.24076607  1.49440483] 5.22439390621 79\n",
        "====inner===\n",
        "[-1.22130427  1.50093909] 4.9429442085\n",
        "====inner===\n",
        "[-1.22135383  1.49171682] 4.93441286168\n",
        "====outer===\n",
        "[-1.22135383  1.49171682] 4.93441286168 80\n",
        "====inner===\n",
        "[ 1.22056901  1.49043553] 0.0486925261897\n",
        "====inner===\n",
        "[-0.11849739  0.02262869] 1.25841016476\n",
        "====outer===\n",
        "[-0.11849739  0.02262869] 1.25841016476 81\n",
        "====inner===\n",
        "[-0.08727743 -0.00667087] 1.20258753083\n",
        "====inner===\n",
        "[ 0.04831193 -0.03175881] 1.02194242513\n",
        "====outer===\n",
        "[ 0.04831193 -0.03175881] 1.02194242513 82\n",
        "====inner===\n",
        "[ 0.05501717  0.00497782] 0.893373156101\n",
        "====inner===\n",
        "[ 0.20322786  0.01676156] 0.695067009781\n",
        "====outer===\n",
        "[ 0.20322786  0.01676156] 0.695067009781 83\n",
        "====inner===\n",
        "[ 0.20132592  0.04002044] 0.637906473364\n",
        "====inner===\n",
        "[ 0.34437621  0.09612871] 0.480315867661\n",
        "====outer===\n",
        "[ 0.34437621  0.09612871] 0.480315867661 84\n",
        "====inner===\n",
        "[ 0.33804929  0.1120685 ] 0.438666635385\n",
        "====inner===\n",
        "[ 0.49833619  0.22948885] 0.28719924441\n",
        "====outer===\n",
        "[ 0.49833619  0.22948885] 0.28719924441 85\n",
        "====inner===\n",
        "[-1.85397866  3.44945906] 8.16013239173\n",
        "====inner===\n",
        "[ 1.75967356  3.09893685] 0.577721841734\n",
        "====outer===\n",
        "[ 0.49123646  0.22948885] 0.272821999422 86\n",
        "====inner===\n",
        "[-2.29356013  5.27251648] 10.862175466\n",
        "====inner===\n",
        "[-2.29450074  5.27313739] 10.8607974176\n",
        "====outer===\n",
        "[-2.29450074  5.27313739] 10.8607974176 87\n",
        "====inner===\n",
        "[-2.2950054   5.27238273]"
       ]
      },
      {
       "output_type": "stream",
       "stream": "stdout",
       "text": [
        " 10.8599046144\n",
        "====inner===\n",
        "[-2.03650007  4.08767785] 9.57620094591\n",
        "====outer===\n",
        "[-2.03650007  4.08767785] 9.57620094591 88\n",
        "====inner===\n",
        "[-2.02191641  4.09086066] 9.13271576008\n",
        "====inner===\n",
        "[-2.02069693  4.09071671] 9.13023588371\n",
        "====outer===\n",
        "[-2.02069693  4.09071671] 9.13023588371 89\n",
        "====inner===\n",
        "[-2.02078899  4.08420496] 9.12520418133\n",
        "====inner===\n",
        "[-1.71733192  2.89362524] 7.69306978975\n",
        "====outer===\n",
        "[-1.71733192  2.89362524] 7.69306978975 90\n",
        "====inner===\n",
        "[ 1.9562117   3.82995111] 0.915356443057\n",
        "====inner===\n",
        "[ 1.95640366  3.82974757] 0.915206273633\n",
        "====outer===\n",
        "[ 1.95640366  3.82974757] 0.915206273633 91\n",
        "====inner===\n",
        "[ 0.73482392  0.54216652] 0.0708024935219\n",
        "====inner===\n",
        "[ 0.73483669  0.54012889] 0.0703136545609\n",
        "====outer===\n",
        "[ 0.73483669  0.54012889] 0.0703136545609 92\n",
        "====inner===\n",
        "[-0.77749189  0.61615293] 3.17307132507\n",
        "====inner===\n",
        "[ 0.49146613  0.23741076] 0.260310896776\n",
        "====outer===\n",
        "[ 0.49146613  0.23741076] 0.260310896776 93\n",
        "====inner===\n",
        "[  3.52178936  12.41110958] 6.36599762632\n",
        "====inner===\n",
        "[-0.96398888  0.93366299] 3.85917815113\n",
        "====outer===\n",
        "[-0.96398888  0.93366299] 3.85917815113 94\n",
        "====inner===\n",
        "[-0.95850302  0.93150948] 3.85207060136\n",
        "====inner===\n",
        "[-0.73496156  0.50186751] 3.15678821473\n",
        "====outer===\n",
        "[-0.73496156  0.50186751] 3.15678821473 95\n",
        "====inner===\n",
        "[ 1.23474622  1.52620767] 0.0553648180248\n",
        "====inner===\n",
        "[-2.17147348  4.72462213] 10.066939702\n",
        "====outer===\n",
        "[-0.71108183  0.50186751] 2.92922220354 96\n",
        "====inner===\n",
        "[-0.7018229   0.50342076] 2.90800681823\n",
        "====inner===\n",
        "[-0.49729438  0.21215463] 2.36542211557\n",
        "====outer===\n",
        "[-0.49729438  0.21215463] 2.36542211557 97\n",
        "====inner===\n",
        "[ 1.17957448  1.39255186] 0.0323806068824\n",
        "====inner===\n",
        "[ 1.17979089  1.39229616] 0.0323399445321\n",
        "====outer===\n",
        "[ 1.17979089  1.39229616] 0.0323399445321 98\n",
        "====inner===\n",
        "[-0.73183544  0.54457852] 3.00734572368\n",
        "====inner===\n",
        "[ 1.30031472  1.69259637] 0.0905050615661\n",
        "====outer===\n",
        "[ 1.17949371  1.39229616] 0.0323369657286 99\n",
        "====inner===\n",
        "[ 1.17965646  1.39206802] 0.0322993550529\n",
        "====inner===\n",
        "[ 1.10278978  1.20995572]"
       ]
      },
      {
       "output_type": "stream",
       "stream": "stdout",
       "text": [
        " 0.0143968298624\n",
        "====outer===\n",
        "[ 1.10278978  1.20995572] 0.0143968298624 100\n",
        "====inner===\n",
        "[-1.51826858  2.31511875] 6.35163521549\n",
        "====inner===\n",
        "[ 2.07772913  4.32009603] 1.1624845875\n",
        "====outer===\n",
        "[ 2.07772913  4.32009603] 1.1624845875 101\n",
        "====inner===\n",
        "[ -3.46446502  12.01048895] 19.937801707\n",
        "====inner===\n",
        "[ -3.46371594  12.00838593] 19.9369875306\n",
        "====outer===\n",
        "[ -3.46371594  12.00838593] 19.9369875306 102\n",
        "====inner===\n",
        "[ -3.4643232   12.00817586] 19.9345914222\n",
        "====inner===\n",
        "[ -3.46452225  12.00764401] 19.9341958315\n",
        "====outer===\n",
        "[ -3.46452225  12.00764401] 19.9341958315 103\n",
        "====inner===\n",
        "[ 3.06647679  9.40625217] 4.27120975839\n",
        "====inner===\n",
        "[ 3.06572857  9.40438529] 4.27047624999\n",
        "====outer===\n",
        "[ 3.06572857  9.40438529] 4.27047624999 104\n",
        "====inner===\n",
        "[ -3.46508242  12.01326575] 19.941146554\n",
        "====inner===\n",
        "[ -3.46358344  12.00849355] 19.9381777504\n",
        "====outer===\n",
        "[ -3.46358344  12.00849355] 19.9381777504 105\n",
        "====inner===\n",
        "[  3.77397906  14.24703581] 7.69665550131\n",
        "====inner===\n",
        "[ -5.38335762  28.98725767] 40.7517682064\n",
        "====outer===\n",
        "[ -5.38335762  28.98725767] 40.7517682064 106\n",
        "====inner===\n",
        "[  6.17383169  38.12042371] 26.7703202386\n",
        "====inner===\n",
        "[  6.17320983  38.11664012] 26.7686942015\n",
        "====outer===\n",
        "[  6.17320983  38.11664012] 26.7686942015 107\n",
        "====inner===\n",
        "[ -6.34070235  40.21071929] 53.889771123\n",
        "====inner===\n",
        "[ -6.34079781  40.21056667] 53.8896645492\n",
        "====outer===\n",
        "[ -6.34079781  40.21056667] 53.8896645492 108\n",
        "====inner===\n",
        "[  5.93346691  35.21014394] 24.3407885561\n",
        "====inner===\n",
        "[  5.93352804  35.20975624] 24.3405996631\n",
        "====outer===\n",
        "[  5.93352804  35.20975624] 24.3405996631 109\n",
        "====inner===\n",
        "[  5.93342425  35.20973354] 24.3404474155\n",
        "====inner===\n",
        "[  5.93214592  35.20067208] 24.336707121\n",
        "====outer===\n",
        "[  5.93214592  35.20067208] 24.336707121 110\n",
        "====inner===\n",
        "[ -6.07378159  36.8955583 ]"
       ]
      },
      {
       "output_type": "stream",
       "stream": "stdout",
       "text": [
        " 50.0406284713\n",
        "====inner===\n",
        "[ -6.07369715  36.89553109] 50.0404792682\n",
        "====outer===\n",
        "[  5.93266597  35.20067208] 24.3329129762 111\n",
        "====inner===\n",
        "[  5.93236645  35.19087243] 24.3286794316\n",
        "====inner===\n",
        "[  5.46744404  29.820371  ] 20.4847449463\n",
        "====outer===\n",
        "[  5.46744404  29.820371  ] 20.4847449463 112\n",
        "====inner===\n",
        "[  5.460843   29.8209425] 19.8991221404\n",
        "====inner===\n",
        "[ -5.46156217  29.83405352] 41.7546932381\n",
        "====outer===\n",
        "[ -5.46156217  29.83405352] 41.7546932381 113\n",
        "====inner===\n",
        "[  4.51840445  20.41914469] 12.3801721738\n",
        "====inner===\n",
        "[  4.51724966  20.41366029] 12.3776317876\n",
        "====outer===\n",
        "[  4.51724966  20.41366029] 12.3776317876 114\n",
        "====inner===\n",
        "[ -4.73022118  22.38092834] 32.8389583025\n",
        "====inner===\n",
        "[ -4.72977305  22.37959626] 32.8381193621\n",
        "====outer===\n",
        "[  4.51773162  20.41366029] 12.3758504891 115\n",
        "====inner===\n",
        "[  4.5173742   20.41253267] 12.3753587666\n",
        "====inner===\n",
        "[  4.47663408  20.0061098 ] 12.2035581571\n",
        "====outer===\n",
        "[  4.47663408  20.0061098 ] 12.2035581571 116\n",
        "====inner===\n",
        "[ -4.57378359  20.91373572] 31.0703819405\n",
        "====inner===\n",
        "[  4.69698492  22.06395605] 13.668221324\n",
        "====outer===\n",
        "[  4.47244521  20.0061098 ] 12.0589937332 117\n",
        "====inner===\n",
        "[ -3.77784179  14.27824379] 22.8315608146\n",
        "====inner===\n",
        "[  6.12315309  37.49825647] 26.2494566825\n",
        "====outer===\n",
        "[  4.47235216  20.0061098 ] 12.0589733838 118\n",
        "====inner===\n",
        "[  4.47244478  20.00596269]"
       ]
      },
      {
       "output_type": "stream",
       "stream": "stdout",
       "text": [
        " 12.0588969912\n",
        "====inner===\n",
        "[  4.46642823  19.93621088] 12.0324326455\n",
        "====outer===\n",
        "[  4.46642823  19.93621088] 12.0324326455 119\n",
        "====inner===\n",
        "[ -4.55019139  20.71034842] 30.8083536917\n",
        "====inner===\n",
        "[ -4.55033286  20.7076646 ] 30.8066508607\n",
        "====outer===\n",
        "[  4.4646      19.93621088] 12.0047188945 120\n",
        "====inner===\n",
        "[ -3.22821887  10.42666156] 17.8806062976\n",
        "====inner===\n",
        "[  7.58777119  57.58023638] 43.4022870505\n",
        "====outer===\n",
        "[  4.4644672   19.93621088] 12.0047830552 121\n",
        "====inner===\n",
        "[ -5.07957606  25.80841652] 36.9652438203\n",
        "====inner===\n",
        "[-1.42253127  2.01706738] 5.87291898268\n",
        "====outer===\n",
        "[-1.42253127  2.01706738] 5.87291898268 122\n",
        "====inner===\n",
        "[ 1.57208829  2.47383252] 0.327847142143\n",
        "====inner===\n",
        "[ 1.57226022  2.47362406] 0.327744802432\n",
        "====outer===\n",
        "[ 1.57226022  2.47362406] 0.327744802432 123\n",
        "====inner===\n",
        "[ 1.02840948  1.05705339] 0.000839893340584\n",
        "====inner===\n",
        "[ 1.02803013  1.0569086 ] 0.000786080555317\n",
        "====outer===\n",
        "[ 1.02803013  1.0569086 ] 0.000786080555317 124\n",
        "====inner===\n",
        "[ 1.02807993  1.05692921] 0.000788519357018\n",
        "====inner===\n",
        "[ 1.02809026  1.05693174] 0.000789206174464\n",
        "====outer===\n",
        "[ 1.02809026  1.05693174] 0.000789206174464 125\n",
        "====inner===\n",
        "[ 1.02790192  1.05695161] 0.000792151573084\n",
        "====inner===\n",
        "[-0.52741828  0.28824525] 2.34315759101\n",
        "====outer===\n",
        "[-0.52741828  0.28824525] 2.34315759101 126\n",
        "====inner===\n",
        "[-1.62794094  2.6745702 ] 6.96550465251\n",
        "====inner===\n",
        "[-1.5627332   2.41307492]"
       ]
      },
      {
       "output_type": "stream",
       "stream": "stdout",
       "text": [
        " 6.65205047442\n",
        "====outer===\n",
        "[-1.5627332   2.41307492] 6.65205047442 127\n",
        "====inner===\n",
        "[-1.55162939  2.41584579] 6.51768831233\n",
        "====inner===\n",
        "[-1.5511758   2.40497549] 6.50863504073\n",
        "====outer===\n",
        "[-1.5511758   2.40497549] 6.50863504073 128\n",
        "====inner===\n",
        "[-1.54826974  2.40509224] 6.50000377174\n",
        "====inner===\n",
        "[-0.96654672  0.90382683] 3.95963525605\n",
        "====outer===\n",
        "[-0.96654672  0.90382683] 3.95963525605 129\n",
        "====inner===\n",
        "[-0.94952858  0.91042228] 3.80843695978\n",
        "====inner===\n",
        "[-0.86143679  0.70899171] 3.57438638937\n",
        "====outer===\n",
        "[-0.86143679  0.70899171] 3.57438638937 130\n",
        "====inner===\n",
        "[-0.8420227   0.71748598] 3.40024502955\n",
        "====inner===\n",
        "[-0.56766585  0.28621094] 2.58741811414\n",
        "====outer===\n",
        "[-0.56766585  0.28621094] 2.58741811414 131\n",
        "====inner===\n",
        "[-0.54187147  0.30263641] 2.38548875024\n",
        "====inner===\n",
        "[-0.36569333  0.10079654] 1.9735901504\n",
        "====outer===\n",
        "[-0.36569333  0.10079654] 1.9735901504 132\n",
        "====inner===\n",
        "[-0.33931768  0.12381096] 1.80129648752\n",
        "====inner===\n",
        "[-0.16891863 -0.00099027] 1.45353607913\n",
        "====outer===\n",
        "[-0.16891863 -0.00099027] 1.45353607913 133\n",
        "====inner===\n",
        "[-0.1472805   0.02849903] 1.32088673748\n",
        "====inner===\n",
        "[ 0.01970609 -0.02609781] 1.03112768131\n",
        "====outer===\n",
        "[ 0.01970609 -0.02609781] 1.03112768131 134\n",
        "====inner===\n",
        "[ 0.02956057  0.00370072] 0.942551809839\n",
        "====inner===\n",
        "[ 0.19963172  0.01541297] 0.700320018479\n",
        "====outer===\n",
        "[ 0.19963172  0.01541297] 0.700320018479 135\n",
        "====inner===\n",
        "[ 0.19794651  0.0388908 ] 0.643298322134\n",
        "====inner===\n",
        "[ 0.3335455  0.0887466] 0.4948135854\n",
        "====outer===\n",
        "[ 0.3335455  0.0887466] 0.4948135854 136\n",
        "====inner===\n",
        "[-3.01884136  9.12561145] 16.1659901032\n",
        "====inner===\n",
        "[ 2.29905773  5.28766386] 1.68794995439\n",
        "====outer===\n",
        "[ 0.32736419  0.0887466 ] 0.486371177009 137\n",
        "====inner===\n",
        "[ 0.32324859  0.10295907]"
       ]
      },
      {
       "output_type": "stream",
       "stream": "stdout",
       "text": [
        " 0.458226736737\n",
        "====inner===\n",
        "[ 0.45221218  0.18436313] 0.340604166469\n",
        "====outer===\n",
        "[ 0.45221218  0.18436313] 0.340604166469 138\n",
        "====inner===\n",
        "[ 0.44491358  0.1959054 ] 0.308538191648\n",
        "====inner===\n",
        "[ 0.53525571  0.26882395] 0.247226823485\n",
        "====outer===\n",
        "[ 0.53525571  0.26882395] 0.247226823485 139\n",
        "====inner===\n",
        "[ 0.52846358  0.27723454] 0.222762435174\n",
        "====inner===\n",
        "[ 0.64733152  0.40357195] 0.148295231445\n",
        "====outer===\n",
        "[ 0.64733152  0.40357195] 0.148295231445 140\n",
        "====inner===\n",
        "[-1.57259276  2.48480884] 6.63206526633\n",
        "====inner===\n",
        "[ 1.76407684  3.11438746] 0.584399232819\n",
        "====outer===\n",
        "[ 1.76407684  3.11438746] 0.584399232819 141\n",
        "====inner===\n",
        "[ 1.76429147  3.11380939] 0.584259173285\n",
        "====inner===\n",
        "[ 1.73568467  2.99906213] 0.559562768525\n",
        "====outer===\n",
        "[ 1.73568467  2.99906213] 0.559562768525 142\n",
        "====inner===\n",
        "[ 1.73141982  3.00012443] 0.535508486278\n",
        "====inner===\n",
        "[ 1.73158736  2.99946876] 0.535335409059\n",
        "====outer===\n",
        "[ 1.73158736  2.99946876] 0.535335409059 143\n",
        "====inner===\n",
        "[ 1.73118125  2.99934749] 0.535182492919\n",
        "====inner===\n",
        "[ 1.68034209  2.80734682] 0.489118163278\n",
        "====outer===\n",
        "[ 1.68034209  2.80734682] 0.489118163278 144\n",
        "====inner===\n",
        "[ 1.67559003  2.80860379] 0.45652226016\n",
        "====inner===\n",
        "[-1.40853353  1.99151298] 5.80672838574\n",
        "====outer===\n",
        "[ 1.67532202  2.80734682] 0.456101173371 145\n",
        "====inner===\n",
        "[ 1.67487024  2.80728366] 0.455888048951\n",
        "====inner===\n",
        "[ 1.4766571   2.16400091] 0.254477446708\n",
        "====outer==="
       ]
      },
      {
       "output_type": "stream",
       "stream": "stdout",
       "text": [
        "\n",
        "[ 1.4766571   2.16400091] 0.254477446708 146\n",
        "====inner===\n",
        "[-1.777473    3.16776414] 7.72133498723\n",
        "====inner===\n",
        "[  4.28644789  18.37917194] 10.8038049379\n",
        "====outer===\n",
        "[  4.28644789  18.37917194] 10.8038049379 147\n",
        "====inner===\n",
        "[  4.2866454   18.37909703] 10.8034579553\n",
        "====inner===\n",
        "[  4.28675308  18.37767046] 10.8029470019\n",
        "====outer===\n",
        "[  4.28675308  18.37767046] 10.8029470019 148\n",
        "====inner===\n",
        "[  4.28648314  18.37765197] 10.8023510009\n",
        "====inner===\n",
        "[  4.28622829  18.37709962] 10.8021550585\n",
        "====outer===\n",
        "[  4.28622829  18.37709962] 10.8021550585 149\n",
        "====inner===\n",
        "[ -4.69831536  22.08029362] 32.4745512154\n",
        "====inner===\n",
        "[ -4.69764434  22.07778181] 32.472990593\n",
        "====outer===\n",
        "[ -4.69764434  22.07778181] 32.472990593 150\n",
        "====inner===\n",
        "[  4.97211512  24.72602873] 15.7793794953\n",
        "====inner===\n",
        "[  4.97220328  24.72539669] 15.7790703512\n",
        "====outer===\n",
        "[  4.97220328  24.72539669] 15.7790703512 151\n",
        "====inner===\n",
        "[  4.9720779   24.72537341] 15.7788580902\n",
        "====inner===\n",
        "[ -3.63120872  13.19081071] 21.4507299478\n",
        "====outer===\n",
        "[ -3.63120872  13.19081071] 21.4507299478 152\n",
        "====inner===\n",
        "[ 3.0628403   9.38394169] 4.25618093425\n",
        "====inner===\n",
        "[-0.18620492  0.03843035] 1.40849443144\n",
        "====outer===\n",
        "[-0.18620492  0.03843035] 1.40849443144 153\n",
        "====inner===\n",
        "[-0.00072103 -0.02819444] 1.08093814475\n",
        "====inner===\n",
        "[ 0.11568382 -0.02690467]"
       ]
      },
      {
       "output_type": "stream",
       "stream": "stdout",
       "text": [
        " 0.944322682329\n",
        "====outer===\n",
        "[ 0.11568382 -0.02690467] 0.944322682329 154\n",
        "====inner===\n",
        "[ 0.11520966  0.01305547] 0.782858688561\n",
        "====inner===\n",
        "[ 0.2752382   0.05208085] 0.581331255749\n",
        "====outer===\n",
        "[ 0.2752382   0.05208085] 0.581331255749 155\n",
        "====inner===\n",
        "[ -4.36014601  19.02237382] 28.7443915715\n",
        "====inner===\n",
        "[  3.1958564   10.21670713] 4.8228150981\n",
        "====outer===\n",
        "[ 0.27039158  0.05208085] 0.576557717418 156\n",
        "====inner===\n",
        "[ 0.26691644  0.07000701] 0.53756461466\n",
        "====inner===\n",
        "[ 0.40843937  0.14564642] 0.394787533686\n",
        "====outer===\n",
        "[ 0.40843937  0.14564642] 0.394787533686 157\n",
        "====inner===\n",
        "[ 0.40134851  0.15883803] 0.358886532157\n",
        "====inner===\n",
        "[ 0.53706345  0.27013649] 0.247801677162\n",
        "====outer===\n",
        "[ 0.53706345  0.27013649] 0.247801677162 158\n",
        "====inner===\n",
        "[-1.74137677  3.0447791 ] 7.53048799176\n",
        "====inner===\n",
        "[ 1.71832541  2.95462272] 0.516383634286\n",
        "====outer===\n",
        "[ 0.52995487  0.27013649] 0.232424987441 159\n",
        "====inner===\n",
        "[ 0.52658413  0.27556216] 0.224421423956\n",
        "====inner===\n",
        "[ 0.63149132  0.38340224] 0.159450155708\n",
        "====outer===\n",
        "[ 0.63149132  0.38340224] 0.159450155708 160\n",
        "====inner===\n",
        "[-1.59659996  2.56062221] 6.75553513619\n",
        "====inner===\n",
        "[ 1.79348682  3.21901178] 0.630205428056\n",
        "====outer===\n",
        "[ 0.62527454  0.38340224] 0.146143628525 161\n",
        "====inner===\n",
        "[-1.94185467  3.78233668] 8.66781940624\n",
        "====inner===\n",
        "[ 1.44123281  2.07828533] 0.194814833951\n",
        "====outer==="
       ]
      },
      {
       "output_type": "stream",
       "stream": "stdout",
       "text": [
        "\n",
        "[ 0.62284403  0.38340224] 0.144300934461 162\n",
        "====inner===\n",
        "[ 0.62188583  0.38571917] 0.143074938855\n",
        "====inner===\n",
        "[ 0.7283158   0.51791774] 0.0895027752148\n",
        "====outer===\n",
        "[ 0.7283158   0.51791774] 0.0895027752148 163\n",
        "====inner===\n",
        "[-1.52446354  2.33505897] 6.38517040037\n",
        "====inner===\n",
        "[-1.52556726  2.33472076] 6.38391474275\n",
        "====outer===\n",
        "[ 0.72329918  0.51791774] 0.0793132515017 164\n",
        "====inner===\n",
        "[ 0.72172616  0.51962952] 0.0775948723087\n",
        "====inner===\n",
        "[ 0.73028607  0.53754113] 0.0745293028862\n",
        "====outer===\n",
        "[ 0.73028607  0.53754113] 0.0745293028862 165\n",
        "====inner===\n",
        "[-1.20298894  1.45850244] 4.86597462049\n",
        "====inner===\n",
        "[-0.71191418  0.47707337] 3.01914704527\n",
        "====outer===\n",
        "[ 0.73326933  0.53754113] 0.0711472904662 166\n",
        "====inner===\n",
        "[ 0.73458563  0.53761759] 0.0708441710455\n",
        "====inner===\n",
        "[ 0.85045432  0.71478937] 0.0295603481322\n",
        "====outer===\n",
        "[ 0.85045432  0.71478937] 0.0295603481322 167\n",
        "====inner===\n",
        "[ 0.84724912  0.71689166] 0.0234210812026\n",
        "====inner===\n",
        "[ 0.84714462  0.71779539] 0.0233667645685\n",
        "====outer===\n",
        "[ 0.84714462  0.71779539] 0.0233667645685 168\n",
        "====inner===\n",
        "[ 0.84762158  0.71775725] 0.0232688977336\n",
        "====inner===\n",
        "[ 0.8494666  0.7196282] 0.0230465469676\n",
        "====outer===\n",
        "[ 0.8494666  0.7196282] 0.0230465469676 169\n",
        "====inner===\n",
        "[ 0.84892396  0.72020981] 0.0228453213699\n",
        "====inner===\n",
        "[ 0.85444386  0.72701662] 0.0221215374302\n",
        "====outer===\n",
        "[ 0.85444386  0.72701662] 0.0221215374302 170\n",
        "====inner===\n",
        "[-1.66017204  2.76668512] 7.0875695367\n",
        "====inner===\n",
        "[ 1.31806414  1.73820977] 0.1012488294\n",
        "====outer===\n",
        "[ 1.31806414  1.73820977] 0.1012488294 171\n",
        "====inner===\n",
        "[ 1.31703429  1.73697431] 0.101084334219\n",
        "====inner===\n",
        "[ 1.04755666  1.09589334] 0.00248115178992\n",
        "====outer===\n",
        "[ 1.04755666  1.09589334] 0.00248115178992 172\n",
        "====inner===\n",
        "[ 1.04692984  1.09615277] 0.00220323215783\n",
        "====inner===\n",
        "[ 1.04672904  1.09609778] 0.00220440491114\n",
        "====outer===\n",
        "[ 1.04672904  1.09609778] 0.00220440491114 173\n",
        "====inner===\n",
        "[ 1.04687211  1.09596393]"
       ]
      },
      {
       "output_type": "stream",
       "stream": "stdout",
       "text": [
        " 0.00219704634227\n",
        "====inner===\n",
        "[ 1.04648788  1.09561668] 0.00218414352934\n",
        "====outer===\n",
        "[ 1.04648788  1.09561668] 0.00218414352934 174\n",
        "====inner===\n",
        "[ 1.04648124  1.09562259] 0.002185467017\n",
        "====inner===\n",
        "[ 1.04656707  1.09554747] 0.00217448654164\n",
        "====outer===\n",
        "[ 1.04656707  1.09554747] 0.00217448654164 175\n",
        "====inner===\n",
        "[ 1.04661515  1.09529593] 0.00217412452648\n",
        "====inner===\n",
        "[ 1.04660497  1.09523854] 0.00217407987574\n",
        "====outer===\n",
        "[ 1.04660497  1.09523854] 0.00217407987574 176\n",
        "====inner===\n",
        "[ 1.04659969  1.09523952] 0.00217325663675\n",
        "====inner===\n",
        "[ 1.04637073  1.09528123] 0.0021654174552\n",
        "====outer===\n",
        "[ 1.04637073  1.09528123] 0.0021654174552 177\n",
        "====inner===\n",
        "[ 1.04648344  1.09515631] 0.00216079259976\n",
        "====inner===\n",
        "[ 0.31178216  0.10678603] 0.4828174259\n",
        "====outer===\n",
        "[ 1.04647679  1.09528123] 0.00216289949768 178\n",
        "====inner===\n",
        "[ 1.04561891  1.09402128] 0.00213041797685\n",
        "====inner===\n",
        "[ 1.01883807  1.03638803] 0.000624811906701\n",
        "====outer===\n",
        "[ 1.01883807  1.03638803] 0.000624811906701 179\n",
        "====inner===\n",
        "[-1.47878045  2.19681136] 6.15439203926\n",
        "====inner===\n",
        "[ 1.38173353  1.91068212] 0.145943861186\n",
        "====outer===\n",
        "[ 1.38173353  1.91068212] 0.145943861186 180\n",
        "====inner===\n",
        "[ 1.38184499  1.91014961] 0.14584837449\n",
        "====inner===\n",
        "[ 1.09894627  1.20431595] 0.0109240045402\n",
        "====outer===\n",
        "[ 1.09894627  1.20431595] 0.0109240045402 181\n",
        "====inner===\n",
        "[ 1.0974208   1.20492816] 0.00952630370575\n",
        "====inner===\n",
        "[ 1.09751294  1.20474211] 0.00951307685768\n",
        "====outer===\n",
        "[ 1.09751294  1.20474211] 0.00951307685768 182\n",
        "====inner===\n",
        "[ 1.09758664  1.20477153] 0.00952371641948\n",
        "====inner===\n",
        "[ 1.09743484  1.20473068] 0.00950705002742\n",
        "====outer===\n",
        "[ 1.09743484  1.20473068] 0.00950705002742 183\n",
        "====inner===\n",
        "[ 1.03628005  1.07084772] 0.00223349648285\n",
        "====inner===\n",
        "[ 1.00812042  1.01725269] 0.000155414631962\n",
        "====outer===\n",
        "[ 1.00812042  1.01725269] 0.000155414631962 184\n",
        "====inner===\n",
        "[-1.52253141  2.32820463] 6.37337124406\n",
        "====inner===\n",
        "[-1.5220694   2.32784955] 6.37327587431\n",
        "====outer===\n",
        "[ 1.00852827  1.01725269] 7.42547246512e-05 185\n",
        "====inner===\n",
        "[ 1.00867882  1.01713916] 8.39546859704e-05\n",
        "====inner===\n",
        "[ 1.0084983   1.01730241] 7.76773887812e-05\n",
        "====outer===\n",
        "[ 1.008579    1.01725269] 7.36437191052e-05 186\n",
        "====inner===\n",
        "[ 1.00866857  1.01729639] 7.64874860352e-05\n",
        "====inner===\n",
        "[-0.62412816  0.39928566] 2.64729794379\n",
        "====outer===\n",
        "[ 1.00850245  1.01725269]"
       ]
      },
      {
       "output_type": "stream",
       "stream": "stdout",
       "text": [
        " 7.53715691594e-05 187\n",
        "====inner===\n",
        "[ 1.00854058  1.01722781] 7.34848050003e-05\n",
        "====inner===\n",
        "[ 1.0086029   1.01716415] 7.53475654842e-05\n",
        "====outer===\n",
        "[ 1.0086029   1.01716415] 7.53475654842e-05 188\n",
        "====inner===\n",
        "[ 1.00868681  1.01713376] 8.54039748257e-05\n",
        "====inner===\n",
        "[ 1.00839747  1.01724488] 8.49142930864e-05\n",
        "====outer===\n",
        "[ 1.00850386  1.01716415] 7.3023220457e-05 189\n",
        "====inner===\n",
        "[ 1.00843276  1.01723482] 8.00023911746e-05\n",
        "====inner===\n",
        "[-1.91716227  3.68555689] 8.51992736205\n",
        "====outer===\n",
        "[ 1.00863125  1.01716415] 7.74864765845e-05 190\n",
        "====inner===\n",
        "[-1.40165159  1.97491977] 5.77852409499\n",
        "====inner===\n",
        "[ 1.05483494  1.11350097] 0.00307480494946\n",
        "====outer===\n",
        "[ 1.00859061  1.01716415] 7.46241631223e-05 191\n",
        "====inner===\n",
        "[ 1.00855043  1.01717771] 7.31112739644e-05\n",
        "====inner===\n",
        "[ 1.00833238  1.01718463] 8.97181244605e-05\n",
        "====outer===\n",
        "[ 1.00857639  1.01716415] 7.39411728211e-05 192\n",
        "====inner===\n",
        "[ 1.00854251  1.01717413] 7.30004730093e-05\n",
        "====inner===\n",
        "[ 1.0086746   1.01719852] 8.0353364915e-05\n",
        "====outer===\n",
        "[ 1.00862998  1.01716415] 7.73762065902e-05 193\n",
        "====inner===\n",
        "[ 1.00846823  1.01722824] 7.65536961439e-05\n",
        "====inner===\n",
        "[ 1.00847681  1.01694215] 7.25507933062e-05\n",
        "====outer===\n",
        "[ 1.00847681  1.01694215] 7.25507933062e-05 194\n",
        "====inner===\n",
        "[ 1.00834522  1.01698552] 7.47245400982e-05\n",
        "====inner===\n",
        "[ 1.0083157   1.01698515] 7.72508646921e-05\n",
        "====outer===\n",
        "[ 1.00846757  1.01694215] 7.21184471456e-05 195\n",
        "====inner===\n",
        "[ 1.00857587  1.01690958] 8.35121825043e-05\n",
        "====inner===\n",
        "[-1.33402129  1.78968044] 5.45779111972\n",
        "====outer===\n",
        "[-1.33402129  1.78968044] 5.45779111972 196\n",
        "====inner===\n",
        "[-1.33508012  1.78665263] 5.45437469955\n",
        "====inner===\n",
        "[-1.10938879  1.18400483] 4.66797140152\n",
        "====outer===\n",
        "[-1.10938879  1.18400483] 4.66797140152 197\n",
        "====inner===\n",
        "[-1.088446   1.1918483] 4.3666955185\n",
        "====inner===\n",
        "[-1.07384503  1.1747548 ] 4.3475395981\n",
        "====outer===\n",
        "[-1.07384503  1.1747548 ] 4.3475395981 198\n",
        "====inner===\n",
        "[-1.07885164  1.17054082] 4.3260065247\n",
        "====inner===\n",
        "[-0.65256638  0.39396479] 2.83259685509\n",
        "====outer===\n",
        "[-0.65256638  0.39396479] 2.83259685509 199\n",
        "====inner===\n",
        "[-0.63016984  0.40624673] 2.66579432712\n",
        "====inner===\n",
        "[-0.46153431  0.17875532] 2.25344769766\n",
        "====outer===\n",
        "[-0.46153431  0.17875532] 2.25344769766 200\n",
        "====inner===\n",
        "[-0.43529408  0.19819703] 2.06766612563\n",
        "====inner===\n",
        "[-0.24085606  0.02690751] 1.63647046013\n",
        "====outer===\n",
        "[-0.24085606  0.02690751] 1.63647046013 201\n",
        "====inner===\n",
        "[-0.21662972  0.05441717]"
       ]
      },
      {
       "output_type": "stream",
       "stream": "stdout",
       "text": [
        " 1.48579599471\n",
        "====inner===\n",
        "[-0.03874377 -0.02633123] 1.15645234141\n",
        "====outer===\n",
        "[-0.03874377 -0.02633123] 1.15645234141 202\n",
        "====inner===\n",
        "[ 2.24294333  5.03617943] 1.54780757284\n",
        "====inner===\n",
        "[ 2.24352625  5.0361622 ] 1.54711497357\n",
        "====outer===\n",
        "[-0.0245234  -0.02633123] 1.1221848221 203\n",
        "====inner===\n",
        "[-0.01124376  0.00459128] 1.02460743371\n",
        "====inner===\n",
        "[ 0.14273271 -0.00464423] 0.79749152264\n",
        "====outer===\n",
        "[ 0.14273271 -0.00464423] 0.79749152264 204\n",
        "====inner===\n",
        "[ 0.14421392  0.02124631] 0.732389940684\n",
        "====inner===\n",
        "[ 0.29765463  0.06569051] 0.545765618798\n",
        "====outer===\n",
        "[ 0.29765463  0.06569051] 0.545765618798 205\n",
        "====inner===\n",
        "[ -3.75277419  14.09498407] 22.602481297\n",
        "====inner===\n",
        "[ -3.75358151  14.09576691] 22.6006239116\n",
        "====outer===\n",
        "[ 0.29242954  0.06569051] 0.539957156813 206\n",
        "====inner===\n",
        "[ -4.67321121  21.85031395] 32.1983463731\n",
        "====inner===\n",
        "[ -4.67377692  21.85113699] 32.1965696345\n",
        "====outer===\n",
        "[ -4.67377692  21.85113699] 32.1965696345 207\n",
        "====inner===\n",
        "[ -4.67390398  21.85102926] 32.1963795817\n",
        "====inner===\n",
        "[ -4.67127158  21.81104821] 32.1727884147\n",
        "====outer===\n",
        "[ -4.67127158  21.81104821] 32.1727884147 208\n",
        "====inner===\n",
        "[  4.73593318  22.43111666] 13.9576184304\n",
        "====inner===\n",
        "[ -4.61407436  21.29532131] 31.5210108752\n",
        "====outer===\n",
        "[ -4.61407436  21.29532131] 31.5210108752 209\n",
        "====inner===\n",
        "[ -4.61386677  21.29503594] 31.5207844802\n",
        "====inner===\n",
        "[ -4.59790615  21.17459694] 31.4511760071\n",
        "====outer===\n",
        "[ -4.59790615  21.17459694] 31.4511760071 210\n",
        "====inner===\n",
        "[  4.73275785  22.41169739] 13.9496115787\n",
        "====inner===\n",
        "[  4.73369558  22.41142379] 13.9417428969\n",
        "====outer===\n",
        "[  4.73369558  22.41142379] 13.9417428969 211\n",
        "====inner===\n",
        "[ -3.78129467  14.30369001] 22.8638044097\n",
        "====inner===\n",
        "[ -3.78141748  14.30316951] 22.863594475\n",
        "====outer===\n",
        "[  4.73357963  22.41142379] 13.9417769388 212\n",
        "====inner===\n",
        "[  4.73369524  22.41134317] 13.9416859986\n",
        "====inner===\n",
        "[  4.73286568  22.40749789] 13.939881711\n",
        "====outer===\n",
        "[  4.73286568  22.40749789] 13.939881711 213\n",
        "====inner===\n",
        "[  4.73333023  22.40739409] 13.9386420742\n",
        "====inner===\n",
        "[ -4.1850796   17.52057234] 26.8882779328\n",
        "====outer===\n",
        "[  4.73326114  22.40749789] 13.9386351616 214\n",
        "====inner===\n",
        "[  4.73312037  22.40722916]"
       ]
      },
      {
       "output_type": "stream",
       "stream": "stdout",
       "text": [
        " 13.9384924027\n",
        "====inner===\n",
        "[  9.37079772  87.82987376] 70.1027403243\n",
        "====outer===\n",
        "[  9.37079772  87.82987376] 70.1027403243 215\n",
        "====inner===\n",
        "[ -9.44224469  89.16438759] 109.047534874\n",
        "====inner===\n",
        "[  9.65999703  93.32200543] 74.9997253328\n",
        "====outer===\n",
        "[  9.37153047  87.82987376] 70.0843631702 216\n",
        "====inner===\n",
        "[ -8.07186046  65.1600793 ] 82.3013024055\n",
        "====inner===\n",
        "[ -8.0719217   65.15951471] 82.301055585\n",
        "====outer===\n",
        "[  9.37151004  87.82987376] 70.0843643478 217\n",
        "====inner===\n",
        "[  9.37153602  87.82984245] 70.0843417922\n",
        "====inner===\n",
        "[  9.36800515  87.7441948 ] 70.0469978481\n",
        "====outer===\n",
        "[  9.36800515  87.7441948 ] 70.0469978481 218\n",
        "====inner===\n",
        "[  9.36705181  87.7442342 ] 70.0082188209\n",
        "====inner===\n",
        "[  9.36681355  87.74421927] 70.0085015097\n",
        "====outer===\n",
        "[  9.36681355  87.74421927] 70.0085015097 219\n",
        "====inner===\n",
        "[ -9.51349349  90.51237407] 110.536927589\n",
        "====inner===\n",
        "[ -9.51353512  90.51231461] 110.536884978\n",
        "====outer===\n",
        "[ -9.51353512  90.51231461] 110.536884978 220\n",
        "====inner===\n",
        "[  9.04882748  81.88566851] 64.7855507892\n",
        "====inner===\n",
        "[  9.04888603  81.88509515] 64.7853263106\n",
        "====outer===\n",
        "[  9.04888603  81.88509515] 64.7853263106 221\n",
        "====inner===\n",
        "[ -8.95862502  80.26270756] 99.1775131463\n",
        "====inner===\n",
        "[ -8.95864182  80.26268695] 99.1774885391\n",
        "====outer===\n",
        "[  9.04879254  81.88509515] 64.7850404617 222\n",
        "====inner===\n",
        "[  9.04881171  81.88145774] 64.7833914932\n",
        "====inner===\n",
        "[  8.49202431  72.01331681] 57.1537627533\n",
        "====outer===\n",
        "[  8.49202431  72.01331681] 57.1537627533 223\n",
        "====inner===\n",
        "[  8.48952683  72.01345771] 56.4365035719\n",
        "====inner===\n",
        "[ -8.54178306  72.95679373] 91.0483951062\n",
        "====outer===\n",
        "[  8.48581976  72.01331681] 56.0392445629 224\n",
        "====inner===\n",
        "[  8.4857849   72.01327965] 56.0392169049\n",
        "====inner===\n",
        "[  6.08094733  36.95653413] 25.8617629533\n",
        "====outer===\n",
        "[  6.08094733  36.95653413] 25.8617629533 225\n",
        "====inner===\n",
        "[  6.0776604   36.95676023] 25.8179954382\n",
        "====inner===\n",
        "[ -6.23450204  38.87623721] 52.3432348161\n",
        "====outer===\n",
        "[  6.07886172  36.95653413] 25.796415895 226\n",
        "====inner===\n",
        "[  6.07880803  36.95644776] 25.796352792\n",
        "====inner===\n",
        "[  6.07875568  36.95082052] 25.7937795135\n",
        "====outer===\n",
        "[  6.07875568  36.95082052] 25.7937795135 227\n",
        "====inner===\n",
        "[  6.07820245  36.95082494] 25.7920838519\n",
        "====inner===\n",
        "[ -6.54483168  42.84096209]"
       ]
      },
      {
       "output_type": "stream",
       "stream": "stdout",
       "text": [
        " 56.928255497\n",
        "====outer===\n",
        "[  6.07838666  36.95082052] 25.7916401044 228\n",
        "====inner===\n",
        "[  6.07826348  36.95053114] 25.7915101581\n",
        "====inner===\n",
        "[  4.1845833   17.49426075] 10.1687189077\n",
        "====outer===\n",
        "[  4.1845833   17.49426075] 10.1687189077 229\n",
        "====inner===\n",
        "[  4.18191888  17.49451938] 10.1282969307\n",
        "====inner===\n",
        "[  4.18214075  17.49444151] 10.1277339264\n",
        "====outer===\n",
        "[  4.18214075  17.49444151] 10.1277339264 230\n",
        "====inner===\n",
        "[  4.18223108  17.49430836] 10.1276519103\n",
        "====inner===\n",
        "[  3.85792442  14.82740492] 8.48330543786\n",
        "====outer===\n",
        "[  3.85792442  14.82740492] 8.48330543786 231\n",
        "====inner===\n",
        "[  3.85074937  14.82827731] 8.12677198599\n",
        "====inner===\n",
        "[  3.85026313  14.82828058] 8.12540947229\n",
        "====outer===\n",
        "[  3.85026313  14.82828058] 8.12540947229 232\n",
        "====inner===\n",
        "[  3.85039568  14.82706138] 8.12498488996\n",
        "====inner===\n",
        "[  3.82952211  14.64196734] 8.06035503568\n",
        "====outer===\n",
        "[  3.82952211  14.64196734] 8.06035503568 233\n",
        "====inner===\n",
        "[  3.82602743  14.64236111] 7.98793276573\n",
        "====inner===\n",
        "[  3.82614635  14.64201076] 7.98778693729\n",
        "====outer===\n",
        "[  3.82614635  14.64201076] 7.98778693729 234\n",
        "====inner===\n",
        "[ -3.50877001  12.31755478] 20.3327131296\n",
        "====inner===\n",
        "[ -3.50894576  12.31698375] 20.3324266148\n",
        "====outer===\n",
        "[  3.82597968  14.64201076] 7.98767455395 235\n",
        "====inner===\n",
        "[  3.82609717  14.6417077 ] 7.98754781803\n",
        "====inner===\n",
        "[  5.17944733  26.85806153] 17.5662936917\n",
        "====outer===\n",
        "[  3.82607973  14.64201076] 7.98770298876 236\n",
        "====inner===\n",
        "[  3.82594298  14.64191254] 7.9876125388\n",
        "====inner===\n",
        "[  3.57896757  12.75514748] 6.94117878742\n",
        "====outer===\n",
        "[  3.57896757  12.75514748] 6.94117878742 237\n",
        "====inner===\n",
        "[  3.57179756  12.75608636] 6.61441540208\n",
        "====inner===\n",
        "[  3.57117219  12.75611837] 6.61173728932\n",
        "====outer===\n",
        "[  3.57117219  12.75611837] 6.61173728932 238\n",
        "====inner===\n",
        "[  3.57100265  12.75602853] 6.61162960568\n",
        "====inner===\n",
        "[  3.55710078  12.63610936] 6.56717883694\n",
        "====outer===\n",
        "[  3.55710078  12.63610936] 6.56717883694 239\n",
        "====inner===\n",
        "[ -3.66979024  13.47341022] 21.8106009094\n",
        "====inner===\n",
        "[ -3.66869261  13.47012546] 21.8083979186\n",
        "====outer===\n",
        "[  3.55427811  12.63610936] 6.52537123443 240\n",
        "====inner===\n",
        "[  3.55412278  12.63592281] 6.52525223048\n",
        "====inner===\n",
        "[  3.54876643  12.58388042] 6.50593766384\n",
        "====outer===\n",
        "[  3.54876643  12.58388042] 6.50593766384 241\n",
        "====inner===\n",
        "[  3.54651557  12.58411291] 6.48876139113\n",
        "====inner===\n",
        "[ -3.93529706  15.49343068] 24.361873642\n",
        "====outer===\n",
        "[  3.54694542  12.58388042] 6.48786647983 242\n",
        "====inner===\n",
        "[  3.54680093  12.58376326] 6.48776822592\n",
        "====inner===\n",
        "[  3.27885796  10.70209299] 5.43149907207\n",
        "====outer===\n",
        "[  3.27885796  10.70209299] 5.43149907207 243\n",
        "====inner===\n",
        "[  3.2714082   10.70315353]"
       ]
      },
      {
       "output_type": "stream",
       "stream": "stdout",
       "text": [
        " 5.15940377243\n",
        "====inner===\n",
        "[ -3.2141014   10.33692777] 17.7628495953\n",
        "====outer===\n",
        "[  3.27105082  10.70209299] 5.15820984241 244\n",
        "====inner===\n",
        "[  3.27081073  10.7020191 ] 5.15803775731\n",
        "====inner===\n",
        "[  3.27065602  10.69643904] 5.15593525327\n",
        "====outer===\n",
        "[  3.27065602  10.69643904] 5.15593525327 245\n",
        "====inner===\n",
        "[ -3.29675214  10.87516005] 18.4664156685\n",
        "====inner===\n",
        "[ -3.29695943  10.87449173] 18.4659308166\n",
        "====outer===\n",
        "[  3.2699918   10.69643904] 5.15415349437 246\n",
        "====inner===\n",
        "[  3.27012332  10.69584538] 5.15391735596\n",
        "====inner===\n",
        "[ 2.59350421  6.7037116 ] 2.59011708744\n",
        "====outer===\n",
        "[ 2.59350421  6.7037116 ] 2.59011708744 247\n",
        "====inner===\n",
        "[ 2.58880766  6.70450849] 2.52497716921\n",
        "====inner===\n",
        "[-1.60324153  2.57660751] 6.78074041732\n",
        "====outer===\n",
        "[ 2.58877589  6.7037116 ] 2.52458946718 248\n",
        "====inner===\n",
        "[ 2.58841961  6.70359147] 2.52442771159\n",
        "====inner===\n",
        "[ 2.58700647  6.68935073] 2.51964693521\n",
        "====outer===\n",
        "[ 2.58700647  6.68935073] 2.51964693521 249\n",
        "====inner===\n",
        "[ 2.58580853  6.68946988] 2.51572757941\n",
        "====inner===\n",
        "[ 2.58458969  6.67696395] 2.51191042576\n",
        "====outer===\n",
        "[ 2.58458969  6.67696395] 2.51191042576 250\n",
        "====inner===\n",
        "[ 2.58348309  6.67707227] 2.50814090414\n",
        "====inner===\n",
        "[-1.4233882   2.03208729] 5.87647463944\n",
        "====outer===\n",
        "[ 2.58346192  6.67696395] 2.50807442882 251\n",
        "====inner===\n",
        "[-1.19932973  1.44411847] 4.84033074243\n",
        "====inner===\n",
        "[  4.3736564   19.13488387] 11.3851737952\n",
        "====outer===\n",
        "[ 2.58301499  6.67696395] 2.50843396424 252\n",
        "====inner===\n",
        "[-3.08300454  9.51221726] 16.6762554683\n",
        "====inner===\n",
        "[-3.00584916  8.98576612] 16.2904987259\n",
        "====outer===\n",
        "[-3.00584916  8.98576612] 16.2904987259 253\n",
        "====inner===\n",
        "[-2.99693131  8.98707311] 15.9784583707\n",
        "====inner===\n",
        "[-2.99652881  8.98677649] 15.9780057365\n",
        "====outer===\n",
        "[-2.99652881  8.98677649] 15.9780057365 254\n",
        "====inner===\n",
        "[-2.99681152  8.98638849] 15.9775374569\n",
        "====inner===\n",
        "[-2.76481713  7.57568976] 14.6434017426\n",
        "====outer===\n",
        "[-2.76481713  7.57568976] 14.6434017426 255\n",
        "====inner===\n",
        "[ 2.91563158  8.51012007] 3.67813148912\n",
        "====inner===\n",
        "[-3.1482357   9.91818238]"
       ]
      },
      {
       "output_type": "stream",
       "stream": "stdout",
       "text": [
        " 17.2124757445\n",
        "====outer===\n",
        "[-3.1482357   9.91818238] 17.2124757445 256\n",
        "====inner===\n",
        "[-3.14851131  9.91673965] 17.2114537522\n",
        "====inner===\n",
        "[-2.84133915  8.00276715] 15.252079792\n",
        "====outer===\n",
        "[-2.84133915  8.00276715] 15.252079792 257\n",
        "====inner===\n",
        "[ 2.99031784  8.93912743] 3.96219072699\n",
        "====inner===\n",
        "[ 2.98935359  8.93922289] 3.95842052176\n",
        "====outer===\n",
        "[ 2.98935359  8.93922289] 3.95842052176 258\n",
        "====inner===\n",
        "[-1.51631801  2.30484974] 6.33502538131\n",
        "====inner===\n",
        "[-1.516592    2.30376173] 6.33461203529\n",
        "====outer===\n",
        "[-1.516592    2.30376173] 6.33461203529 259\n",
        "====inner===\n",
        "[ 1.25095206  1.56561184] 0.063030340743\n",
        "====inner===\n",
        "[-0.02614427  0.00886365] 1.059663503\n",
        "====outer===\n",
        "[-0.02614427  0.00886365] 1.059663503 260\n",
        "====inner===\n",
        "[-0.00092896 -0.01211157] 1.01652988916\n",
        "====inner===\n",
        "[ 0.13381918 -0.01348573] 0.848823172271\n",
        "====outer===\n",
        "[ 0.13381918 -0.01348573] 0.848823172271 261\n",
        "====inner===\n",
        "[ 0.13408022  0.01806197] 0.749817783977\n",
        "====inner===\n",
        "[ 0.28624851  0.05857225] 0.564037993575\n",
        "====outer===\n",
        "[ 0.28624851  0.05857225] 0.564037993575 262\n",
        "====inner===\n",
        "[ 0.28118014  0.07755274] 0.516929865271\n",
        "====inner===\n",
        "[ 0.41283017  0.14925593] 0.389597249389\n",
        "====outer===\n",
        "[ 0.41283017  0.14925593] 0.389597249389 263\n",
        "====inner===\n",
        "[-2.22395689  4.95794572] 10.4082057183\n",
        "====inner===\n",
        "[ 1.94408469  3.7812909 ] 0.891629191412\n",
        "====outer===\n",
        "[ 1.94408469  3.7812909 ] 0.891629191412 264\n",
        "====inner===\n",
        "[-1.16316557  1.35979385] 4.68396344344\n",
        "====inner===\n",
        "[-1.16344001  1.35937857] 4.68382035656\n",
        "====outer===\n",
        "[ 1.94367397  3.7812909 ] 0.891691839305 265\n",
        "====inner===\n",
        "[-2.8276498   8.00373895]"
       ]
      },
      {
       "output_type": "stream",
       "stream": "stdout",
       "text": [
        " 14.6575217206\n",
        "====inner===\n",
        "[ 0.52390005  0.27300132] 0.226887237561\n",
        "====outer===\n",
        "[ 0.52390005  0.27300132] 0.226887237561 266\n",
        "====inner===\n",
        "[ 0.53401342  0.27761696] 0.222848837258\n",
        "====inner===\n",
        "[ 0.64835464  0.40295673] 0.153954858272\n",
        "====outer===\n",
        "[ 0.64835464  0.40295673] 0.153954858272 267\n",
        "====inner===\n",
        "[-1.54852927  2.4098012 ] 6.50906337025\n",
        "====inner===\n",
        "[ 1.80990284  3.278291  ] 0.656589145322\n",
        "====outer===\n",
        "[ 0.64114444  0.40295673] 0.13535364015 268\n",
        "====inner===\n",
        "[ 0.63851621  0.40608642] 0.130931847736\n",
        "====inner===\n",
        "[ 0.95077159  0.90220629] 0.00273331382379\n",
        "====outer===\n",
        "[ 0.95077159  0.90220629] 0.00273331382379 269\n",
        "====inner===\n",
        "[-1.56256257  2.45183972] 6.57720845838\n",
        "====inner===\n",
        "[ 1.27669665  1.63084525] 0.0766404086556\n",
        "====outer===\n",
        "[ 1.27669665  1.63084525] 0.0766404086556 270\n",
        "====inner===\n",
        "[ 1.27319454  1.62450572] 0.0758472640374\n",
        "====inner===\n",
        "[ 1.2024544   1.43748585] 0.0480618309432\n",
        "====outer===\n",
        "[ 1.2024544   1.43748585] 0.0480618309432 271\n",
        "====inner===\n",
        "[-1.57402889  2.48695065] 6.63443010771\n",
        "====inner===\n",
        "[-1.57483478  2.48614169] 6.63341880724\n",
        "====outer===\n",
        "[ 1.19918265  1.43748585] 0.0397043278294 272\n",
        "====inner===\n",
        "[ 1.19877345  1.43755406] 0.0395355137865\n",
        "====inner===\n",
        "[-0.76550284  0.5952808 ] 3.12562364292\n",
        "====outer===\n",
        "[-0.76550284  0.5952808 ] 3.12562364292 273\n",
        "====inner===\n",
        "[-0.7455842  0.5414765] 3.06785583547\n",
        "====inner===\n",
        "[-0.57405308  0.2844923 ] 2.68054511137\n",
        "====outer===\n",
        "[-0.57405308  0.2844923 ] 2.68054511137 274\n",
        "====inner===\n",
        "[-0.54365864  0.30478842] 2.39138966991\n",
        "====inner===\n",
        "[-0.41684486  0.14209632] 2.10770594625\n",
        "====outer===\n",
        "[-0.41684486  0.14209632] 2.10770594625 275\n",
        "====inner===\n",
        "[ 1.17703703  1.38618744]"
       ]
      },
      {
       "output_type": "stream",
       "stream": "stdout",
       "text": [
        " 0.0314015954717\n",
        "====inner===\n",
        "[ 1.17708566  1.3855042 ] 0.0313594000508\n",
        "====outer===\n",
        "[ 1.17708566  1.3855042 ] 0.0313594000508 276\n",
        "====inner===\n",
        "[-1.18755188  1.4196173 ] 4.79410273555\n",
        "====inner===\n",
        "[-1.18783675  1.41956586] 4.79404236174\n",
        "====outer===\n",
        "[-1.18783675  1.41956586] 4.79404236174 277\n",
        "====inner===\n",
        "[-1.18393466  1.39598175] 4.7728419042\n",
        "====inner===\n",
        "[-0.96884473  0.89090181] 4.10443505516\n",
        "====outer===\n",
        "[-0.96884473  0.89090181] 4.10443505516 278\n",
        "====inner===\n",
        "[ 1.37356678  1.88769755] 0.139654524791\n",
        "====inner===\n",
        "[ 1.3727434   1.88681798] 0.139510543632\n",
        "====outer===\n",
        "[ 1.3727434   1.88681798] 0.139510543632 279\n",
        "====inner===\n",
        "[-2.21251321  4.90421052] 10.3283335902\n",
        "====inner===\n",
        "[-2.21174132  4.90299583] 10.327817715\n",
        "====outer===\n",
        "[ 1.37315384  1.88681798] 0.13940419235 280\n",
        "====inner===\n",
        "[ 1.3717354   1.87972604] 0.138560457309\n",
        "====inner===\n",
        "[ 1.30795612  1.6975722 ] 0.112200360472\n",
        "====outer===\n",
        "[ 1.30795612  1.6975722 ] 0.112200360472 281\n",
        "====inner===\n",
        "[-1.65139177  2.73607864] 7.03794929904\n",
        "====inner===\n",
        "[  3.20262839  10.26142573] 4.85368518655\n",
        "====outer===\n",
        "[  3.20262839  10.26142573] 4.85368518655 282\n",
        "====inner===\n",
        "[ -3.82190711  14.61381012] 23.2554614885\n",
        "====inner===\n",
        "[-1.23351345  1.51273143] 4.99636866921\n",
        "====outer===\n",
        "[  3.20284603  10.26142573] 4.85355658064 283\n",
        "====inner===\n",
        "[  3.20240182  10.26048397] 4.85318145934\n",
        "====inner===\n",
        "[ 3.05800421  9.30845035]"
       ]
      },
      {
       "output_type": "stream",
       "stream": "stdout",
       "text": [
        " 4.4197607147\n",
        "====outer===\n",
        "[ 3.05800421  9.30845035] 4.4197607147 284\n",
        "====inner===\n",
        "[ 3.05047678  9.30959168] 4.20620485924\n",
        "====inner===\n",
        "[ 3.05066125  9.30943404] 4.20605254939\n",
        "====outer===\n",
        "[ 3.05066125  9.30943404] 4.20605254939 285\n",
        "====inner===\n",
        "[ 3.0503851   9.30914934] 4.20592813161\n",
        "====inner===\n",
        "[ 3.04639379  9.29195507] 4.20081474198\n",
        "====outer===\n",
        "[ 3.04639379  9.29195507] 4.20081474198 286\n",
        "====inner===\n",
        "[ 3.04786603  9.29161301] 4.19420712695\n",
        "====inner===\n",
        "[ 3.04762755  9.29152282] 4.1939959904\n",
        "====outer===\n",
        "[ 3.04762755  9.29152282] 4.1939959904 287\n",
        "====inner===\n",
        "[ 3.04775825  9.29094611] 4.19376150278\n",
        "====inner===\n",
        "[ 2.00355203  4.00470992] 1.01616221225\n",
        "====outer===\n",
        "[ 2.00355203  4.00470992] 1.01616221225 288\n",
        "====inner===\n",
        "[-2.19700905  4.83448734] 10.2267016502\n",
        "====inner===\n",
        "[-2.19745322  4.83331838] 10.2257480884\n",
        "====outer===\n",
        "[ 2.00066994  4.00470992] 1.00175230264 289\n",
        "====inner===\n",
        "[ 2.00026832  4.00427751] 1.00156337282\n",
        "====inner===\n",
        "[ 1.98401688  3.92551922] 0.979961300136\n",
        "====outer===\n",
        "[ 1.98401688  3.92551922] 0.979961300136 290\n",
        "====inner===\n",
        "[ 1.98082468  3.92617351] 0.962645608799\n",
        "====inner===\n",
        "[ 1.98083383  3.92372046] 0.962035029905\n",
        "====outer===\n",
        "[ 1.98083383  3.92372046] 0.962035029905 291\n",
        "====inner===\n",
        "[-1.97714616  3.91648405] 8.86884143097\n",
        "====inner===\n",
        "[-1.97748449  3.91598671] 8.86848503903\n",
        "====outer===\n",
        "[ 1.98018854  3.92372046] 0.961432020442 292\n",
        "====inner===\n",
        "[ 1.98033604  3.92275029] 0.961162682309\n",
        "====inner===\n",
        "[ 1.66730956  2.76219194] 0.476734577814\n",
        "====outer===\n",
        "[ 1.66730956  2.76219194] 0.476734577814 293\n",
        "====inner===\n",
        "[ 1.66180808  2.76367441] 0.438417728563\n",
        "====inner===\n",
        "[ 1.66192693  2.76242178]"
       ]
      },
      {
       "output_type": "stream",
       "stream": "stdout",
       "text": [
        " 0.438164957319\n",
        "====outer===\n",
        "[ 1.66192693  2.76242178] 0.438164957319 294\n",
        "====inner===\n",
        "[-1.57905647  2.50129883] 6.65774091515\n",
        "====inner===\n",
        "[ 2.3794858   5.66529869] 1.9041006511\n",
        "====outer===\n",
        "[ 2.3794858   5.66529869] 1.9041006511 295\n",
        "====inner===\n",
        "[ 2.3796527   5.66503634] 1.90396569358\n",
        "====inner===\n",
        "[ 2.2653407  5.1008216] 1.69685818691\n",
        "====outer===\n",
        "[ 2.2653407  5.1008216] 1.69685818691 296\n",
        "====inner===\n",
        "[-2.45970082  6.05739369] 11.974808608\n",
        "====inner===\n",
        "[-2.46006207  6.05564315] 11.9734266127\n",
        "====outer===\n",
        "[ 2.25815054  5.1008216 ] 1.58319170322 297\n",
        "====inner===\n",
        "[-1.96770912  3.87876562] 8.81203971929\n",
        "====inner===\n",
        "[  3.41933163  11.69612091] 5.85500776114\n",
        "====outer===\n",
        "[ 2.25776941  5.1008216 ] 1.58307215787 298\n",
        "====inner===\n",
        "[ -3.67979191  13.54881803] 21.9067718129\n",
        "====inner===\n",
        "[ 0.79857583  0.63718777] 0.0406003807632\n",
        "====outer===\n",
        "[ 0.79857583  0.63718777] 0.0406003807632 299\n",
        "====inner===\n",
        "[-0.32518512  0.1177903 ] 1.77062364937\n",
        "====inner===\n",
        "[ 0.69027056  0.47300227] 0.0971372347081\n",
        "====outer===\n",
        "[ 0.79963711  0.63718777] 0.040643355217 300\n",
        "====inner===\n",
        "[-2.22095143  4.94315917] 10.3856244578\n",
        "====inner===\n",
        "[-2.22131615  4.94354104] 10.3855185676\n",
        "====outer===\n",
        "[ 0.79918985  0.63718777] 0.0405547388843 301\n",
        "====inner===\n",
        "[ 0.79890829  0.63821409] 0.0404380395103\n",
        "====inner===\n",
        "[ 1.00669739  1.01360346] 4.75389230536e-05\n",
        "====outer===\n",
        "[ 1.00669739  1.01360346] 4.75389230536e-05 302\n",
        "====inner===\n",
        "[ 1.00672011  1.0135893 ] 4.6239960392e-05\n",
        "====inner===\n",
        "[ 1.00682255  1.01351851] 4.95450005295e-05\n",
        "====outer==="
       ]
      },
      {
       "output_type": "stream",
       "stream": "stdout",
       "text": [
        "\n",
        "[ 1.00682255  1.01351851] 4.95450005295e-05 303\n",
        "====inner===\n",
        "[ 1.0066367  1.0135957] 5.17877015687e-05\n",
        "====inner===\n",
        "[ 1.00677779  1.01360023] 4.59386091558e-05\n",
        "====outer===\n",
        "[ 1.00677779  1.01360023] 4.59386091558e-05 304\n",
        "====inner===\n",
        "[ 1.00682933  1.01359928] 4.77634798679e-05\n",
        "====inner===\n",
        "[ 1.00682357  1.01359976] 4.74438132758e-05\n",
        "====outer===\n",
        "[ 1.00673693  1.01360023] 4.60421242797e-05 305\n",
        "====inner===\n",
        "[ 1.00675792  1.01358246] 4.57133896307e-05\n",
        "====inner===\n",
        "[ 1.00639629  1.01307251] 4.66256177024e-05\n"
       ]
      },
      {
       "metadata": {},
       "output_type": "pyout",
       "prompt_number": 14,
       "text": [
        "(array([ 1.00639629,  1.01307251]), 4.6625617702438626e-05, 612)"
       ]
      }
     ],
     "prompt_number": 14
    },
    {
     "cell_type": "code",
     "collapsed": false,
     "input": [
      "run hw2.py"
     ],
     "language": "python",
     "metadata": {},
     "outputs": [
      {
       "output_type": "stream",
       "stream": "stdout",
       "text": [
        "X10 10 1e-06 0.00016339704782 9.53264445676e-05 1.08482774541e-07 8.14954602113e-08 26.0 4.9888765157\n",
        "X10"
       ]
      },
      {
       "output_type": "stream",
       "stream": "stdout",
       "text": [
        " 10 1e-05 0.000480519553132 0.000220239563189 6.67448227683e-07 3.66229813568e-07 26.0 2.21108319357\n",
        "X10"
       ]
      },
      {
       "output_type": "stream",
       "stream": "stdout",
       "text": [
        " 11 1e-06 6.13123193303e-05 3.52712210805e-05 1.49557318302e-08 1.30727636654e-08 22.0 4.33845850761\n",
        "X10"
       ]
      },
      {
       "output_type": "stream",
       "stream": "stdout",
       "text": [
        " 11 1e-05 0.000431454884846 0.000226069831091 6.46121434425e-07 4.81088160499e-07 22.0 3.66666666667\n",
        "X10"
       ]
      },
      {
       "output_type": "stream",
       "stream": "stdout",
       "text": [
        " 12 1e-06 0.000218731054394 0.000143301204485 2.32660391018e-07 1.89503869753e-07 31.2 7.4188947964\n",
        "X10"
       ]
      },
      {
       "output_type": "stream",
       "stream": "stdout",
       "text": [
        " 12 1e-05 0.000275115952172 0.000117673053763 2.00311315376e-07 1.02179456885e-07 27.6 2.56124969497\n",
        "X10"
       ]
      },
      {
       "output_type": "stream",
       "stream": "stdout",
       "text": [
        " 13 1e-06 0.000165274262416 0.000113085701515 1.42410964802e-07 1.32794811529e-07 28.6 6.93333333333\n",
        "X10"
       ]
      },
      {
       "output_type": "stream",
       "stream": "stdout",
       "text": [
        " 13 1e-05 0.000442420545916 0.000229838322441 6.7116682961e-07 4.05264484184e-07 27.3 4.52413282053\n",
        "X10"
       ]
      },
      {
       "output_type": "stream",
       "stream": "stdout",
       "text": [
        " 14 1e-06 2.58618782794e-05 1.20028412256e-05 1.96545052552e-09 1.31000144724e-09 32.2 5.13333333333\n",
        "X10"
       ]
      },
      {
       "output_type": "stream",
       "stream": "stdout",
       "text": [
        " 14 1e-05 0.000530505949965 0.000184217387029 5.86860974103e-07 2.51521408104e-07 39.2 3.49221356099\n"
       ]
      }
     ],
     "prompt_number": 34
    },
    {
     "cell_type": "code",
     "collapsed": false,
     "input": [
      "x10 = [Symbol('x'+str(i)) for i in range(10)]\n",
      "y10 = x10[0]**2+x10[1]**2+x10[2]**2+x10[3]**2+x10[4]**2+x10[5]**2+x10[6]**2+x10[7]**2+x10[8]**2+x10[9]**2\n",
      "f10 = lambdify(x10,y10,'numpy')"
     ],
     "language": "python",
     "metadata": {},
     "outputs": [],
     "prompt_number": 32
    },
    {
     "cell_type": "code",
     "collapsed": false,
     "input": [
      "ConjugateGradient(f10,x10,y10,10,1e-6)"
     ],
     "language": "python",
     "metadata": {},
     "outputs": [
      {
       "metadata": {},
       "output_type": "pyout",
       "prompt_number": 33,
       "text": [
        "(array([  9.52739181e-09,  -1.68502866e-09,  -5.63686894e-09,\n",
        "         -3.67542004e-09,  -8.99970188e-10,   3.12341630e-09,\n",
        "         -3.07432438e-09,   4.40168867e-09,  -2.32627492e-09,\n",
        "         -5.02121357e-09]), 2.0890967015674113e-16, 40)"
       ]
      }
     ],
     "prompt_number": 33
    },
    {
     "cell_type": "code",
     "collapsed": false,
     "input": [
      "np.linalg.norm([1e-4 for i in range(10)])"
     ],
     "language": "python",
     "metadata": {},
     "outputs": [
      {
       "metadata": {},
       "output_type": "pyout",
       "prompt_number": 36,
       "text": [
        "0.00031622776601683789"
       ]
      }
     ],
     "prompt_number": 36
    },
    {
     "cell_type": "code",
     "collapsed": false,
     "input": [
      "import hw2"
     ],
     "language": "python",
     "metadata": {},
     "outputs": [],
     "prompt_number": 37
    },
    {
     "cell_type": "code",
     "collapsed": false,
     "input": [
      "hw2.SteepestDescent(RosenBrock,x_rb,y_rb,2)"
     ],
     "language": "python",
     "metadata": {},
     "outputs": [
      {
       "metadata": {},
       "output_type": "pyout",
       "prompt_number": 41,
       "text": [
        "(array([ -14.64976126,  214.62101303]), 244.91806136320349)"
       ]
      }
     ],
     "prompt_number": 41
    },
    {
     "cell_type": "code",
     "collapsed": false,
     "input": [
      "x = np.zeros([1000,5])"
     ],
     "language": "python",
     "metadata": {},
     "outputs": [],
     "prompt_number": 42
    },
    {
     "cell_type": "code",
     "collapsed": false,
     "input": [
      "np.append(x,1)"
     ],
     "language": "python",
     "metadata": {},
     "outputs": [
      {
       "metadata": {},
       "output_type": "pyout",
       "prompt_number": 47,
       "text": [
        "array([ 0.,  0.,  0., ...,  0.,  0.,  1.])"
       ]
      }
     ],
     "prompt_number": 47
    },
    {
     "cell_type": "code",
     "collapsed": false,
     "input": [
      "x"
     ],
     "language": "python",
     "metadata": {},
     "outputs": [
      {
       "metadata": {},
       "output_type": "pyout",
       "prompt_number": 48,
       "text": [
        "array([[ 0.,  0.,  0.,  0.,  0.],\n",
        "       [ 0.,  0.,  0.,  0.,  0.],\n",
        "       [ 0.,  0.,  0.,  0.,  0.],\n",
        "       ..., \n",
        "       [ 0.,  0.,  0.,  0.,  0.],\n",
        "       [ 0.,  0.,  0.,  0.,  0.],\n",
        "       [ 0.,  0.,  0.,  0.,  0.]])"
       ]
      }
     ],
     "prompt_number": 48
    },
    {
     "cell_type": "code",
     "collapsed": false,
     "input": [
      "np.array([1,2]).shape"
     ],
     "language": "python",
     "metadata": {},
     "outputs": [
      {
       "metadata": {},
       "output_type": "pyout",
       "prompt_number": 49,
       "text": [
        "(2,)"
       ]
      }
     ],
     "prompt_number": 49
    },
    {
     "cell_type": "code",
     "collapsed": false,
     "input": [
      "np.append([1,2],3)"
     ],
     "language": "python",
     "metadata": {},
     "outputs": [
      {
       "metadata": {},
       "output_type": "pyout",
       "prompt_number": 50,
       "text": [
        "array([1, 2, 3])"
       ]
      }
     ],
     "prompt_number": 50
    },
    {
     "cell_type": "code",
     "collapsed": false,
     "input": [
      "run hw2.py"
     ],
     "language": "python",
     "metadata": {},
     "outputs": [
      {
       "output_type": "stream",
       "stream": "stdout",
       "text": [
        "0 7.00196282566e-05 2.51783704758\n",
        "1"
       ]
      },
      {
       "output_type": "stream",
       "stream": "stdout",
       "text": [
        " 0.00155745730636 6.46162796021\n",
        "2"
       ]
      },
      {
       "output_type": "stream",
       "stream": "stdout",
       "text": [
        " 202.048841441 5.72046399117\n",
        "3"
       ]
      },
      {
       "output_type": "stream",
       "stream": "stdout",
       "text": [
        " 161.247356137 9.87840008736\n",
        "4"
       ]
      },
      {
       "output_type": "stream",
       "stream": "stdout",
       "text": [
        " 0.000199357158683 3.32101202011\n",
        "5"
       ]
      },
      {
       "output_type": "stream",
       "stream": "stdout",
       "text": [
        " 233.602720032 12.4616219997\n",
        "6"
       ]
      },
      {
       "output_type": "stream",
       "stream": "stdout",
       "text": [
        " 0.000509693134512 5.23732089996\n",
        "7"
       ]
      },
      {
       "output_type": "stream",
       "stream": "stdout",
       "text": [
        " 146.951412375 8.73720693588\n",
        "8"
       ]
      },
      {
       "output_type": "stream",
       "stream": "stdout",
       "text": [
        " 0.000562854864092 0.135455131531\n",
        "9"
       ]
      },
      {
       "output_type": "stream",
       "stream": "stdout",
       "text": [
        " 113.887585016 3.29692196846\n",
        "steepest 85.7740814381 30.255916621 5.7767868042 1.18163483527\n",
        "154"
       ]
      },
      {
       "output_type": "stream",
       "stream": "stdout",
       "text": [
        " 5.32499974336e-05 0.126248121262\n",
        "2170"
       ]
      },
      {
       "output_type": "stream",
       "stream": "stdout",
       "text": [
        " 4.34815041428e-06 1.73817777634\n",
        "78"
       ]
      },
      {
       "output_type": "stream",
       "stream": "stdout",
       "text": [
        " 4.97247862475e-06 0.0681519508362\n",
        "200"
       ]
      },
      {
       "output_type": "stream",
       "stream": "stdout",
       "text": [
        " 2.10548821921e-05 0.160758018494\n",
        "66"
       ]
      },
      {
       "output_type": "stream",
       "stream": "stdout",
       "text": [
        " 7.32704135595e-05 0.0545649528503\n",
        "114"
       ]
      },
      {
       "output_type": "stream",
       "stream": "stdout",
       "text": [
        " 1.01363810095e-06 0.0911998748779\n",
        "526"
       ]
      },
      {
       "output_type": "stream",
       "stream": "stdout",
       "text": [
        " 6.82948913715e-07 0.428783893585\n",
        "138"
       ]
      },
      {
       "output_type": "stream",
       "stream": "stdout",
       "text": [
        " 4.51449719341e-05 0.131515979767\n",
        "516"
       ]
      },
      {
       "output_type": "stream",
       "stream": "stdout",
       "text": [
        " 0.000143551695856 0.437618017197\n",
        "314"
       ]
      },
      {
       "output_type": "stream",
       "stream": "stdout",
       "text": [
        " 1.4266663696e-05 0.307064056396\n",
        "conjugate 3.61555840725e-05 1.43251847387e-05 0.35440826416 0.160204068385\n"
       ]
      }
     ],
     "prompt_number": 52
    },
    {
     "cell_type": "code",
     "collapsed": false,
     "input": [
      "from sympy import *"
     ],
     "language": "python",
     "metadata": {},
     "outputs": [],
     "prompt_number": 53
    },
    {
     "cell_type": "code",
     "collapsed": false,
     "input": [
      "x = Symbol('x')"
     ],
     "language": "python",
     "metadata": {},
     "outputs": [],
     "prompt_number": 54
    },
    {
     "cell_type": "code",
     "collapsed": false,
     "input": [
      "y = 2*x**2"
     ],
     "language": "python",
     "metadata": {},
     "outputs": [],
     "prompt_number": 60
    },
    {
     "cell_type": "code",
     "collapsed": false,
     "input": [
      "y"
     ],
     "language": "python",
     "metadata": {},
     "outputs": [
      {
       "metadata": {},
       "output_type": "pyout",
       "prompt_number": 61,
       "text": [
        "2*x**2"
       ]
      }
     ],
     "prompt_number": 61
    },
    {
     "cell_type": "code",
     "collapsed": false,
     "input": [
      "y.diff(x)"
     ],
     "language": "python",
     "metadata": {},
     "outputs": [
      {
       "metadata": {},
       "output_type": "pyout",
       "prompt_number": 62,
       "text": [
        "4*x"
       ]
      }
     ],
     "prompt_number": 62
    },
    {
     "cell_type": "code",
     "collapsed": false,
     "input": [
      "f = lambdify(x,y.diff(x),'numpy')"
     ],
     "language": "python",
     "metadata": {},
     "outputs": [],
     "prompt_number": 65
    },
    {
     "cell_type": "code",
     "collapsed": false,
     "input": [
      "f(2)"
     ],
     "language": "python",
     "metadata": {},
     "outputs": [
      {
       "metadata": {},
       "output_type": "pyout",
       "prompt_number": 66,
       "text": [
        "8"
       ]
      }
     ],
     "prompt_number": 66
    },
    {
     "cell_type": "code",
     "collapsed": false,
     "input": [
      "def SteepestDescent(f,x,y,dim):\n",
      "\tglobal e_abs\n",
      "\tglobal e_f\n",
      "\tglobal e_r\n",
      "\te_G = np.linalg.norm([e_abs for i in range(dim)]) # undecided\n",
      "\tk = 0\n",
      "\tx_0 = np.random.randn(dim)\n",
      "\tfprime = [y.diff(x[i]) for i in range(dim)]\n",
      "\tgradient = lambdify(x[:dim],fprime,'numpy')\n",
      "\tx_k = x_0\n",
      "\tf_old = f(*x_0)\n",
      "\tcounter = 0\n",
      "\twhile True:\n",
      "\t\t# print x_k,f_old,k\n",
      "\t\tg_k = np.array(gradient(*x_k))\n",
      "\t\tif(np.linalg.norm(g_k) < e_G):\n",
      "            print \"a\"\n",
      "            break\n",
      "\t\td_k = -g_k/np.linalg.norm(g_k)\n",
      "\t\tdef f_Alpha(alpha):\n",
      "\t\t\treturn f(*x_k+alpha*d_k)\n",
      "\t\talpha_k, stop = GoldenSection(f_Alpha)\n",
      "\t\tx_k_plus_1 = x_k + alpha_k*d_k\n",
      "\t\tf_new = f(*x_k_plus_1)\n",
      "\t\tif abs(f_new-f_old) <= e_f + e_r*abs(f_old):\n",
      "\t\t\tcounter = counter + 1\n",
      "\t\t\tif counter == 2:\n",
      "                print \"b\"\n",
      "                break\n",
      "\t\telse:\n",
      "\t\t\tcounter = 0\n",
      "\t\t\n",
      "\t\tk = k+1\n",
      "\t\tx_k = x_k_plus_1\n",
      "\t\tf_old = f_new\n",
      "\n",
      "\treturn x_k, f_old"
     ],
     "language": "python",
     "metadata": {},
     "outputs": [
      {
       "ename": "IndentationError",
       "evalue": "unindent does not match any outer indentation level (<ipython-input-75-1d0d0830e025>, line 17)",
       "output_type": "pyerr",
       "traceback": [
        "\u001b[0;36m  File \u001b[0;32m\"<ipython-input-75-1d0d0830e025>\"\u001b[0;36m, line \u001b[0;32m17\u001b[0m\n\u001b[0;31m    print \"a\"\u001b[0m\n\u001b[0m             ^\u001b[0m\n\u001b[0;31mIndentationError\u001b[0m\u001b[0;31m:\u001b[0m unindent does not match any outer indentation level\n"
       ]
      }
     ],
     "prompt_number": 75
    },
    {
     "cell_type": "code",
     "collapsed": false,
     "input": [
      "SteepestDescent(RosenBrock,x_rb,y_rb,2)"
     ],
     "language": "python",
     "metadata": {},
     "outputs": [
      {
       "metadata": {},
       "output_type": "pyout",
       "prompt_number": 76,
       "text": [
        "(array([ 1.0189767 ,  1.03837588]), 0.00036050404057150361)"
       ]
      }
     ],
     "prompt_number": 76
    },
    {
     "cell_type": "code",
     "collapsed": false,
     "input": [],
     "language": "python",
     "metadata": {},
     "outputs": []
    }
   ],
   "metadata": {}
  }
 ]
}