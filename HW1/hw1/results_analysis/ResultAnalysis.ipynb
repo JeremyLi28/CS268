{
 "metadata": {
  "name": "",
  "signature": "sha256:12e11d2ab76089c7f054e84d8d47b0dc733890e1287a611beb6c465bf020243a"
 },
 "nbformat": 3,
 "nbformat_minor": 0,
 "worksheets": [
  {
   "cells": [
    {
     "cell_type": "code",
     "collapsed": false,
     "input": [
      "import numpy as np\n",
      "import pandas as pd\n",
      "from pandas import Series, DataFrame\n",
      "import matplotlib.pyplot as plt"
     ],
     "language": "python",
     "metadata": {},
     "outputs": [],
     "prompt_number": 4
    },
    {
     "cell_type": "heading",
     "level": 1,
     "metadata": {},
     "source": [
      "PLA Result Analysis"
     ]
    },
    {
     "cell_type": "heading",
     "level": 2,
     "metadata": {},
     "source": [
      "I change the step size in GoldenSection method s in 0.01,0.1,1,10, the changes mainly happen from 0.1 to 1, probably because my start point is in this range"
     ]
    },
    {
     "cell_type": "code",
     "collapsed": false,
     "input": [
      "rs = DataFrame.from_csv(\"./results_analysis/results_analysis.csv\")"
     ],
     "language": "python",
     "metadata": {},
     "outputs": [],
     "prompt_number": 22
    },
    {
     "cell_type": "code",
     "collapsed": false,
     "input": [
      "rs[rs.Function==\"f1\"].plot(x='s',y=['time_mean','time_std'])"
     ],
     "language": "python",
     "metadata": {},
     "outputs": [
      {
       "metadata": {},
       "output_type": "pyout",
       "prompt_number": 30,
       "text": [
        "<matplotlib.axes.AxesSubplot at 0x10e0f74d0>"
       ]
      },
      {
       "metadata": {},
       "output_type": "display_data",
       "png": "[encoded data removed]",
       "text": [
        "<matplotlib.figure.Figure at 0x10e0f8990>"
       ]
      }
     ],
     "prompt_number": 30
    },
    {
     "cell_type": "heading",
     "level": 4,
     "metadata": {},
     "source": [
      "We can see that the time's mean and std only changes when s grows from 0.1 to 1, and remain steady afterwards."
     ]
    },
    {
     "cell_type": "code",
     "collapsed": false,
     "input": [
      "rs[rs.Function==\"f1\"].plot(x='s',y=['dist_mean','dist_std'])"
     ],
     "language": "python",
     "metadata": {},
     "outputs": [
      {
       "metadata": {},
       "output_type": "pyout",
       "prompt_number": 31,
       "text": [
        "<matplotlib.axes.AxesSubplot at 0x10e586350>"
       ]
      },
      {
       "metadata": {},
       "output_type": "display_data",
       "png": "[encoded data removed]",
       "text": [
        "<matplotlib.figure.Figure at 0x10ddc3cd0>"
       ]
      }
     ],
     "prompt_number": 31
    },
    {
     "cell_type": "heading",
     "level": 4,
     "metadata": {},
     "source": [
      "We can see that the distance's mean and std both decrease when s transform from 0.1 to 1, then mean grow steadly while std remain stable"
     ]
    },
    {
     "cell_type": "code",
     "collapsed": false,
     "input": [
      "rs[rs.Function==\"f1\"].plot(x='s',y=['iterNum_mean','iterNum_std'])"
     ],
     "language": "python",
     "metadata": {},
     "outputs": [
      {
       "metadata": {},
       "output_type": "pyout",
       "prompt_number": 32,
       "text": [
        "<matplotlib.axes.AxesSubplot at 0x10e5b8050>"
       ]
      },
      {
       "metadata": {},
       "output_type": "display_data",
       "png": "[encoded data removed]",
       "text": [
        "<matplotlib.figure.Figure at 0x10e074ad0>"
       ]
      }
     ],
     "prompt_number": 32
    },
    {
     "cell_type": "heading",
     "level": 4,
     "metadata": {},
     "source": [
      "We can see that the iterNum grows when the s grows, but the std remain steady."
     ]
    },
    {
     "cell_type": "code",
     "collapsed": false,
     "input": [
      "rs"
     ],
     "language": "python",
     "metadata": {},
     "outputs": [
      {
       "html": [
        "<div style=\"max-height:1000px;max-width:1500px;overflow:auto;\">\n",
        "<table border=\"1\" class=\"dataframe\">\n",
        "  <thead>\n",
        "    <tr style=\"text-align: right;\">\n",
        "      <th></th>\n",
        "      <th>Function</th>\n",
        "      <th>s</th>\n",
        "      <th>time_mean</th>\n",
        "      <th>time_std</th>\n",
        "      <th>dist_mean</th>\n",
        "      <th>dist_std</th>\n",
        "      <th>iterNum_mean</th>\n",
        "      <th>iterNum_std</th>\n",
        "    </tr>\n",
        "  </thead>\n",
        "  <tbody>\n",
        "    <tr>\n",
        "      <th>0 </th>\n",
        "      <td> f1</td>\n",
        "      <td>  0.01</td>\n",
        "      <td> 0.000732</td>\n",
        "      <td> 0.000031</td>\n",
        "      <td> 2.755684e-06</td>\n",
        "      <td> 3.196428e-07</td>\n",
        "      <td> 11.86</td>\n",
        "      <td> 0.232551</td>\n",
        "    </tr>\n",
        "    <tr>\n",
        "      <th>1 </th>\n",
        "      <td> f2</td>\n",
        "      <td>  0.01</td>\n",
        "      <td> 0.001018</td>\n",
        "      <td> 0.000275</td>\n",
        "      <td> 1.368521e-05</td>\n",
        "      <td> 4.631235e-07</td>\n",
        "      <td> 12.68</td>\n",
        "      <td> 0.178922</td>\n",
        "    </tr>\n",
        "    <tr>\n",
        "      <th>2 </th>\n",
        "      <td> f3</td>\n",
        "      <td>  0.01</td>\n",
        "      <td> 0.000552</td>\n",
        "      <td> 0.000028</td>\n",
        "      <td> 2.071679e-09</td>\n",
        "      <td> 5.278872e-10</td>\n",
        "      <td>  6.56</td>\n",
        "      <td> 0.200153</td>\n",
        "    </tr>\n",
        "    <tr>\n",
        "      <th>3 </th>\n",
        "      <td> f1</td>\n",
        "      <td>  0.10</td>\n",
        "      <td> 0.000644</td>\n",
        "      <td> 0.000023</td>\n",
        "      <td> 3.500159e-06</td>\n",
        "      <td> 4.742405e-07</td>\n",
        "      <td> 11.60</td>\n",
        "      <td> 0.206021</td>\n",
        "    </tr>\n",
        "    <tr>\n",
        "      <th>4 </th>\n",
        "      <td> f2</td>\n",
        "      <td>  0.10</td>\n",
        "      <td> 0.000967</td>\n",
        "      <td> 0.000081</td>\n",
        "      <td> 1.418811e-05</td>\n",
        "      <td> 4.800911e-07</td>\n",
        "      <td> 13.02</td>\n",
        "      <td> 0.210906</td>\n",
        "    </tr>\n",
        "    <tr>\n",
        "      <th>5 </th>\n",
        "      <td> f3</td>\n",
        "      <td>  0.10</td>\n",
        "      <td> 0.000588</td>\n",
        "      <td> 0.000023</td>\n",
        "      <td> 1.136696e-09</td>\n",
        "      <td> 2.615918e-10</td>\n",
        "      <td>  6.76</td>\n",
        "      <td> 0.189037</td>\n",
        "    </tr>\n",
        "    <tr>\n",
        "      <th>6 </th>\n",
        "      <td> f1</td>\n",
        "      <td>  1.00</td>\n",
        "      <td> 0.000742</td>\n",
        "      <td> 0.000056</td>\n",
        "      <td> 2.712717e-06</td>\n",
        "      <td> 3.429524e-07</td>\n",
        "      <td> 12.78</td>\n",
        "      <td> 0.130596</td>\n",
        "    </tr>\n",
        "    <tr>\n",
        "      <th>7 </th>\n",
        "      <td> f2</td>\n",
        "      <td>  1.00</td>\n",
        "      <td> 0.000622</td>\n",
        "      <td> 0.000020</td>\n",
        "      <td> 1.333938e-05</td>\n",
        "      <td> 3.992044e-07</td>\n",
        "      <td> 13.90</td>\n",
        "      <td> 0.141053</td>\n",
        "    </tr>\n",
        "    <tr>\n",
        "      <th>8 </th>\n",
        "      <td> f3</td>\n",
        "      <td>  1.00</td>\n",
        "      <td> 0.000552</td>\n",
        "      <td> 0.000023</td>\n",
        "      <td> 4.217303e-10</td>\n",
        "      <td> 1.255051e-10</td>\n",
        "      <td>  7.34</td>\n",
        "      <td> 0.148605</td>\n",
        "    </tr>\n",
        "    <tr>\n",
        "      <th>9 </th>\n",
        "      <td> f1</td>\n",
        "      <td> 10.00</td>\n",
        "      <td> 0.000763</td>\n",
        "      <td> 0.000027</td>\n",
        "      <td> 3.484385e-06</td>\n",
        "      <td> 3.609999e-07</td>\n",
        "      <td> 15.32</td>\n",
        "      <td> 0.095699</td>\n",
        "    </tr>\n",
        "    <tr>\n",
        "      <th>10</th>\n",
        "      <td> f2</td>\n",
        "      <td> 10.00</td>\n",
        "      <td> 0.001064</td>\n",
        "      <td> 0.000056</td>\n",
        "      <td> 1.345645e-05</td>\n",
        "      <td> 3.070195e-07</td>\n",
        "      <td> 16.44</td>\n",
        "      <td> 0.083686</td>\n",
        "    </tr>\n",
        "    <tr>\n",
        "      <th>11</th>\n",
        "      <td> f3</td>\n",
        "      <td> 10.00</td>\n",
        "      <td> 0.000760</td>\n",
        "      <td> 0.000039</td>\n",
        "      <td> 4.386767e-10</td>\n",
        "      <td> 1.180264e-10</td>\n",
        "      <td> 10.02</td>\n",
        "      <td> 0.020101</td>\n",
        "    </tr>\n",
        "  </tbody>\n",
        "</table>\n",
        "</div>"
       ],
       "metadata": {},
       "output_type": "pyout",
       "prompt_number": 33,
       "text": [
        "   Function      s  time_mean  time_std     dist_mean      dist_std  \\\n",
        "0        f1   0.01   0.000732  0.000031  2.755684e-06  3.196428e-07   \n",
        "1        f2   0.01   0.001018  0.000275  1.368521e-05  4.631235e-07   \n",
        "2        f3   0.01   0.000552  0.000028  2.071679e-09  5.278872e-10   \n",
        "3        f1   0.10   0.000644  0.000023  3.500159e-06  4.742405e-07   \n",
        "4        f2   0.10   0.000967  0.000081  1.418811e-05  4.800911e-07   \n",
        "5        f3   0.10   0.000588  0.000023  1.136696e-09  2.615918e-10   \n",
        "6        f1   1.00   0.000742  0.000056  2.712717e-06  3.429524e-07   \n",
        "7        f2   1.00   0.000622  0.000020  1.333938e-05  3.992044e-07   \n",
        "8        f3   1.00   0.000552  0.000023  4.217303e-10  1.255051e-10   \n",
        "9        f1  10.00   0.000763  0.000027  3.484385e-06  3.609999e-07   \n",
        "10       f2  10.00   0.001064  0.000056  1.345645e-05  3.070195e-07   \n",
        "11       f3  10.00   0.000760  0.000039  4.386767e-10  1.180264e-10   \n",
        "\n",
        "    iterNum_mean  iterNum_std  \n",
        "0          11.86     0.232551  \n",
        "1          12.68     0.178922  \n",
        "2           6.56     0.200153  \n",
        "3          11.60     0.206021  \n",
        "4          13.02     0.210906  \n",
        "5           6.76     0.189037  \n",
        "6          12.78     0.130596  \n",
        "7          13.90     0.141053  \n",
        "8           7.34     0.148605  \n",
        "9          15.32     0.095699  \n",
        "10         16.44     0.083686  \n",
        "11         10.02     0.020101  "
       ]
      }
     ],
     "prompt_number": 33
    }
   ],
   "metadata": {}
  }
 ]
}